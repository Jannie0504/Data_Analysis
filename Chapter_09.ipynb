{
 "cells": [
  {
   "cell_type": "markdown",
   "id": "41bd941d",
   "metadata": {},
   "source": [
    "# Chapter 09 : 데이터 분석 프로젝트 - 한국인의 삶을 파악하라!\n",
    "## 1. '한국복지패널 데이터' 분석 준비하기\n",
    "### 한국복지패널 데이터\n",
    "#### 한국보건사회연구원에서 우리나라 가구의 경제활동을 연구해 복지정책에 반영할 목적으로 발간하는 조사 자료\n",
    "#### 전국에서 7,000여 가구를 선정, 2006년부터 매년 추적 조사한 자료\n",
    "#### 경제활동, 생활실태, 복지욕구 등 천여 개 변수로 구성"
   ]
  },
  {
   "cell_type": "markdown",
   "id": "d577f0ae",
   "metadata": {},
   "source": [
    "### 데이터 분석 준비하기\n",
    "#### 데이터 : Koweps_hpwc14_2019_beta2.sav\n",
    "#### 출처 : https://github.com/youngwoos/Doit_Python/tree/main/Data\n",
    "#### .sav 파일 : 통계 분석 소프트웨어 SPSS 전용 파일\n",
    "#### pyreadstat 패키지 설치 (SPSS, SAS, STATA 등 다양한 통계 분석 소프트웨어 파일 불러오기 가능)\n",
    "#### pip install pyreadstat"
   ]
  },
  {
   "cell_type": "code",
   "execution_count": 180,
   "id": "0165ba94",
   "metadata": {},
   "outputs": [],
   "source": [
    "import pandas as pd\n",
    "import numpy as np\n",
    "import seaborn as sns"
   ]
  },
  {
   "cell_type": "code",
   "execution_count": 181,
   "id": "9445fa20",
   "metadata": {},
   "outputs": [],
   "source": [
    "# 데이터 불러오기\n",
    "raw_welfare = pd.read_spss('Koweps_hpwc14_2019_beta2.sav')\n",
    "\n",
    "# 복사본 만들기\n",
    "welfare = raw_welfare.copy()"
   ]
  },
  {
   "cell_type": "code",
   "execution_count": 182,
   "id": "9214e9ff",
   "metadata": {},
   "outputs": [
    {
     "data": {
      "text/html": [
       "<div>\n",
       "<style scoped>\n",
       "    .dataframe tbody tr th:only-of-type {\n",
       "        vertical-align: middle;\n",
       "    }\n",
       "\n",
       "    .dataframe tbody tr th {\n",
       "        vertical-align: top;\n",
       "    }\n",
       "\n",
       "    .dataframe thead th {\n",
       "        text-align: right;\n",
       "    }\n",
       "</style>\n",
       "<table border=\"1\" class=\"dataframe\">\n",
       "  <thead>\n",
       "    <tr style=\"text-align: right;\">\n",
       "      <th></th>\n",
       "      <th>h14_id</th>\n",
       "      <th>h14_ind</th>\n",
       "      <th>h14_sn</th>\n",
       "      <th>h14_merkey</th>\n",
       "      <th>h_new</th>\n",
       "      <th>h14_cobf</th>\n",
       "      <th>p14_wsc</th>\n",
       "      <th>p14_wsl</th>\n",
       "      <th>p14_wgc</th>\n",
       "      <th>p14_wgl</th>\n",
       "      <th>...</th>\n",
       "      <th>wc14_64</th>\n",
       "      <th>wc14_65</th>\n",
       "      <th>wc14_5aq4</th>\n",
       "      <th>wc14_5aq5</th>\n",
       "      <th>wc14_5aq6</th>\n",
       "      <th>h14_pers_income1</th>\n",
       "      <th>h14_pers_income2</th>\n",
       "      <th>h14_pers_income3</th>\n",
       "      <th>h14_pers_income4</th>\n",
       "      <th>h14_pers_income5</th>\n",
       "    </tr>\n",
       "  </thead>\n",
       "  <tbody>\n",
       "    <tr>\n",
       "      <th>0</th>\n",
       "      <td>2.0</td>\n",
       "      <td>1.0</td>\n",
       "      <td>1.0</td>\n",
       "      <td>20101.0</td>\n",
       "      <td>0.0</td>\n",
       "      <td>NaN</td>\n",
       "      <td>0.291589</td>\n",
       "      <td>0.291589</td>\n",
       "      <td>1307.764781</td>\n",
       "      <td>1307.764781</td>\n",
       "      <td>...</td>\n",
       "      <td>NaN</td>\n",
       "      <td></td>\n",
       "      <td>NaN</td>\n",
       "      <td>NaN</td>\n",
       "      <td>NaN</td>\n",
       "      <td>NaN</td>\n",
       "      <td>NaN</td>\n",
       "      <td>NaN</td>\n",
       "      <td>0.0</td>\n",
       "      <td>NaN</td>\n",
       "    </tr>\n",
       "    <tr>\n",
       "      <th>1</th>\n",
       "      <td>3.0</td>\n",
       "      <td>1.0</td>\n",
       "      <td>1.0</td>\n",
       "      <td>30101.0</td>\n",
       "      <td>0.0</td>\n",
       "      <td>NaN</td>\n",
       "      <td>0.419753</td>\n",
       "      <td>0.419753</td>\n",
       "      <td>1882.570960</td>\n",
       "      <td>1882.570960</td>\n",
       "      <td>...</td>\n",
       "      <td>NaN</td>\n",
       "      <td></td>\n",
       "      <td>NaN</td>\n",
       "      <td>NaN</td>\n",
       "      <td>NaN</td>\n",
       "      <td>NaN</td>\n",
       "      <td>NaN</td>\n",
       "      <td>NaN</td>\n",
       "      <td>0.0</td>\n",
       "      <td>NaN</td>\n",
       "    </tr>\n",
       "    <tr>\n",
       "      <th>2</th>\n",
       "      <td>4.0</td>\n",
       "      <td>1.0</td>\n",
       "      <td>1.0</td>\n",
       "      <td>40101.0</td>\n",
       "      <td>0.0</td>\n",
       "      <td>NaN</td>\n",
       "      <td>0.265263</td>\n",
       "      <td>0.265980</td>\n",
       "      <td>1189.691668</td>\n",
       "      <td>1192.908537</td>\n",
       "      <td>...</td>\n",
       "      <td>NaN</td>\n",
       "      <td></td>\n",
       "      <td>NaN</td>\n",
       "      <td>NaN</td>\n",
       "      <td>NaN</td>\n",
       "      <td>NaN</td>\n",
       "      <td>1284.0</td>\n",
       "      <td>NaN</td>\n",
       "      <td>0.0</td>\n",
       "      <td>NaN</td>\n",
       "    </tr>\n",
       "    <tr>\n",
       "      <th>3</th>\n",
       "      <td>6.0</td>\n",
       "      <td>1.0</td>\n",
       "      <td>1.0</td>\n",
       "      <td>60101.0</td>\n",
       "      <td>0.0</td>\n",
       "      <td>NaN</td>\n",
       "      <td>0.494906</td>\n",
       "      <td>0.495941</td>\n",
       "      <td>2219.630833</td>\n",
       "      <td>2224.273816</td>\n",
       "      <td>...</td>\n",
       "      <td>1.0</td>\n",
       "      <td>.</td>\n",
       "      <td>2.0</td>\n",
       "      <td>4.0</td>\n",
       "      <td>4.0</td>\n",
       "      <td>2304.0</td>\n",
       "      <td>NaN</td>\n",
       "      <td>1800.0</td>\n",
       "      <td>0.0</td>\n",
       "      <td>NaN</td>\n",
       "    </tr>\n",
       "    <tr>\n",
       "      <th>4</th>\n",
       "      <td>6.0</td>\n",
       "      <td>1.0</td>\n",
       "      <td>1.0</td>\n",
       "      <td>60101.0</td>\n",
       "      <td>0.0</td>\n",
       "      <td>NaN</td>\n",
       "      <td>1.017935</td>\n",
       "      <td>1.017935</td>\n",
       "      <td>4565.389177</td>\n",
       "      <td>4565.389177</td>\n",
       "      <td>...</td>\n",
       "      <td>1.0</td>\n",
       "      <td>.</td>\n",
       "      <td>1.0</td>\n",
       "      <td>5.0</td>\n",
       "      <td>2.0</td>\n",
       "      <td>NaN</td>\n",
       "      <td>NaN</td>\n",
       "      <td>NaN</td>\n",
       "      <td>0.0</td>\n",
       "      <td>NaN</td>\n",
       "    </tr>\n",
       "    <tr>\n",
       "      <th>...</th>\n",
       "      <td>...</td>\n",
       "      <td>...</td>\n",
       "      <td>...</td>\n",
       "      <td>...</td>\n",
       "      <td>...</td>\n",
       "      <td>...</td>\n",
       "      <td>...</td>\n",
       "      <td>...</td>\n",
       "      <td>...</td>\n",
       "      <td>...</td>\n",
       "      <td>...</td>\n",
       "      <td>...</td>\n",
       "      <td>...</td>\n",
       "      <td>...</td>\n",
       "      <td>...</td>\n",
       "      <td>...</td>\n",
       "      <td>...</td>\n",
       "      <td>...</td>\n",
       "      <td>...</td>\n",
       "      <td>...</td>\n",
       "      <td>...</td>\n",
       "    </tr>\n",
       "    <tr>\n",
       "      <th>14413</th>\n",
       "      <td>9800.0</td>\n",
       "      <td>7.0</td>\n",
       "      <td>1.0</td>\n",
       "      <td>98000701.0</td>\n",
       "      <td>1.0</td>\n",
       "      <td>NaN</td>\n",
       "      <td>NaN</td>\n",
       "      <td>NaN</td>\n",
       "      <td>NaN</td>\n",
       "      <td>NaN</td>\n",
       "      <td>...</td>\n",
       "      <td>NaN</td>\n",
       "      <td></td>\n",
       "      <td>NaN</td>\n",
       "      <td>NaN</td>\n",
       "      <td>NaN</td>\n",
       "      <td>NaN</td>\n",
       "      <td>NaN</td>\n",
       "      <td>NaN</td>\n",
       "      <td>0.0</td>\n",
       "      <td>NaN</td>\n",
       "    </tr>\n",
       "    <tr>\n",
       "      <th>14414</th>\n",
       "      <td>9800.0</td>\n",
       "      <td>7.0</td>\n",
       "      <td>1.0</td>\n",
       "      <td>98000701.0</td>\n",
       "      <td>1.0</td>\n",
       "      <td>NaN</td>\n",
       "      <td>NaN</td>\n",
       "      <td>NaN</td>\n",
       "      <td>NaN</td>\n",
       "      <td>NaN</td>\n",
       "      <td>...</td>\n",
       "      <td>NaN</td>\n",
       "      <td></td>\n",
       "      <td>NaN</td>\n",
       "      <td>NaN</td>\n",
       "      <td>NaN</td>\n",
       "      <td>NaN</td>\n",
       "      <td>NaN</td>\n",
       "      <td>NaN</td>\n",
       "      <td>0.0</td>\n",
       "      <td>NaN</td>\n",
       "    </tr>\n",
       "    <tr>\n",
       "      <th>14415</th>\n",
       "      <td>9800.0</td>\n",
       "      <td>7.0</td>\n",
       "      <td>1.0</td>\n",
       "      <td>98000701.0</td>\n",
       "      <td>1.0</td>\n",
       "      <td>NaN</td>\n",
       "      <td>NaN</td>\n",
       "      <td>NaN</td>\n",
       "      <td>NaN</td>\n",
       "      <td>NaN</td>\n",
       "      <td>...</td>\n",
       "      <td>NaN</td>\n",
       "      <td></td>\n",
       "      <td>NaN</td>\n",
       "      <td>NaN</td>\n",
       "      <td>NaN</td>\n",
       "      <td>NaN</td>\n",
       "      <td>208.0</td>\n",
       "      <td>NaN</td>\n",
       "      <td>0.0</td>\n",
       "      <td>NaN</td>\n",
       "    </tr>\n",
       "    <tr>\n",
       "      <th>14416</th>\n",
       "      <td>9800.0</td>\n",
       "      <td>7.0</td>\n",
       "      <td>1.0</td>\n",
       "      <td>98000701.0</td>\n",
       "      <td>1.0</td>\n",
       "      <td>NaN</td>\n",
       "      <td>NaN</td>\n",
       "      <td>NaN</td>\n",
       "      <td>NaN</td>\n",
       "      <td>NaN</td>\n",
       "      <td>...</td>\n",
       "      <td>5.0</td>\n",
       "      <td>.</td>\n",
       "      <td>4.0</td>\n",
       "      <td>3.0</td>\n",
       "      <td>3.0</td>\n",
       "      <td>NaN</td>\n",
       "      <td>1200.0</td>\n",
       "      <td>NaN</td>\n",
       "      <td>0.0</td>\n",
       "      <td>NaN</td>\n",
       "    </tr>\n",
       "    <tr>\n",
       "      <th>14417</th>\n",
       "      <td>9800.0</td>\n",
       "      <td>7.0</td>\n",
       "      <td>1.0</td>\n",
       "      <td>98000701.0</td>\n",
       "      <td>1.0</td>\n",
       "      <td>NaN</td>\n",
       "      <td>NaN</td>\n",
       "      <td>NaN</td>\n",
       "      <td>NaN</td>\n",
       "      <td>NaN</td>\n",
       "      <td>...</td>\n",
       "      <td>NaN</td>\n",
       "      <td></td>\n",
       "      <td>NaN</td>\n",
       "      <td>NaN</td>\n",
       "      <td>NaN</td>\n",
       "      <td>NaN</td>\n",
       "      <td>NaN</td>\n",
       "      <td>NaN</td>\n",
       "      <td>0.0</td>\n",
       "      <td>NaN</td>\n",
       "    </tr>\n",
       "  </tbody>\n",
       "</table>\n",
       "<p>14418 rows × 830 columns</p>\n",
       "</div>"
      ],
      "text/plain": [
       "       h14_id  h14_ind  h14_sn  h14_merkey  h_new  h14_cobf   p14_wsc  \\\n",
       "0         2.0      1.0     1.0     20101.0    0.0       NaN  0.291589   \n",
       "1         3.0      1.0     1.0     30101.0    0.0       NaN  0.419753   \n",
       "2         4.0      1.0     1.0     40101.0    0.0       NaN  0.265263   \n",
       "3         6.0      1.0     1.0     60101.0    0.0       NaN  0.494906   \n",
       "4         6.0      1.0     1.0     60101.0    0.0       NaN  1.017935   \n",
       "...       ...      ...     ...         ...    ...       ...       ...   \n",
       "14413  9800.0      7.0     1.0  98000701.0    1.0       NaN       NaN   \n",
       "14414  9800.0      7.0     1.0  98000701.0    1.0       NaN       NaN   \n",
       "14415  9800.0      7.0     1.0  98000701.0    1.0       NaN       NaN   \n",
       "14416  9800.0      7.0     1.0  98000701.0    1.0       NaN       NaN   \n",
       "14417  9800.0      7.0     1.0  98000701.0    1.0       NaN       NaN   \n",
       "\n",
       "        p14_wsl      p14_wgc      p14_wgl  ...  wc14_64  wc14_65  wc14_5aq4  \\\n",
       "0      0.291589  1307.764781  1307.764781  ...      NaN                 NaN   \n",
       "1      0.419753  1882.570960  1882.570960  ...      NaN                 NaN   \n",
       "2      0.265980  1189.691668  1192.908537  ...      NaN                 NaN   \n",
       "3      0.495941  2219.630833  2224.273816  ...      1.0        .        2.0   \n",
       "4      1.017935  4565.389177  4565.389177  ...      1.0        .        1.0   \n",
       "...         ...          ...          ...  ...      ...      ...        ...   \n",
       "14413       NaN          NaN          NaN  ...      NaN                 NaN   \n",
       "14414       NaN          NaN          NaN  ...      NaN                 NaN   \n",
       "14415       NaN          NaN          NaN  ...      NaN                 NaN   \n",
       "14416       NaN          NaN          NaN  ...      5.0        .        4.0   \n",
       "14417       NaN          NaN          NaN  ...      NaN                 NaN   \n",
       "\n",
       "       wc14_5aq5  wc14_5aq6  h14_pers_income1  h14_pers_income2  \\\n",
       "0            NaN        NaN               NaN               NaN   \n",
       "1            NaN        NaN               NaN               NaN   \n",
       "2            NaN        NaN               NaN            1284.0   \n",
       "3            4.0        4.0            2304.0               NaN   \n",
       "4            5.0        2.0               NaN               NaN   \n",
       "...          ...        ...               ...               ...   \n",
       "14413        NaN        NaN               NaN               NaN   \n",
       "14414        NaN        NaN               NaN               NaN   \n",
       "14415        NaN        NaN               NaN             208.0   \n",
       "14416        3.0        3.0               NaN            1200.0   \n",
       "14417        NaN        NaN               NaN               NaN   \n",
       "\n",
       "       h14_pers_income3  h14_pers_income4  h14_pers_income5  \n",
       "0                   NaN               0.0               NaN  \n",
       "1                   NaN               0.0               NaN  \n",
       "2                   NaN               0.0               NaN  \n",
       "3                1800.0               0.0               NaN  \n",
       "4                   NaN               0.0               NaN  \n",
       "...                 ...               ...               ...  \n",
       "14413               NaN               0.0               NaN  \n",
       "14414               NaN               0.0               NaN  \n",
       "14415               NaN               0.0               NaN  \n",
       "14416               NaN               0.0               NaN  \n",
       "14417               NaN               0.0               NaN  \n",
       "\n",
       "[14418 rows x 830 columns]"
      ]
     },
     "execution_count": 182,
     "metadata": {},
     "output_type": "execute_result"
    }
   ],
   "source": [
    "welfare"
   ]
  },
  {
   "cell_type": "code",
   "execution_count": 183,
   "id": "36a47d5c",
   "metadata": {},
   "outputs": [
    {
     "data": {
      "text/plain": [
       "(14418, 830)"
      ]
     },
     "execution_count": 183,
     "metadata": {},
     "output_type": "execute_result"
    }
   ],
   "source": [
    "welfare.shape"
   ]
  },
  {
   "cell_type": "code",
   "execution_count": 184,
   "id": "e44d4ea4",
   "metadata": {},
   "outputs": [
    {
     "name": "stdout",
     "output_type": "stream",
     "text": [
      "<class 'pandas.core.frame.DataFrame'>\n",
      "RangeIndex: 14418 entries, 0 to 14417\n",
      "Columns: 830 entries, h14_id to h14_pers_income5\n",
      "dtypes: float64(826), object(4)\n",
      "memory usage: 91.3+ MB\n"
     ]
    }
   ],
   "source": [
    "welfare.info()"
   ]
  },
  {
   "cell_type": "code",
   "execution_count": 185,
   "id": "ee0d6e8c",
   "metadata": {},
   "outputs": [
    {
     "data": {
      "text/html": [
       "<div>\n",
       "<style scoped>\n",
       "    .dataframe tbody tr th:only-of-type {\n",
       "        vertical-align: middle;\n",
       "    }\n",
       "\n",
       "    .dataframe tbody tr th {\n",
       "        vertical-align: top;\n",
       "    }\n",
       "\n",
       "    .dataframe thead th {\n",
       "        text-align: right;\n",
       "    }\n",
       "</style>\n",
       "<table border=\"1\" class=\"dataframe\">\n",
       "  <thead>\n",
       "    <tr style=\"text-align: right;\">\n",
       "      <th></th>\n",
       "      <th>h14_id</th>\n",
       "      <th>h14_ind</th>\n",
       "      <th>h14_sn</th>\n",
       "      <th>h14_merkey</th>\n",
       "      <th>h_new</th>\n",
       "      <th>h14_cobf</th>\n",
       "      <th>p14_wsc</th>\n",
       "      <th>p14_wsl</th>\n",
       "      <th>p14_wgc</th>\n",
       "      <th>p14_wgl</th>\n",
       "      <th>...</th>\n",
       "      <th>wc14_63</th>\n",
       "      <th>wc14_64</th>\n",
       "      <th>wc14_5aq4</th>\n",
       "      <th>wc14_5aq5</th>\n",
       "      <th>wc14_5aq6</th>\n",
       "      <th>h14_pers_income1</th>\n",
       "      <th>h14_pers_income2</th>\n",
       "      <th>h14_pers_income3</th>\n",
       "      <th>h14_pers_income4</th>\n",
       "      <th>h14_pers_income5</th>\n",
       "    </tr>\n",
       "  </thead>\n",
       "  <tbody>\n",
       "    <tr>\n",
       "      <th>count</th>\n",
       "      <td>14418.000000</td>\n",
       "      <td>14418.000000</td>\n",
       "      <td>14418.000000</td>\n",
       "      <td>1.441800e+04</td>\n",
       "      <td>14418.000000</td>\n",
       "      <td>121.000000</td>\n",
       "      <td>11513.000000</td>\n",
       "      <td>11513.000000</td>\n",
       "      <td>11513.000000</td>\n",
       "      <td>11513.000000</td>\n",
       "      <td>...</td>\n",
       "      <td>2027.000000</td>\n",
       "      <td>2027.000000</td>\n",
       "      <td>2027.000000</td>\n",
       "      <td>2027.000000</td>\n",
       "      <td>2027.000000</td>\n",
       "      <td>2659.000000</td>\n",
       "      <td>3331.000000</td>\n",
       "      <td>989.000000</td>\n",
       "      <td>14418.000000</td>\n",
       "      <td>715.000000</td>\n",
       "    </tr>\n",
       "    <tr>\n",
       "      <th>mean</th>\n",
       "      <td>4672.108406</td>\n",
       "      <td>3.121723</td>\n",
       "      <td>1.004855</td>\n",
       "      <td>4.672140e+07</td>\n",
       "      <td>0.201484</td>\n",
       "      <td>2.256198</td>\n",
       "      <td>1.000000</td>\n",
       "      <td>1.000000</td>\n",
       "      <td>4484.952219</td>\n",
       "      <td>4484.952541</td>\n",
       "      <td>...</td>\n",
       "      <td>3.211643</td>\n",
       "      <td>3.743957</td>\n",
       "      <td>3.513567</td>\n",
       "      <td>4.100641</td>\n",
       "      <td>3.233350</td>\n",
       "      <td>4141.380594</td>\n",
       "      <td>1389.440408</td>\n",
       "      <td>3457.835187</td>\n",
       "      <td>2.038702</td>\n",
       "      <td>1183.292308</td>\n",
       "    </tr>\n",
       "    <tr>\n",
       "      <th>std</th>\n",
       "      <td>2792.998128</td>\n",
       "      <td>3.297963</td>\n",
       "      <td>0.143205</td>\n",
       "      <td>2.793014e+07</td>\n",
       "      <td>0.401123</td>\n",
       "      <td>1.675952</td>\n",
       "      <td>0.906021</td>\n",
       "      <td>1.016782</td>\n",
       "      <td>4063.459773</td>\n",
       "      <td>4560.218659</td>\n",
       "      <td>...</td>\n",
       "      <td>2.174768</td>\n",
       "      <td>3.138629</td>\n",
       "      <td>1.045929</td>\n",
       "      <td>0.937712</td>\n",
       "      <td>1.289456</td>\n",
       "      <td>2583.755449</td>\n",
       "      <td>1211.910836</td>\n",
       "      <td>6619.516319</td>\n",
       "      <td>32.965477</td>\n",
       "      <td>2147.418274</td>\n",
       "    </tr>\n",
       "    <tr>\n",
       "      <th>min</th>\n",
       "      <td>2.000000</td>\n",
       "      <td>1.000000</td>\n",
       "      <td>1.000000</td>\n",
       "      <td>2.010100e+04</td>\n",
       "      <td>0.000000</td>\n",
       "      <td>1.000000</td>\n",
       "      <td>0.001998</td>\n",
       "      <td>0.000000</td>\n",
       "      <td>8.960093</td>\n",
       "      <td>0.000000</td>\n",
       "      <td>...</td>\n",
       "      <td>1.000000</td>\n",
       "      <td>1.000000</td>\n",
       "      <td>1.000000</td>\n",
       "      <td>1.000000</td>\n",
       "      <td>1.000000</td>\n",
       "      <td>0.000000</td>\n",
       "      <td>0.000000</td>\n",
       "      <td>-47000.000000</td>\n",
       "      <td>0.000000</td>\n",
       "      <td>-10600.000000</td>\n",
       "    </tr>\n",
       "    <tr>\n",
       "      <th>25%</th>\n",
       "      <td>2356.000000</td>\n",
       "      <td>1.000000</td>\n",
       "      <td>1.000000</td>\n",
       "      <td>2.356030e+07</td>\n",
       "      <td>0.000000</td>\n",
       "      <td>1.000000</td>\n",
       "      <td>0.341814</td>\n",
       "      <td>0.269286</td>\n",
       "      <td>1533.021553</td>\n",
       "      <td>1207.736094</td>\n",
       "      <td>...</td>\n",
       "      <td>1.000000</td>\n",
       "      <td>2.000000</td>\n",
       "      <td>3.000000</td>\n",
       "      <td>4.000000</td>\n",
       "      <td>2.000000</td>\n",
       "      <td>2448.000000</td>\n",
       "      <td>391.500000</td>\n",
       "      <td>1000.000000</td>\n",
       "      <td>0.000000</td>\n",
       "      <td>206.000000</td>\n",
       "    </tr>\n",
       "    <tr>\n",
       "      <th>50%</th>\n",
       "      <td>4535.000000</td>\n",
       "      <td>1.000000</td>\n",
       "      <td>1.000000</td>\n",
       "      <td>4.535010e+07</td>\n",
       "      <td>0.000000</td>\n",
       "      <td>2.000000</td>\n",
       "      <td>0.726304</td>\n",
       "      <td>0.704045</td>\n",
       "      <td>3257.436901</td>\n",
       "      <td>3157.609630</td>\n",
       "      <td>...</td>\n",
       "      <td>3.000000</td>\n",
       "      <td>3.000000</td>\n",
       "      <td>4.000000</td>\n",
       "      <td>4.000000</td>\n",
       "      <td>3.000000</td>\n",
       "      <td>3540.000000</td>\n",
       "      <td>1116.000000</td>\n",
       "      <td>2498.000000</td>\n",
       "      <td>0.000000</td>\n",
       "      <td>530.000000</td>\n",
       "    </tr>\n",
       "    <tr>\n",
       "      <th>75%</th>\n",
       "      <td>6616.000000</td>\n",
       "      <td>7.000000</td>\n",
       "      <td>1.000000</td>\n",
       "      <td>6.616010e+07</td>\n",
       "      <td>0.000000</td>\n",
       "      <td>2.000000</td>\n",
       "      <td>1.366071</td>\n",
       "      <td>1.390045</td>\n",
       "      <td>6126.762919</td>\n",
       "      <td>6234.287538</td>\n",
       "      <td>...</td>\n",
       "      <td>5.000000</td>\n",
       "      <td>5.000000</td>\n",
       "      <td>4.000000</td>\n",
       "      <td>5.000000</td>\n",
       "      <td>4.000000</td>\n",
       "      <td>5378.500000</td>\n",
       "      <td>2040.000000</td>\n",
       "      <td>4687.000000</td>\n",
       "      <td>0.000000</td>\n",
       "      <td>1295.000000</td>\n",
       "    </tr>\n",
       "    <tr>\n",
       "      <th>max</th>\n",
       "      <td>9800.000000</td>\n",
       "      <td>14.000000</td>\n",
       "      <td>9.000000</td>\n",
       "      <td>9.800070e+07</td>\n",
       "      <td>1.000000</td>\n",
       "      <td>7.000000</td>\n",
       "      <td>4.727006</td>\n",
       "      <td>5.790039</td>\n",
       "      <td>21200.393903</td>\n",
       "      <td>25968.049029</td>\n",
       "      <td>...</td>\n",
       "      <td>9.000000</td>\n",
       "      <td>99.000000</td>\n",
       "      <td>9.000000</td>\n",
       "      <td>9.000000</td>\n",
       "      <td>9.000000</td>\n",
       "      <td>22700.000000</td>\n",
       "      <td>11500.000000</td>\n",
       "      <td>170000.000000</td>\n",
       "      <td>3000.000000</td>\n",
       "      <td>22644.000000</td>\n",
       "    </tr>\n",
       "  </tbody>\n",
       "</table>\n",
       "<p>8 rows × 826 columns</p>\n",
       "</div>"
      ],
      "text/plain": [
       "             h14_id       h14_ind        h14_sn    h14_merkey         h_new  \\\n",
       "count  14418.000000  14418.000000  14418.000000  1.441800e+04  14418.000000   \n",
       "mean    4672.108406      3.121723      1.004855  4.672140e+07      0.201484   \n",
       "std     2792.998128      3.297963      0.143205  2.793014e+07      0.401123   \n",
       "min        2.000000      1.000000      1.000000  2.010100e+04      0.000000   \n",
       "25%     2356.000000      1.000000      1.000000  2.356030e+07      0.000000   \n",
       "50%     4535.000000      1.000000      1.000000  4.535010e+07      0.000000   \n",
       "75%     6616.000000      7.000000      1.000000  6.616010e+07      0.000000   \n",
       "max     9800.000000     14.000000      9.000000  9.800070e+07      1.000000   \n",
       "\n",
       "         h14_cobf       p14_wsc       p14_wsl       p14_wgc       p14_wgl  \\\n",
       "count  121.000000  11513.000000  11513.000000  11513.000000  11513.000000   \n",
       "mean     2.256198      1.000000      1.000000   4484.952219   4484.952541   \n",
       "std      1.675952      0.906021      1.016782   4063.459773   4560.218659   \n",
       "min      1.000000      0.001998      0.000000      8.960093      0.000000   \n",
       "25%      1.000000      0.341814      0.269286   1533.021553   1207.736094   \n",
       "50%      2.000000      0.726304      0.704045   3257.436901   3157.609630   \n",
       "75%      2.000000      1.366071      1.390045   6126.762919   6234.287538   \n",
       "max      7.000000      4.727006      5.790039  21200.393903  25968.049029   \n",
       "\n",
       "       ...      wc14_63      wc14_64    wc14_5aq4    wc14_5aq5    wc14_5aq6  \\\n",
       "count  ...  2027.000000  2027.000000  2027.000000  2027.000000  2027.000000   \n",
       "mean   ...     3.211643     3.743957     3.513567     4.100641     3.233350   \n",
       "std    ...     2.174768     3.138629     1.045929     0.937712     1.289456   \n",
       "min    ...     1.000000     1.000000     1.000000     1.000000     1.000000   \n",
       "25%    ...     1.000000     2.000000     3.000000     4.000000     2.000000   \n",
       "50%    ...     3.000000     3.000000     4.000000     4.000000     3.000000   \n",
       "75%    ...     5.000000     5.000000     4.000000     5.000000     4.000000   \n",
       "max    ...     9.000000    99.000000     9.000000     9.000000     9.000000   \n",
       "\n",
       "       h14_pers_income1  h14_pers_income2  h14_pers_income3  h14_pers_income4  \\\n",
       "count       2659.000000       3331.000000        989.000000      14418.000000   \n",
       "mean        4141.380594       1389.440408       3457.835187          2.038702   \n",
       "std         2583.755449       1211.910836       6619.516319         32.965477   \n",
       "min            0.000000          0.000000     -47000.000000          0.000000   \n",
       "25%         2448.000000        391.500000       1000.000000          0.000000   \n",
       "50%         3540.000000       1116.000000       2498.000000          0.000000   \n",
       "75%         5378.500000       2040.000000       4687.000000          0.000000   \n",
       "max        22700.000000      11500.000000     170000.000000       3000.000000   \n",
       "\n",
       "       h14_pers_income5  \n",
       "count        715.000000  \n",
       "mean        1183.292308  \n",
       "std         2147.418274  \n",
       "min       -10600.000000  \n",
       "25%          206.000000  \n",
       "50%          530.000000  \n",
       "75%         1295.000000  \n",
       "max        22644.000000  \n",
       "\n",
       "[8 rows x 826 columns]"
      ]
     },
     "execution_count": 185,
     "metadata": {},
     "output_type": "execute_result"
    }
   ],
   "source": [
    "welfare.describe()"
   ]
  },
  {
   "cell_type": "markdown",
   "id": "cd53c225",
   "metadata": {},
   "source": [
    "#### 코드북 : 데이터의 특징의 설명해 놓은 것\n",
    "#### Koweps_Codebook_2019.xlsx"
   ]
  },
  {
   "cell_type": "code",
   "execution_count": 186,
   "id": "f8888ebc",
   "metadata": {},
   "outputs": [],
   "source": [
    "# 변수명 바꾸기\n",
    "welfare = welfare.rename(\n",
    "    columns = {'h14_g3' : 'sex',                # 성별\n",
    "               'h14_g4' : 'birth',              # 태어난 연도\n",
    "               'h14_g10' : 'marriage_type',     # 혼인 상태\n",
    "               'h14_g11' : 'religion',          # 종교\n",
    "               'p1402_8aq1' : 'income',         # 월급\n",
    "               'h14_eco9' : 'code_job',         # 직업 코드\n",
    "               'h14_reg7' : 'code_region'})     # 지역 코드"
   ]
  },
  {
   "cell_type": "markdown",
   "id": "58b58e85",
   "metadata": {},
   "source": [
    "#### 데이터 분석 절차\n",
    "#### 1. 변수 검토 및 전처리\n",
    "#### 분석에 활용할 변수를 전처리\n",
    "#### 변수의 특징을 파악, 이상치와 결측치를 정제, 변수의 값을 다루기 편하게 바꿈\n",
    "#### 2. 변수 간 관계 분석\n",
    "#### 데이터를 요약한 표와 데이터의 특징을 쉽게 이해할 수 있는 그래프를 만든 다음 분석 결과 해석"
   ]
  },
  {
   "cell_type": "markdown",
   "id": "27ea96a2",
   "metadata": {},
   "source": [
    "## 2. 성별에 따른 월급 차이 - 성별에 따라 월급이 다를까?\n",
    "### 성별 변수 검토 및 전처리하기"
   ]
  },
  {
   "cell_type": "code",
   "execution_count": 187,
   "id": "625aef17",
   "metadata": {},
   "outputs": [
    {
     "data": {
      "text/plain": [
       "dtype('float64')"
      ]
     },
     "execution_count": 187,
     "metadata": {},
     "output_type": "execute_result"
    }
   ],
   "source": [
    "# 변수 타입 출력\n",
    "welfare['sex'].dtype"
   ]
  },
  {
   "cell_type": "code",
   "execution_count": 188,
   "id": "fc9744f0",
   "metadata": {},
   "outputs": [
    {
     "data": {
      "text/plain": [
       "2.0    7913\n",
       "1.0    6505\n",
       "Name: sex, dtype: int64"
      ]
     },
     "execution_count": 188,
     "metadata": {},
     "output_type": "execute_result"
    }
   ],
   "source": [
    "# 빈도 구하기\n",
    "# 1.0 : 남자\n",
    "# 2.0 : 여자\n",
    "welfare['sex'].value_counts()\n",
    "\n",
    "# 이상치 확인 -> 이상치 없음 (남 + 여 = 전체 행 = 14418)"
   ]
  },
  {
   "cell_type": "code",
   "execution_count": 189,
   "id": "2d6fed94",
   "metadata": {},
   "outputs": [
    {
     "data": {
      "text/plain": [
       "0"
      ]
     },
     "execution_count": 189,
     "metadata": {},
     "output_type": "execute_result"
    }
   ],
   "source": [
    "# 이상치가 있다면 처리 (예, 이상치 = 9)\n",
    "welfare['sex'] = np.where(welfare['sex'] == 9, np.nan, welfare['sex'])\n",
    "\n",
    "# 결측치 확인\n",
    "welfare['sex'].isna().sum()"
   ]
  },
  {
   "cell_type": "code",
   "execution_count": 190,
   "id": "57b657ca",
   "metadata": {},
   "outputs": [
    {
     "data": {
      "text/plain": [
       "female    7913\n",
       "male      6505\n",
       "Name: sex, dtype: int64"
      ]
     },
     "execution_count": 190,
     "metadata": {},
     "output_type": "execute_result"
    }
   ],
   "source": [
    "# 성별 항목 이름 부여\n",
    "welfare['sex'] = np.where(welfare['sex'] == 1, 'male', 'female')\n",
    "\n",
    "# 빈도 구하기\n",
    "welfare['sex'].value_counts()"
   ]
  },
  {
   "cell_type": "code",
   "execution_count": 191,
   "id": "4c551cb2",
   "metadata": {},
   "outputs": [
    {
     "data": {
      "image/png": "[encoded data removed]",
      "text/plain": [
       "<Figure size 640x480 with 1 Axes>"
      ]
     },
     "metadata": {},
     "output_type": "display_data"
    }
   ],
   "source": [
    "# 빈도 막대 그래프 만들기\n",
    "sns.countplot(data = welfare, x = 'sex');"
   ]
  },
  {
   "cell_type": "markdown",
   "id": "befadb57",
   "metadata": {},
   "source": [
    "### 월급 변수 검토 및 전처리하기"
   ]
  },
  {
   "cell_type": "code",
   "execution_count": 192,
   "id": "651300f6",
   "metadata": {},
   "outputs": [
    {
     "data": {
      "text/plain": [
       "dtype('float64')"
      ]
     },
     "execution_count": 192,
     "metadata": {},
     "output_type": "execute_result"
    }
   ],
   "source": [
    "# 변수 타입 출력\n",
    "welfare['income'].dtype"
   ]
  },
  {
   "cell_type": "code",
   "execution_count": 193,
   "id": "2a96d81f",
   "metadata": {},
   "outputs": [
    {
     "data": {
      "text/plain": [
       "count    4534.000000\n",
       "mean      268.455007\n",
       "std       198.021206\n",
       "min         0.000000\n",
       "25%       150.000000\n",
       "50%       220.000000\n",
       "75%       345.750000\n",
       "max      1892.000000\n",
       "Name: income, dtype: float64"
      ]
     },
     "execution_count": 193,
     "metadata": {},
     "output_type": "execute_result"
    }
   ],
   "source": [
    "# 요약 통계량 구하기\n",
    "welfare['income'].describe()"
   ]
  },
  {
   "cell_type": "code",
   "execution_count": 194,
   "id": "d60c2d0c",
   "metadata": {},
   "outputs": [
    {
     "data": {
      "image/png": "[encoded data removed]",
      "text/plain": [
       "<Figure size 640x480 with 1 Axes>"
      ]
     },
     "metadata": {},
     "output_type": "display_data"
    }
   ],
   "source": [
    "# 히스토그램으로 분포 확인\n",
    "sns.histplot(data = welfare, x = 'income');"
   ]
  },
  {
   "cell_type": "code",
   "execution_count": 195,
   "id": "577c9bd4",
   "metadata": {},
   "outputs": [
    {
     "data": {
      "text/plain": [
       "9884"
      ]
     },
     "execution_count": 195,
     "metadata": {},
     "output_type": "execute_result"
    }
   ],
   "source": [
    "# 결측치 확인하기\n",
    "welfare['income'].isna().sum()"
   ]
  },
  {
   "cell_type": "code",
   "execution_count": 196,
   "id": "659e38e9",
   "metadata": {},
   "outputs": [
    {
     "data": {
      "text/plain": [
       "9884"
      ]
     },
     "execution_count": 196,
     "metadata": {},
     "output_type": "execute_result"
    }
   ],
   "source": [
    "# 이상치 결측 처리\n",
    "# 모름/무응답 : 9999\n",
    "welfare['income'] = np.where(welfare['income'] == 9999, np.nan, welfare['income'])\n",
    "\n",
    "# 결측치 확인하기\n",
    "welfare['income'].isna().sum()"
   ]
  },
  {
   "cell_type": "markdown",
   "id": "ec1e2dd6",
   "metadata": {},
   "source": [
    "### 성별에 따른 월급 차이 분석하기"
   ]
  },
  {
   "cell_type": "code",
   "execution_count": 197,
   "id": "deb9de3f",
   "metadata": {},
   "outputs": [
    {
     "data": {
      "text/html": [
       "<div>\n",
       "<style scoped>\n",
       "    .dataframe tbody tr th:only-of-type {\n",
       "        vertical-align: middle;\n",
       "    }\n",
       "\n",
       "    .dataframe tbody tr th {\n",
       "        vertical-align: top;\n",
       "    }\n",
       "\n",
       "    .dataframe thead th {\n",
       "        text-align: right;\n",
       "    }\n",
       "</style>\n",
       "<table border=\"1\" class=\"dataframe\">\n",
       "  <thead>\n",
       "    <tr style=\"text-align: right;\">\n",
       "      <th></th>\n",
       "      <th>sex</th>\n",
       "      <th>mean_income</th>\n",
       "    </tr>\n",
       "  </thead>\n",
       "  <tbody>\n",
       "    <tr>\n",
       "      <th>0</th>\n",
       "      <td>female</td>\n",
       "      <td>186.293096</td>\n",
       "    </tr>\n",
       "    <tr>\n",
       "      <th>1</th>\n",
       "      <td>male</td>\n",
       "      <td>349.037571</td>\n",
       "    </tr>\n",
       "  </tbody>\n",
       "</table>\n",
       "</div>"
      ],
      "text/plain": [
       "      sex  mean_income\n",
       "0  female   186.293096\n",
       "1    male   349.037571"
      ]
     },
     "execution_count": 197,
     "metadata": {},
     "output_type": "execute_result"
    }
   ],
   "source": [
    "# 성별 월급 평균표 만들기\n",
    "sex_income = welfare.dropna(subset = ['income'])\\\n",
    "                    .groupby('sex', as_index = False)\\\n",
    "                    .agg(mean_income = ('income', 'mean'))\n",
    "sex_income"
   ]
  },
  {
   "cell_type": "code",
   "execution_count": 198,
   "id": "c0d9efef",
   "metadata": {},
   "outputs": [
    {
     "data": {
      "image/png": "[encoded data removed]",
      "text/plain": [
       "<Figure size 640x480 with 1 Axes>"
      ]
     },
     "metadata": {},
     "output_type": "display_data"
    }
   ],
   "source": [
    "# 막대 그래프 만들기\n",
    "sns.barplot(data = sex_income, x = 'sex', y = 'mean_income');"
   ]
  },
  {
   "cell_type": "markdown",
   "id": "435d6e8e",
   "metadata": {},
   "source": [
    "### 월급 평균이 남자는 349만 원, 여자는 186만 원으로 남성이 여성보다 약 163만 원 더 많이 받는다."
   ]
  },
  {
   "cell_type": "markdown",
   "id": "67f7cdbf",
   "metadata": {},
   "source": [
    "## 3. 나이와 월급의 관계 - 몇 살 때 월급을 가장 많이 받을까?\n",
    "### 나이 변수 검토 및 전처리하기"
   ]
  },
  {
   "cell_type": "code",
   "execution_count": 199,
   "id": "8e60c961",
   "metadata": {},
   "outputs": [
    {
     "data": {
      "text/plain": [
       "dtype('float64')"
      ]
     },
     "execution_count": 199,
     "metadata": {},
     "output_type": "execute_result"
    }
   ],
   "source": [
    "# 변수 타입 출력\n",
    "welfare['birth'].dtype"
   ]
  },
  {
   "cell_type": "code",
   "execution_count": 200,
   "id": "7146c17e",
   "metadata": {},
   "outputs": [
    {
     "data": {
      "text/plain": [
       "count    14418.000000\n",
       "mean      1969.280205\n",
       "std         24.402250\n",
       "min       1907.000000\n",
       "25%       1948.000000\n",
       "50%       1968.000000\n",
       "75%       1990.000000\n",
       "max       2018.000000\n",
       "Name: birth, dtype: float64"
      ]
     },
     "execution_count": 200,
     "metadata": {},
     "output_type": "execute_result"
    }
   ],
   "source": [
    "# 요약 통계량 구하기\n",
    "welfare['birth'].describe()"
   ]
  },
  {
   "cell_type": "code",
   "execution_count": 201,
   "id": "7f99408a",
   "metadata": {},
   "outputs": [
    {
     "data": {
      "image/png": "[encoded data removed]",
      "text/plain": [
       "<Figure size 640x480 with 1 Axes>"
      ]
     },
     "metadata": {},
     "output_type": "display_data"
    }
   ],
   "source": [
    "# 히스토그램으로 분포 확인\n",
    "sns.histplot(data = welfare, x = 'birth');"
   ]
  },
  {
   "cell_type": "code",
   "execution_count": 202,
   "id": "0d8c61e3",
   "metadata": {},
   "outputs": [
    {
     "data": {
      "text/plain": [
       "0"
      ]
     },
     "execution_count": 202,
     "metadata": {},
     "output_type": "execute_result"
    }
   ],
   "source": [
    "# 결측치 확인\n",
    "welfare['birth'].isna().sum()"
   ]
  },
  {
   "cell_type": "code",
   "execution_count": 203,
   "id": "cd4de677",
   "metadata": {},
   "outputs": [
    {
     "data": {
      "text/plain": [
       "0"
      ]
     },
     "execution_count": 203,
     "metadata": {},
     "output_type": "execute_result"
    }
   ],
   "source": [
    "# 이상치 결측 처리\n",
    "# 모름/무응답 : 9999\n",
    "welfare['birth'] = np.where(welfare['birth'] == 9999, np.nan, welfare['birth'])\n",
    "\n",
    "# 결측치 확인\n",
    "welfare['birth'].isna().sum()"
   ]
  },
  {
   "cell_type": "code",
   "execution_count": 204,
   "id": "4996cbdd",
   "metadata": {},
   "outputs": [
    {
     "data": {
      "text/plain": [
       "count    14418.000000\n",
       "mean        50.719795\n",
       "std         24.402250\n",
       "min          2.000000\n",
       "25%         30.000000\n",
       "50%         52.000000\n",
       "75%         72.000000\n",
       "max        113.000000\n",
       "Name: age, dtype: float64"
      ]
     },
     "execution_count": 204,
     "metadata": {},
     "output_type": "execute_result"
    }
   ],
   "source": [
    "# 파생변수 만들기 - 나이\n",
    "# 2019년에 진행된 조사 -> 2019 - 태어난 연도 + 1 = 나이\n",
    "welfare = welfare.assign(age = 2019 - welfare['birth'] + 1)\n",
    "welfare['age'].describe()"
   ]
  },
  {
   "cell_type": "code",
   "execution_count": 205,
   "id": "fc32f6c6",
   "metadata": {},
   "outputs": [
    {
     "data": {
      "image/png": "[encoded data removed]",
      "text/plain": [
       "<Figure size 640x480 with 1 Axes>"
      ]
     },
     "metadata": {},
     "output_type": "display_data"
    }
   ],
   "source": [
    "# 히스토그램으로 분포 확인\n",
    "sns.histplot(data = welfare, x = 'age');"
   ]
  },
  {
   "cell_type": "markdown",
   "id": "14eaadab",
   "metadata": {},
   "source": [
    "### 나이와 월급의 관계 분석하기"
   ]
  },
  {
   "cell_type": "code",
   "execution_count": 206,
   "id": "7b4d800e",
   "metadata": {},
   "outputs": [
    {
     "data": {
      "text/html": [
       "<div>\n",
       "<style scoped>\n",
       "    .dataframe tbody tr th:only-of-type {\n",
       "        vertical-align: middle;\n",
       "    }\n",
       "\n",
       "    .dataframe tbody tr th {\n",
       "        vertical-align: top;\n",
       "    }\n",
       "\n",
       "    .dataframe thead th {\n",
       "        text-align: right;\n",
       "    }\n",
       "</style>\n",
       "<table border=\"1\" class=\"dataframe\">\n",
       "  <thead>\n",
       "    <tr style=\"text-align: right;\">\n",
       "      <th></th>\n",
       "      <th>mean_income</th>\n",
       "    </tr>\n",
       "    <tr>\n",
       "      <th>age</th>\n",
       "      <th></th>\n",
       "    </tr>\n",
       "  </thead>\n",
       "  <tbody>\n",
       "    <tr>\n",
       "      <th>19.0</th>\n",
       "      <td>162.000000</td>\n",
       "    </tr>\n",
       "    <tr>\n",
       "      <th>20.0</th>\n",
       "      <td>121.333333</td>\n",
       "    </tr>\n",
       "    <tr>\n",
       "      <th>21.0</th>\n",
       "      <td>136.400000</td>\n",
       "    </tr>\n",
       "    <tr>\n",
       "      <th>22.0</th>\n",
       "      <td>123.666667</td>\n",
       "    </tr>\n",
       "    <tr>\n",
       "      <th>23.0</th>\n",
       "      <td>179.676471</td>\n",
       "    </tr>\n",
       "    <tr>\n",
       "      <th>...</th>\n",
       "      <td>...</td>\n",
       "    </tr>\n",
       "    <tr>\n",
       "      <th>88.0</th>\n",
       "      <td>27.000000</td>\n",
       "    </tr>\n",
       "    <tr>\n",
       "      <th>89.0</th>\n",
       "      <td>27.000000</td>\n",
       "    </tr>\n",
       "    <tr>\n",
       "      <th>90.0</th>\n",
       "      <td>27.000000</td>\n",
       "    </tr>\n",
       "    <tr>\n",
       "      <th>91.0</th>\n",
       "      <td>20.000000</td>\n",
       "    </tr>\n",
       "    <tr>\n",
       "      <th>92.0</th>\n",
       "      <td>27.000000</td>\n",
       "    </tr>\n",
       "  </tbody>\n",
       "</table>\n",
       "<p>74 rows × 1 columns</p>\n",
       "</div>"
      ],
      "text/plain": [
       "      mean_income\n",
       "age              \n",
       "19.0   162.000000\n",
       "20.0   121.333333\n",
       "21.0   136.400000\n",
       "22.0   123.666667\n",
       "23.0   179.676471\n",
       "...           ...\n",
       "88.0    27.000000\n",
       "89.0    27.000000\n",
       "90.0    27.000000\n",
       "91.0    20.000000\n",
       "92.0    27.000000\n",
       "\n",
       "[74 rows x 1 columns]"
      ]
     },
     "execution_count": 206,
     "metadata": {},
     "output_type": "execute_result"
    }
   ],
   "source": [
    "# 나이별 월급 평균표 만들기\n",
    "age_income = welfare.dropna(subset = ['income'])\\\n",
    "                    .groupby('age')\\\n",
    "                    .agg(mean_income = ('income', 'mean'))\n",
    "age_income"
   ]
  },
  {
   "cell_type": "code",
   "execution_count": 207,
   "id": "5d766562",
   "metadata": {},
   "outputs": [
    {
     "data": {
      "image/png": "[encoded data removed]",
      "text/plain": [
       "<Figure size 640x480 with 1 Axes>"
      ]
     },
     "metadata": {},
     "output_type": "display_data"
    }
   ],
   "source": [
    "# 선 그래프 만들기\n",
    "sns.lineplot(data = age_income, x = 'age', y = 'mean_income');"
   ]
  },
  {
   "cell_type": "markdown",
   "id": "ad9dad29",
   "metadata": {},
   "source": [
    "### 20대 초반에 월급을 150만 원 정도 받고 이후 계속적으로 월급이 증가하는 추세를 보인다.\n",
    "### 40대에 350만 원 정도로 가장 많이 받고 이후 계속적으로 월급이 감소하는 추세를 보인다.\n",
    "### 계속 감소하다가 60대 후반, 70대 이후부터는 20대보다 낮은 월급을 받는다."
   ]
  },
  {
   "cell_type": "markdown",
   "id": "5f09fb1c",
   "metadata": {},
   "source": [
    "## 4. 연령대에 따른 월급 차이 - 어떤 연령대의 월급이 가장 많을까?\n",
    "### 연령대 변수 검토 및 전처리하기"
   ]
  },
  {
   "cell_type": "code",
   "execution_count": 208,
   "id": "fc9caefe",
   "metadata": {},
   "outputs": [
    {
     "data": {
      "text/plain": [
       "0    75.0\n",
       "1    72.0\n",
       "2    78.0\n",
       "3    58.0\n",
       "4    57.0\n",
       "Name: age, dtype: float64"
      ]
     },
     "execution_count": 208,
     "metadata": {},
     "output_type": "execute_result"
    }
   ],
   "source": [
    "# 나이 변수 살펴보기\n",
    "welfare['age'].head()"
   ]
  },
  {
   "cell_type": "code",
   "execution_count": 209,
   "id": "eea2930c",
   "metadata": {},
   "outputs": [
    {
     "data": {
      "text/plain": [
       "old       5955\n",
       "middle    4963\n",
       "young     3500\n",
       "Name: age_group, dtype: int64"
      ]
     },
     "execution_count": 209,
     "metadata": {},
     "output_type": "execute_result"
    }
   ],
   "source": [
    "# 연령대 변수 만들기\n",
    "welfare = welfare.assign(age_group = np.where(welfare['age'] < 30, 'young',\n",
    "                                     np.where(welfare['age'] <= 59, 'middle', 'old')))\n",
    "\n",
    "# 빈도 구하기\n",
    "welfare['age_group'].value_counts()"
   ]
  },
  {
   "cell_type": "code",
   "execution_count": 210,
   "id": "c582d8d5",
   "metadata": {},
   "outputs": [
    {
     "data": {
      "image/png": "[encoded data removed]",
      "text/plain": [
       "<Figure size 640x480 with 1 Axes>"
      ]
     },
     "metadata": {},
     "output_type": "display_data"
    }
   ],
   "source": [
    "# 빈도 막대 그래프 만들기\n",
    "sns.countplot(data = welfare, x = 'age_group');"
   ]
  },
  {
   "cell_type": "markdown",
   "id": "a4d5c481",
   "metadata": {},
   "source": [
    "### 연령대에 따른 월급 차이 분석하기"
   ]
  },
  {
   "cell_type": "code",
   "execution_count": 211,
   "id": "5e4648f8",
   "metadata": {},
   "outputs": [
    {
     "data": {
      "text/html": [
       "<div>\n",
       "<style scoped>\n",
       "    .dataframe tbody tr th:only-of-type {\n",
       "        vertical-align: middle;\n",
       "    }\n",
       "\n",
       "    .dataframe tbody tr th {\n",
       "        vertical-align: top;\n",
       "    }\n",
       "\n",
       "    .dataframe thead th {\n",
       "        text-align: right;\n",
       "    }\n",
       "</style>\n",
       "<table border=\"1\" class=\"dataframe\">\n",
       "  <thead>\n",
       "    <tr style=\"text-align: right;\">\n",
       "      <th></th>\n",
       "      <th>age_group</th>\n",
       "      <th>mean_income</th>\n",
       "    </tr>\n",
       "  </thead>\n",
       "  <tbody>\n",
       "    <tr>\n",
       "      <th>0</th>\n",
       "      <td>middle</td>\n",
       "      <td>329.157157</td>\n",
       "    </tr>\n",
       "    <tr>\n",
       "      <th>1</th>\n",
       "      <td>old</td>\n",
       "      <td>140.129003</td>\n",
       "    </tr>\n",
       "    <tr>\n",
       "      <th>2</th>\n",
       "      <td>young</td>\n",
       "      <td>195.663424</td>\n",
       "    </tr>\n",
       "  </tbody>\n",
       "</table>\n",
       "</div>"
      ],
      "text/plain": [
       "  age_group  mean_income\n",
       "0    middle   329.157157\n",
       "1       old   140.129003\n",
       "2     young   195.663424"
      ]
     },
     "execution_count": 211,
     "metadata": {},
     "output_type": "execute_result"
    }
   ],
   "source": [
    "# 연령대별 월급 평균표 만들기\n",
    "age_group_income = welfare.dropna(subset = ['income'])\\\n",
    "                          .groupby('age_group', as_index = False)\\\n",
    "                          .agg(mean_income = ('income', 'mean'))\n",
    "age_group_income"
   ]
  },
  {
   "cell_type": "code",
   "execution_count": 212,
   "id": "4f3c2af2",
   "metadata": {},
   "outputs": [
    {
     "data": {
      "image/png": "[encoded data removed]",
      "text/plain": [
       "<Figure size 640x480 with 1 Axes>"
      ]
     },
     "metadata": {},
     "output_type": "display_data"
    }
   ],
   "source": [
    "# 막대 그래프 만들기\n",
    "sns.barplot(data = age_group_income, x = 'age_group', y = 'mean_income');"
   ]
  },
  {
   "cell_type": "code",
   "execution_count": 213,
   "id": "72f6c514",
   "metadata": {},
   "outputs": [
    {
     "data": {
      "image/png": "[encoded data removed]",
      "text/plain": [
       "<Figure size 640x480 with 1 Axes>"
      ]
     },
     "metadata": {},
     "output_type": "display_data"
    }
   ],
   "source": [
    "# 막대 정렬하기\n",
    "sns.barplot(data = age_group_income, x = 'age_group', y = 'mean_income', order = ['young', 'middle', 'old']);"
   ]
  },
  {
   "cell_type": "markdown",
   "id": "bf152948",
   "metadata": {},
   "source": [
    "### 중년층이 330만 원 정도로 가장 많은 월급을 받는다.\n",
    "### 초년층이 195만 원 정도, 노년층이 140만 원 정도의 월급을 받는다."
   ]
  },
  {
   "cell_type": "markdown",
   "id": "47c44b6a",
   "metadata": {},
   "source": [
    "## 5. 연령대 및 성별 월급 차이 - 성별 월급 차이는 연령대별로 다를까?\n",
    "### 연령대 및 성별 월급 차이 분석하기"
   ]
  },
  {
   "cell_type": "code",
   "execution_count": 214,
   "id": "62a1f485",
   "metadata": {},
   "outputs": [
    {
     "data": {
      "text/html": [
       "<div>\n",
       "<style scoped>\n",
       "    .dataframe tbody tr th:only-of-type {\n",
       "        vertical-align: middle;\n",
       "    }\n",
       "\n",
       "    .dataframe tbody tr th {\n",
       "        vertical-align: top;\n",
       "    }\n",
       "\n",
       "    .dataframe thead th {\n",
       "        text-align: right;\n",
       "    }\n",
       "</style>\n",
       "<table border=\"1\" class=\"dataframe\">\n",
       "  <thead>\n",
       "    <tr style=\"text-align: right;\">\n",
       "      <th></th>\n",
       "      <th>age_group</th>\n",
       "      <th>sex</th>\n",
       "      <th>mean_income</th>\n",
       "    </tr>\n",
       "  </thead>\n",
       "  <tbody>\n",
       "    <tr>\n",
       "      <th>0</th>\n",
       "      <td>middle</td>\n",
       "      <td>female</td>\n",
       "      <td>230.481735</td>\n",
       "    </tr>\n",
       "    <tr>\n",
       "      <th>1</th>\n",
       "      <td>middle</td>\n",
       "      <td>male</td>\n",
       "      <td>409.541228</td>\n",
       "    </tr>\n",
       "    <tr>\n",
       "      <th>2</th>\n",
       "      <td>old</td>\n",
       "      <td>female</td>\n",
       "      <td>90.228896</td>\n",
       "    </tr>\n",
       "    <tr>\n",
       "      <th>3</th>\n",
       "      <td>old</td>\n",
       "      <td>male</td>\n",
       "      <td>204.570231</td>\n",
       "    </tr>\n",
       "    <tr>\n",
       "      <th>4</th>\n",
       "      <td>young</td>\n",
       "      <td>female</td>\n",
       "      <td>189.822222</td>\n",
       "    </tr>\n",
       "    <tr>\n",
       "      <th>5</th>\n",
       "      <td>young</td>\n",
       "      <td>male</td>\n",
       "      <td>204.909548</td>\n",
       "    </tr>\n",
       "  </tbody>\n",
       "</table>\n",
       "</div>"
      ],
      "text/plain": [
       "  age_group     sex  mean_income\n",
       "0    middle  female   230.481735\n",
       "1    middle    male   409.541228\n",
       "2       old  female    90.228896\n",
       "3       old    male   204.570231\n",
       "4     young  female   189.822222\n",
       "5     young    male   204.909548"
      ]
     },
     "execution_count": 214,
     "metadata": {},
     "output_type": "execute_result"
    }
   ],
   "source": [
    "# 연령대 및 성별 평균표 만들기\n",
    "sex_income = welfare.dropna(subset = ['income'])\\\n",
    "                    .groupby(['age_group', 'sex'], as_index = False)\\\n",
    "                    .agg(mean_income = ('income', 'mean'))\n",
    "sex_income"
   ]
  },
  {
   "cell_type": "code",
   "execution_count": 215,
   "id": "0bdbe17f",
   "metadata": {},
   "outputs": [
    {
     "data": {
      "image/png": "[encoded data removed]",
      "text/plain": [
       "<Figure size 640x480 with 1 Axes>"
      ]
     },
     "metadata": {},
     "output_type": "display_data"
    }
   ],
   "source": [
    "# 막대 그래프 만들기\n",
    "sns.barplot(data = sex_income, x = 'age_group', y = 'mean_income', hue = 'sex');"
   ]
  },
  {
   "cell_type": "code",
   "execution_count": 216,
   "id": "daa6bae3",
   "metadata": {},
   "outputs": [
    {
     "data": {
      "image/png": "[encoded data removed]",
      "text/plain": [
       "<Figure size 640x480 with 1 Axes>"
      ]
     },
     "metadata": {},
     "output_type": "display_data"
    }
   ],
   "source": [
    "# 막대 그래프 정렬하기\n",
    "sns.barplot(data = sex_income, x = 'age_group', y = 'mean_income', hue = 'sex', order = ['young', 'middle', 'old']);"
   ]
  },
  {
   "cell_type": "markdown",
   "id": "d396f361",
   "metadata": {},
   "source": [
    "### 초년층에서는 성별에 따른 월급에 대한 차이가 적지만 중년층과 노년층에서는 성별에 따른 월급에 대한 차이가 크다.\n",
    "### 이전에 분석한 연령대에 따른 월급의 차이를 보면 노년층이 초년층보다 더 적게 받는다는 결과가 도출되었는데, 이는 여성에 대해서만 그런 것으로 나타났다.\n",
    "### 남성은 초년층과 노년층의 월급 차이가 미미하다."
   ]
  },
  {
   "cell_type": "markdown",
   "id": "4a53b5a4",
   "metadata": {},
   "source": [
    "### 나이 및 성별 월급 차이 분석하기"
   ]
  },
  {
   "cell_type": "code",
   "execution_count": 217,
   "id": "6cdbd48b",
   "metadata": {},
   "outputs": [
    {
     "data": {
      "text/html": [
       "<div>\n",
       "<style scoped>\n",
       "    .dataframe tbody tr th:only-of-type {\n",
       "        vertical-align: middle;\n",
       "    }\n",
       "\n",
       "    .dataframe tbody tr th {\n",
       "        vertical-align: top;\n",
       "    }\n",
       "\n",
       "    .dataframe thead th {\n",
       "        text-align: right;\n",
       "    }\n",
       "</style>\n",
       "<table border=\"1\" class=\"dataframe\">\n",
       "  <thead>\n",
       "    <tr style=\"text-align: right;\">\n",
       "      <th></th>\n",
       "      <th>age</th>\n",
       "      <th>sex</th>\n",
       "      <th>mean_income</th>\n",
       "    </tr>\n",
       "  </thead>\n",
       "  <tbody>\n",
       "    <tr>\n",
       "      <th>0</th>\n",
       "      <td>19.0</td>\n",
       "      <td>male</td>\n",
       "      <td>162.000000</td>\n",
       "    </tr>\n",
       "    <tr>\n",
       "      <th>1</th>\n",
       "      <td>20.0</td>\n",
       "      <td>female</td>\n",
       "      <td>87.666667</td>\n",
       "    </tr>\n",
       "    <tr>\n",
       "      <th>2</th>\n",
       "      <td>20.0</td>\n",
       "      <td>male</td>\n",
       "      <td>155.000000</td>\n",
       "    </tr>\n",
       "    <tr>\n",
       "      <th>3</th>\n",
       "      <td>21.0</td>\n",
       "      <td>female</td>\n",
       "      <td>124.000000</td>\n",
       "    </tr>\n",
       "    <tr>\n",
       "      <th>4</th>\n",
       "      <td>21.0</td>\n",
       "      <td>male</td>\n",
       "      <td>186.000000</td>\n",
       "    </tr>\n",
       "    <tr>\n",
       "      <th>...</th>\n",
       "      <td>...</td>\n",
       "      <td>...</td>\n",
       "      <td>...</td>\n",
       "    </tr>\n",
       "    <tr>\n",
       "      <th>140</th>\n",
       "      <td>89.0</td>\n",
       "      <td>male</td>\n",
       "      <td>27.000000</td>\n",
       "    </tr>\n",
       "    <tr>\n",
       "      <th>141</th>\n",
       "      <td>90.0</td>\n",
       "      <td>female</td>\n",
       "      <td>27.000000</td>\n",
       "    </tr>\n",
       "    <tr>\n",
       "      <th>142</th>\n",
       "      <td>91.0</td>\n",
       "      <td>female</td>\n",
       "      <td>27.000000</td>\n",
       "    </tr>\n",
       "    <tr>\n",
       "      <th>143</th>\n",
       "      <td>91.0</td>\n",
       "      <td>male</td>\n",
       "      <td>13.000000</td>\n",
       "    </tr>\n",
       "    <tr>\n",
       "      <th>144</th>\n",
       "      <td>92.0</td>\n",
       "      <td>female</td>\n",
       "      <td>27.000000</td>\n",
       "    </tr>\n",
       "  </tbody>\n",
       "</table>\n",
       "<p>145 rows × 3 columns</p>\n",
       "</div>"
      ],
      "text/plain": [
       "      age     sex  mean_income\n",
       "0    19.0    male   162.000000\n",
       "1    20.0  female    87.666667\n",
       "2    20.0    male   155.000000\n",
       "3    21.0  female   124.000000\n",
       "4    21.0    male   186.000000\n",
       "..    ...     ...          ...\n",
       "140  89.0    male    27.000000\n",
       "141  90.0  female    27.000000\n",
       "142  91.0  female    27.000000\n",
       "143  91.0    male    13.000000\n",
       "144  92.0  female    27.000000\n",
       "\n",
       "[145 rows x 3 columns]"
      ]
     },
     "execution_count": 217,
     "metadata": {},
     "output_type": "execute_result"
    }
   ],
   "source": [
    "# 나이 및 성별 월급 평균표 만들기\n",
    "sex_age = welfare.dropna(subset = ['income'])\\\n",
    "                 .groupby(['age', 'sex'], as_index = False)\\\n",
    "                 .agg(mean_income = ('income', 'mean'))\n",
    "sex_age"
   ]
  },
  {
   "cell_type": "code",
   "execution_count": 218,
   "id": "3ff647b0",
   "metadata": {},
   "outputs": [
    {
     "data": {
      "image/png": "[encoded data removed]",
      "text/plain": [
       "<Figure size 640x480 with 1 Axes>"
      ]
     },
     "metadata": {},
     "output_type": "display_data"
    }
   ],
   "source": [
    "# 선 그래프 만들기\n",
    "sns.lineplot(data = sex_age, x = 'age', y = 'mean_income', hue = 'sex');"
   ]
  },
  {
   "cell_type": "markdown",
   "id": "7fe138b6",
   "metadata": {},
   "source": [
    "### 남성의 월급은 50세 전후까지 증가하다가 급격하게 감소한다.\n",
    "### 여성의 월급은 30대 초반까지 약간 증가하다가 이후로는 완만하게 감소한다.\n",
    "### 성별에 따른 월급 격차는 30대 중반부터 벌어지다가 50대에 가장 크게 벌어지고, 이후로는 점점 줄어들어 80대가 되면 비슷한 수준이 된다."
   ]
  },
  {
   "cell_type": "markdown",
   "id": "af7214f8",
   "metadata": {},
   "source": [
    "## 6. 직업별 월급 차이 - 어떤 직업이 월급을 가장 많이 받을까?\n",
    "### 직업 변수 검토 및 전처리하기"
   ]
  },
  {
   "cell_type": "code",
   "execution_count": 219,
   "id": "cea2a255",
   "metadata": {},
   "outputs": [
    {
     "data": {
      "text/plain": [
       "dtype('float64')"
      ]
     },
     "execution_count": 219,
     "metadata": {},
     "output_type": "execute_result"
    }
   ],
   "source": [
    "# 변수 타입 출력\n",
    "welfare['code_job'].dtypes"
   ]
  },
  {
   "cell_type": "code",
   "execution_count": 220,
   "id": "0efd24af",
   "metadata": {},
   "outputs": [
    {
     "data": {
      "text/plain": [
       "611.0    962\n",
       "941.0    391\n",
       "521.0    354\n",
       "312.0    275\n",
       "873.0    236\n",
       "        ... \n",
       "112.0      2\n",
       "784.0      2\n",
       "423.0      1\n",
       "861.0      1\n",
       "872.0      1\n",
       "Name: code_job, Length: 150, dtype: int64"
      ]
     },
     "execution_count": 220,
     "metadata": {},
     "output_type": "execute_result"
    }
   ],
   "source": [
    "# 빈도 구하기\n",
    "welfare['code_job'].value_counts()"
   ]
  },
  {
   "cell_type": "code",
   "execution_count": 221,
   "id": "c4a90f51",
   "metadata": {},
   "outputs": [
    {
     "data": {
      "text/html": [
       "<div>\n",
       "<style scoped>\n",
       "    .dataframe tbody tr th:only-of-type {\n",
       "        vertical-align: middle;\n",
       "    }\n",
       "\n",
       "    .dataframe tbody tr th {\n",
       "        vertical-align: top;\n",
       "    }\n",
       "\n",
       "    .dataframe thead th {\n",
       "        text-align: right;\n",
       "    }\n",
       "</style>\n",
       "<table border=\"1\" class=\"dataframe\">\n",
       "  <thead>\n",
       "    <tr style=\"text-align: right;\">\n",
       "      <th></th>\n",
       "      <th>code_job</th>\n",
       "      <th>job</th>\n",
       "    </tr>\n",
       "  </thead>\n",
       "  <tbody>\n",
       "    <tr>\n",
       "      <th>0</th>\n",
       "      <td>111</td>\n",
       "      <td>의회 의원∙고위 공무원 및 공공단체 임원</td>\n",
       "    </tr>\n",
       "    <tr>\n",
       "      <th>1</th>\n",
       "      <td>112</td>\n",
       "      <td>기업 고위 임원</td>\n",
       "    </tr>\n",
       "    <tr>\n",
       "      <th>2</th>\n",
       "      <td>121</td>\n",
       "      <td>행정 및 경영 지원 관리자</td>\n",
       "    </tr>\n",
       "    <tr>\n",
       "      <th>3</th>\n",
       "      <td>122</td>\n",
       "      <td>마케팅 및 광고∙홍보 관리자</td>\n",
       "    </tr>\n",
       "    <tr>\n",
       "      <th>4</th>\n",
       "      <td>131</td>\n",
       "      <td>연구∙교육 및 법률 관련 관리자</td>\n",
       "    </tr>\n",
       "  </tbody>\n",
       "</table>\n",
       "</div>"
      ],
      "text/plain": [
       "   code_job                     job\n",
       "0       111  의회 의원∙고위 공무원 및 공공단체 임원\n",
       "1       112                기업 고위 임원\n",
       "2       121          행정 및 경영 지원 관리자\n",
       "3       122         마케팅 및 광고∙홍보 관리자\n",
       "4       131       연구∙교육 및 법률 관련 관리자"
      ]
     },
     "execution_count": 221,
     "metadata": {},
     "output_type": "execute_result"
    }
   ],
   "source": [
    "# 코드북에서 직업분류코드 불러오기\n",
    "list_job = pd.read_excel('Koweps_Codebook_2019.xlsx', sheet_name = '직종코드')\n",
    "list_job.head()"
   ]
  },
  {
   "cell_type": "code",
   "execution_count": 222,
   "id": "33611843",
   "metadata": {},
   "outputs": [
    {
     "data": {
      "text/plain": [
       "(156, 2)"
      ]
     },
     "execution_count": 222,
     "metadata": {},
     "output_type": "execute_result"
    }
   ],
   "source": [
    "list_job.shape"
   ]
  },
  {
   "cell_type": "code",
   "execution_count": 223,
   "id": "53893ac8",
   "metadata": {},
   "outputs": [
    {
     "data": {
      "text/html": [
       "<div>\n",
       "<style scoped>\n",
       "    .dataframe tbody tr th:only-of-type {\n",
       "        vertical-align: middle;\n",
       "    }\n",
       "\n",
       "    .dataframe tbody tr th {\n",
       "        vertical-align: top;\n",
       "    }\n",
       "\n",
       "    .dataframe thead th {\n",
       "        text-align: right;\n",
       "    }\n",
       "</style>\n",
       "<table border=\"1\" class=\"dataframe\">\n",
       "  <thead>\n",
       "    <tr style=\"text-align: right;\">\n",
       "      <th></th>\n",
       "      <th>h14_id</th>\n",
       "      <th>h14_ind</th>\n",
       "      <th>h14_sn</th>\n",
       "      <th>h14_merkey</th>\n",
       "      <th>h_new</th>\n",
       "      <th>h14_cobf</th>\n",
       "      <th>p14_wsc</th>\n",
       "      <th>p14_wsl</th>\n",
       "      <th>p14_wgc</th>\n",
       "      <th>p14_wgl</th>\n",
       "      <th>...</th>\n",
       "      <th>wc14_5aq5</th>\n",
       "      <th>wc14_5aq6</th>\n",
       "      <th>h14_pers_income1</th>\n",
       "      <th>h14_pers_income2</th>\n",
       "      <th>h14_pers_income3</th>\n",
       "      <th>h14_pers_income4</th>\n",
       "      <th>h14_pers_income5</th>\n",
       "      <th>age</th>\n",
       "      <th>age_group</th>\n",
       "      <th>job</th>\n",
       "    </tr>\n",
       "  </thead>\n",
       "  <tbody>\n",
       "    <tr>\n",
       "      <th>0</th>\n",
       "      <td>2.0</td>\n",
       "      <td>1.0</td>\n",
       "      <td>1.0</td>\n",
       "      <td>20101.0</td>\n",
       "      <td>0.0</td>\n",
       "      <td>NaN</td>\n",
       "      <td>0.291589</td>\n",
       "      <td>0.291589</td>\n",
       "      <td>1307.764781</td>\n",
       "      <td>1307.764781</td>\n",
       "      <td>...</td>\n",
       "      <td>NaN</td>\n",
       "      <td>NaN</td>\n",
       "      <td>NaN</td>\n",
       "      <td>NaN</td>\n",
       "      <td>NaN</td>\n",
       "      <td>0.0</td>\n",
       "      <td>NaN</td>\n",
       "      <td>75.0</td>\n",
       "      <td>old</td>\n",
       "      <td>NaN</td>\n",
       "    </tr>\n",
       "    <tr>\n",
       "      <th>1</th>\n",
       "      <td>3.0</td>\n",
       "      <td>1.0</td>\n",
       "      <td>1.0</td>\n",
       "      <td>30101.0</td>\n",
       "      <td>0.0</td>\n",
       "      <td>NaN</td>\n",
       "      <td>0.419753</td>\n",
       "      <td>0.419753</td>\n",
       "      <td>1882.570960</td>\n",
       "      <td>1882.570960</td>\n",
       "      <td>...</td>\n",
       "      <td>NaN</td>\n",
       "      <td>NaN</td>\n",
       "      <td>NaN</td>\n",
       "      <td>NaN</td>\n",
       "      <td>NaN</td>\n",
       "      <td>0.0</td>\n",
       "      <td>NaN</td>\n",
       "      <td>72.0</td>\n",
       "      <td>old</td>\n",
       "      <td>NaN</td>\n",
       "    </tr>\n",
       "    <tr>\n",
       "      <th>2</th>\n",
       "      <td>4.0</td>\n",
       "      <td>1.0</td>\n",
       "      <td>1.0</td>\n",
       "      <td>40101.0</td>\n",
       "      <td>0.0</td>\n",
       "      <td>NaN</td>\n",
       "      <td>0.265263</td>\n",
       "      <td>0.265980</td>\n",
       "      <td>1189.691668</td>\n",
       "      <td>1192.908537</td>\n",
       "      <td>...</td>\n",
       "      <td>NaN</td>\n",
       "      <td>NaN</td>\n",
       "      <td>NaN</td>\n",
       "      <td>1284.0</td>\n",
       "      <td>NaN</td>\n",
       "      <td>0.0</td>\n",
       "      <td>NaN</td>\n",
       "      <td>78.0</td>\n",
       "      <td>old</td>\n",
       "      <td>전기공</td>\n",
       "    </tr>\n",
       "    <tr>\n",
       "      <th>3</th>\n",
       "      <td>6.0</td>\n",
       "      <td>1.0</td>\n",
       "      <td>1.0</td>\n",
       "      <td>60101.0</td>\n",
       "      <td>0.0</td>\n",
       "      <td>NaN</td>\n",
       "      <td>0.494906</td>\n",
       "      <td>0.495941</td>\n",
       "      <td>2219.630833</td>\n",
       "      <td>2224.273816</td>\n",
       "      <td>...</td>\n",
       "      <td>4.0</td>\n",
       "      <td>4.0</td>\n",
       "      <td>2304.0</td>\n",
       "      <td>NaN</td>\n",
       "      <td>1800.0</td>\n",
       "      <td>0.0</td>\n",
       "      <td>NaN</td>\n",
       "      <td>58.0</td>\n",
       "      <td>middle</td>\n",
       "      <td>금속기계 부품 조립원</td>\n",
       "    </tr>\n",
       "    <tr>\n",
       "      <th>4</th>\n",
       "      <td>6.0</td>\n",
       "      <td>1.0</td>\n",
       "      <td>1.0</td>\n",
       "      <td>60101.0</td>\n",
       "      <td>0.0</td>\n",
       "      <td>NaN</td>\n",
       "      <td>1.017935</td>\n",
       "      <td>1.017935</td>\n",
       "      <td>4565.389177</td>\n",
       "      <td>4565.389177</td>\n",
       "      <td>...</td>\n",
       "      <td>5.0</td>\n",
       "      <td>2.0</td>\n",
       "      <td>NaN</td>\n",
       "      <td>NaN</td>\n",
       "      <td>NaN</td>\n",
       "      <td>0.0</td>\n",
       "      <td>NaN</td>\n",
       "      <td>57.0</td>\n",
       "      <td>middle</td>\n",
       "      <td>NaN</td>\n",
       "    </tr>\n",
       "    <tr>\n",
       "      <th>...</th>\n",
       "      <td>...</td>\n",
       "      <td>...</td>\n",
       "      <td>...</td>\n",
       "      <td>...</td>\n",
       "      <td>...</td>\n",
       "      <td>...</td>\n",
       "      <td>...</td>\n",
       "      <td>...</td>\n",
       "      <td>...</td>\n",
       "      <td>...</td>\n",
       "      <td>...</td>\n",
       "      <td>...</td>\n",
       "      <td>...</td>\n",
       "      <td>...</td>\n",
       "      <td>...</td>\n",
       "      <td>...</td>\n",
       "      <td>...</td>\n",
       "      <td>...</td>\n",
       "      <td>...</td>\n",
       "      <td>...</td>\n",
       "      <td>...</td>\n",
       "    </tr>\n",
       "    <tr>\n",
       "      <th>14413</th>\n",
       "      <td>9800.0</td>\n",
       "      <td>7.0</td>\n",
       "      <td>1.0</td>\n",
       "      <td>98000701.0</td>\n",
       "      <td>1.0</td>\n",
       "      <td>NaN</td>\n",
       "      <td>NaN</td>\n",
       "      <td>NaN</td>\n",
       "      <td>NaN</td>\n",
       "      <td>NaN</td>\n",
       "      <td>...</td>\n",
       "      <td>NaN</td>\n",
       "      <td>NaN</td>\n",
       "      <td>NaN</td>\n",
       "      <td>NaN</td>\n",
       "      <td>NaN</td>\n",
       "      <td>0.0</td>\n",
       "      <td>NaN</td>\n",
       "      <td>53.0</td>\n",
       "      <td>middle</td>\n",
       "      <td>NaN</td>\n",
       "    </tr>\n",
       "    <tr>\n",
       "      <th>14414</th>\n",
       "      <td>9800.0</td>\n",
       "      <td>7.0</td>\n",
       "      <td>1.0</td>\n",
       "      <td>98000701.0</td>\n",
       "      <td>1.0</td>\n",
       "      <td>NaN</td>\n",
       "      <td>NaN</td>\n",
       "      <td>NaN</td>\n",
       "      <td>NaN</td>\n",
       "      <td>NaN</td>\n",
       "      <td>...</td>\n",
       "      <td>NaN</td>\n",
       "      <td>NaN</td>\n",
       "      <td>NaN</td>\n",
       "      <td>NaN</td>\n",
       "      <td>NaN</td>\n",
       "      <td>0.0</td>\n",
       "      <td>NaN</td>\n",
       "      <td>28.0</td>\n",
       "      <td>young</td>\n",
       "      <td>NaN</td>\n",
       "    </tr>\n",
       "    <tr>\n",
       "      <th>14415</th>\n",
       "      <td>9800.0</td>\n",
       "      <td>7.0</td>\n",
       "      <td>1.0</td>\n",
       "      <td>98000701.0</td>\n",
       "      <td>1.0</td>\n",
       "      <td>NaN</td>\n",
       "      <td>NaN</td>\n",
       "      <td>NaN</td>\n",
       "      <td>NaN</td>\n",
       "      <td>NaN</td>\n",
       "      <td>...</td>\n",
       "      <td>NaN</td>\n",
       "      <td>NaN</td>\n",
       "      <td>NaN</td>\n",
       "      <td>208.0</td>\n",
       "      <td>NaN</td>\n",
       "      <td>0.0</td>\n",
       "      <td>NaN</td>\n",
       "      <td>25.0</td>\n",
       "      <td>young</td>\n",
       "      <td>건설 및 광업 단순 종사자</td>\n",
       "    </tr>\n",
       "    <tr>\n",
       "      <th>14416</th>\n",
       "      <td>9800.0</td>\n",
       "      <td>7.0</td>\n",
       "      <td>1.0</td>\n",
       "      <td>98000701.0</td>\n",
       "      <td>1.0</td>\n",
       "      <td>NaN</td>\n",
       "      <td>NaN</td>\n",
       "      <td>NaN</td>\n",
       "      <td>NaN</td>\n",
       "      <td>NaN</td>\n",
       "      <td>...</td>\n",
       "      <td>3.0</td>\n",
       "      <td>3.0</td>\n",
       "      <td>NaN</td>\n",
       "      <td>1200.0</td>\n",
       "      <td>NaN</td>\n",
       "      <td>0.0</td>\n",
       "      <td>NaN</td>\n",
       "      <td>22.0</td>\n",
       "      <td>young</td>\n",
       "      <td>보건 의료 관련 종사자</td>\n",
       "    </tr>\n",
       "    <tr>\n",
       "      <th>14417</th>\n",
       "      <td>9800.0</td>\n",
       "      <td>7.0</td>\n",
       "      <td>1.0</td>\n",
       "      <td>98000701.0</td>\n",
       "      <td>1.0</td>\n",
       "      <td>NaN</td>\n",
       "      <td>NaN</td>\n",
       "      <td>NaN</td>\n",
       "      <td>NaN</td>\n",
       "      <td>NaN</td>\n",
       "      <td>...</td>\n",
       "      <td>NaN</td>\n",
       "      <td>NaN</td>\n",
       "      <td>NaN</td>\n",
       "      <td>NaN</td>\n",
       "      <td>NaN</td>\n",
       "      <td>0.0</td>\n",
       "      <td>NaN</td>\n",
       "      <td>19.0</td>\n",
       "      <td>young</td>\n",
       "      <td>NaN</td>\n",
       "    </tr>\n",
       "  </tbody>\n",
       "</table>\n",
       "<p>14418 rows × 833 columns</p>\n",
       "</div>"
      ],
      "text/plain": [
       "       h14_id  h14_ind  h14_sn  h14_merkey  h_new  h14_cobf   p14_wsc  \\\n",
       "0         2.0      1.0     1.0     20101.0    0.0       NaN  0.291589   \n",
       "1         3.0      1.0     1.0     30101.0    0.0       NaN  0.419753   \n",
       "2         4.0      1.0     1.0     40101.0    0.0       NaN  0.265263   \n",
       "3         6.0      1.0     1.0     60101.0    0.0       NaN  0.494906   \n",
       "4         6.0      1.0     1.0     60101.0    0.0       NaN  1.017935   \n",
       "...       ...      ...     ...         ...    ...       ...       ...   \n",
       "14413  9800.0      7.0     1.0  98000701.0    1.0       NaN       NaN   \n",
       "14414  9800.0      7.0     1.0  98000701.0    1.0       NaN       NaN   \n",
       "14415  9800.0      7.0     1.0  98000701.0    1.0       NaN       NaN   \n",
       "14416  9800.0      7.0     1.0  98000701.0    1.0       NaN       NaN   \n",
       "14417  9800.0      7.0     1.0  98000701.0    1.0       NaN       NaN   \n",
       "\n",
       "        p14_wsl      p14_wgc      p14_wgl  ...  wc14_5aq5  wc14_5aq6  \\\n",
       "0      0.291589  1307.764781  1307.764781  ...        NaN        NaN   \n",
       "1      0.419753  1882.570960  1882.570960  ...        NaN        NaN   \n",
       "2      0.265980  1189.691668  1192.908537  ...        NaN        NaN   \n",
       "3      0.495941  2219.630833  2224.273816  ...        4.0        4.0   \n",
       "4      1.017935  4565.389177  4565.389177  ...        5.0        2.0   \n",
       "...         ...          ...          ...  ...        ...        ...   \n",
       "14413       NaN          NaN          NaN  ...        NaN        NaN   \n",
       "14414       NaN          NaN          NaN  ...        NaN        NaN   \n",
       "14415       NaN          NaN          NaN  ...        NaN        NaN   \n",
       "14416       NaN          NaN          NaN  ...        3.0        3.0   \n",
       "14417       NaN          NaN          NaN  ...        NaN        NaN   \n",
       "\n",
       "       h14_pers_income1  h14_pers_income2  h14_pers_income3  h14_pers_income4  \\\n",
       "0                   NaN               NaN               NaN               0.0   \n",
       "1                   NaN               NaN               NaN               0.0   \n",
       "2                   NaN            1284.0               NaN               0.0   \n",
       "3                2304.0               NaN            1800.0               0.0   \n",
       "4                   NaN               NaN               NaN               0.0   \n",
       "...                 ...               ...               ...               ...   \n",
       "14413               NaN               NaN               NaN               0.0   \n",
       "14414               NaN               NaN               NaN               0.0   \n",
       "14415               NaN             208.0               NaN               0.0   \n",
       "14416               NaN            1200.0               NaN               0.0   \n",
       "14417               NaN               NaN               NaN               0.0   \n",
       "\n",
       "       h14_pers_income5   age  age_group             job  \n",
       "0                   NaN  75.0        old             NaN  \n",
       "1                   NaN  72.0        old             NaN  \n",
       "2                   NaN  78.0        old             전기공  \n",
       "3                   NaN  58.0     middle     금속기계 부품 조립원  \n",
       "4                   NaN  57.0     middle             NaN  \n",
       "...                 ...   ...        ...             ...  \n",
       "14413               NaN  53.0     middle             NaN  \n",
       "14414               NaN  28.0      young             NaN  \n",
       "14415               NaN  25.0      young  건설 및 광업 단순 종사자  \n",
       "14416               NaN  22.0      young    보건 의료 관련 종사자  \n",
       "14417               NaN  19.0      young             NaN  \n",
       "\n",
       "[14418 rows x 833 columns]"
      ]
     },
     "execution_count": 223,
     "metadata": {},
     "output_type": "execute_result"
    }
   ],
   "source": [
    "# welfare에 list_job 결합하기\n",
    "welfare = welfare.merge(list_job, how = 'left', on = 'code_job')\n",
    "welfare"
   ]
  },
  {
   "cell_type": "code",
   "execution_count": 224,
   "id": "53bf866c",
   "metadata": {},
   "outputs": [
    {
     "data": {
      "text/html": [
       "<div>\n",
       "<style scoped>\n",
       "    .dataframe tbody tr th:only-of-type {\n",
       "        vertical-align: middle;\n",
       "    }\n",
       "\n",
       "    .dataframe tbody tr th {\n",
       "        vertical-align: top;\n",
       "    }\n",
       "\n",
       "    .dataframe thead th {\n",
       "        text-align: right;\n",
       "    }\n",
       "</style>\n",
       "<table border=\"1\" class=\"dataframe\">\n",
       "  <thead>\n",
       "    <tr style=\"text-align: right;\">\n",
       "      <th></th>\n",
       "      <th>code_job</th>\n",
       "      <th>job</th>\n",
       "    </tr>\n",
       "  </thead>\n",
       "  <tbody>\n",
       "    <tr>\n",
       "      <th>2</th>\n",
       "      <td>762.0</td>\n",
       "      <td>전기공</td>\n",
       "    </tr>\n",
       "    <tr>\n",
       "      <th>3</th>\n",
       "      <td>855.0</td>\n",
       "      <td>금속기계 부품 조립원</td>\n",
       "    </tr>\n",
       "    <tr>\n",
       "      <th>7</th>\n",
       "      <td>941.0</td>\n",
       "      <td>청소원 및 환경미화원</td>\n",
       "    </tr>\n",
       "    <tr>\n",
       "      <th>8</th>\n",
       "      <td>999.0</td>\n",
       "      <td>기타 서비스 관련 단순 종사자</td>\n",
       "    </tr>\n",
       "    <tr>\n",
       "      <th>14</th>\n",
       "      <td>312.0</td>\n",
       "      <td>경영 관련 사무원</td>\n",
       "    </tr>\n",
       "  </tbody>\n",
       "</table>\n",
       "</div>"
      ],
      "text/plain": [
       "    code_job               job\n",
       "2      762.0               전기공\n",
       "3      855.0       금속기계 부품 조립원\n",
       "7      941.0       청소원 및 환경미화원\n",
       "8      999.0  기타 서비스 관련 단순 종사자\n",
       "14     312.0         경영 관련 사무원"
      ]
     },
     "execution_count": 224,
     "metadata": {},
     "output_type": "execute_result"
    }
   ],
   "source": [
    "# code_job 결측치 제거하고 code_job, job 출력\n",
    "welfare.dropna(subset = ['code_job'])[['code_job', 'job']].head()"
   ]
  },
  {
   "cell_type": "markdown",
   "id": "9190944f",
   "metadata": {},
   "source": [
    "### 직업별 월급 차이 분석하기"
   ]
  },
  {
   "cell_type": "code",
   "execution_count": 225,
   "id": "e362035b",
   "metadata": {},
   "outputs": [
    {
     "data": {
      "text/html": [
       "<div>\n",
       "<style scoped>\n",
       "    .dataframe tbody tr th:only-of-type {\n",
       "        vertical-align: middle;\n",
       "    }\n",
       "\n",
       "    .dataframe tbody tr th {\n",
       "        vertical-align: top;\n",
       "    }\n",
       "\n",
       "    .dataframe thead th {\n",
       "        text-align: right;\n",
       "    }\n",
       "</style>\n",
       "<table border=\"1\" class=\"dataframe\">\n",
       "  <thead>\n",
       "    <tr style=\"text-align: right;\">\n",
       "      <th></th>\n",
       "      <th>job</th>\n",
       "      <th>mean_income</th>\n",
       "    </tr>\n",
       "  </thead>\n",
       "  <tbody>\n",
       "    <tr>\n",
       "      <th>0</th>\n",
       "      <td>가사 및 육아 도우미</td>\n",
       "      <td>92.455882</td>\n",
       "    </tr>\n",
       "    <tr>\n",
       "      <th>1</th>\n",
       "      <td>간호사</td>\n",
       "      <td>265.219178</td>\n",
       "    </tr>\n",
       "    <tr>\n",
       "      <th>2</th>\n",
       "      <td>감정∙기술영업및중개관련종사자</td>\n",
       "      <td>391.000000</td>\n",
       "    </tr>\n",
       "    <tr>\n",
       "      <th>3</th>\n",
       "      <td>건물 관리원 및 검표원</td>\n",
       "      <td>168.375000</td>\n",
       "    </tr>\n",
       "    <tr>\n",
       "      <th>4</th>\n",
       "      <td>건설 및 광업 단순 종사자</td>\n",
       "      <td>261.975000</td>\n",
       "    </tr>\n",
       "  </tbody>\n",
       "</table>\n",
       "</div>"
      ],
      "text/plain": [
       "                job  mean_income\n",
       "0       가사 및 육아 도우미    92.455882\n",
       "1               간호사   265.219178\n",
       "2  감정∙기술영업및중개관련종사자    391.000000\n",
       "3      건물 관리원 및 검표원   168.375000\n",
       "4    건설 및 광업 단순 종사자   261.975000"
      ]
     },
     "execution_count": 225,
     "metadata": {},
     "output_type": "execute_result"
    }
   ],
   "source": [
    "# 직업별 월급 평균 만들기\n",
    "job_income = welfare.dropna(subset = ['job', 'income'])\\\n",
    "                    .groupby('job', as_index = False)\\\n",
    "                    .agg(mean_income = ('income', 'mean'))\n",
    "job_income.head()"
   ]
  },
  {
   "cell_type": "code",
   "execution_count": 226,
   "id": "f4c2a89f",
   "metadata": {},
   "outputs": [
    {
     "data": {
      "text/html": [
       "<div>\n",
       "<style scoped>\n",
       "    .dataframe tbody tr th:only-of-type {\n",
       "        vertical-align: middle;\n",
       "    }\n",
       "\n",
       "    .dataframe tbody tr th {\n",
       "        vertical-align: top;\n",
       "    }\n",
       "\n",
       "    .dataframe thead th {\n",
       "        text-align: right;\n",
       "    }\n",
       "</style>\n",
       "<table border=\"1\" class=\"dataframe\">\n",
       "  <thead>\n",
       "    <tr style=\"text-align: right;\">\n",
       "      <th></th>\n",
       "      <th>job</th>\n",
       "      <th>mean_income</th>\n",
       "    </tr>\n",
       "  </thead>\n",
       "  <tbody>\n",
       "    <tr>\n",
       "      <th>98</th>\n",
       "      <td>의료 진료 전문가</td>\n",
       "      <td>781.000000</td>\n",
       "    </tr>\n",
       "    <tr>\n",
       "      <th>60</th>\n",
       "      <td>법률 전문가</td>\n",
       "      <td>776.333333</td>\n",
       "    </tr>\n",
       "    <tr>\n",
       "      <th>140</th>\n",
       "      <td>행정 및 경영 지원 관리자</td>\n",
       "      <td>771.833333</td>\n",
       "    </tr>\n",
       "    <tr>\n",
       "      <th>63</th>\n",
       "      <td>보험 및 금융 관리자</td>\n",
       "      <td>734.750000</td>\n",
       "    </tr>\n",
       "    <tr>\n",
       "      <th>110</th>\n",
       "      <td>재활용 처리 및 소각로 조작원</td>\n",
       "      <td>688.000000</td>\n",
       "    </tr>\n",
       "    <tr>\n",
       "      <th>131</th>\n",
       "      <td>컴퓨터 하드웨어 및 통신공학 전문가</td>\n",
       "      <td>679.444444</td>\n",
       "    </tr>\n",
       "    <tr>\n",
       "      <th>24</th>\n",
       "      <td>기계∙로봇공학 기술자 및 시험원</td>\n",
       "      <td>669.166667</td>\n",
       "    </tr>\n",
       "    <tr>\n",
       "      <th>6</th>\n",
       "      <td>건설∙전기 및 생산 관련 관리자</td>\n",
       "      <td>603.083333</td>\n",
       "    </tr>\n",
       "    <tr>\n",
       "      <th>120</th>\n",
       "      <td>제관원 및 판금원</td>\n",
       "      <td>597.000000</td>\n",
       "    </tr>\n",
       "    <tr>\n",
       "      <th>100</th>\n",
       "      <td>의회 의원∙고위 공무원 및 공공단체 임원</td>\n",
       "      <td>580.500000</td>\n",
       "    </tr>\n",
       "  </tbody>\n",
       "</table>\n",
       "</div>"
      ],
      "text/plain": [
       "                        job  mean_income\n",
       "98                의료 진료 전문가   781.000000\n",
       "60                   법률 전문가   776.333333\n",
       "140          행정 및 경영 지원 관리자   771.833333\n",
       "63              보험 및 금융 관리자   734.750000\n",
       "110        재활용 처리 및 소각로 조작원   688.000000\n",
       "131     컴퓨터 하드웨어 및 통신공학 전문가   679.444444\n",
       "24        기계∙로봇공학 기술자 및 시험원   669.166667\n",
       "6         건설∙전기 및 생산 관련 관리자   603.083333\n",
       "120               제관원 및 판금원   597.000000\n",
       "100  의회 의원∙고위 공무원 및 공공단체 임원   580.500000"
      ]
     },
     "execution_count": 226,
     "metadata": {},
     "output_type": "execute_result"
    }
   ],
   "source": [
    "# 상위 10위 추출\n",
    "top10 = job_income.sort_values('mean_income', ascending = False).head(10)\n",
    "top10"
   ]
  },
  {
   "cell_type": "code",
   "execution_count": 227,
   "id": "b0179131",
   "metadata": {},
   "outputs": [],
   "source": [
    "# 맑은 고딕 폰트 설정 (한글로 된 직업 이름이 그래프에 잘 출력되도록 폰트 설정)\n",
    "import matplotlib.pyplot as plt\n",
    "plt.rcParams.update({'font.family' : 'Malgun Gothic'})"
   ]
  },
  {
   "cell_type": "code",
   "execution_count": 228,
   "id": "c7f69da7",
   "metadata": {},
   "outputs": [
    {
     "data": {
      "image/png": "[encoded data removed]",
      "text/plain": [
       "<Figure size 640x480 with 1 Axes>"
      ]
     },
     "metadata": {},
     "output_type": "display_data"
    }
   ],
   "source": [
    "# 막대 그래프 만들기\n",
    "sns.barplot(data = top10, x = 'mean_income', y = 'job');"
   ]
  },
  {
   "cell_type": "markdown",
   "id": "f25564f5",
   "metadata": {},
   "source": [
    "### 의료 진료 전문가의 월급이 평균 781만 원으로 가장 많다.\n",
    "### 그 뒤로는 법률 전문가, 행정 및 경영 지원 관리자, 보험 및 금융 관리자 순으로 월급이 많다."
   ]
  },
  {
   "cell_type": "code",
   "execution_count": 229,
   "id": "a44a5ae1",
   "metadata": {},
   "outputs": [
    {
     "data": {
      "text/html": [
       "<div>\n",
       "<style scoped>\n",
       "    .dataframe tbody tr th:only-of-type {\n",
       "        vertical-align: middle;\n",
       "    }\n",
       "\n",
       "    .dataframe tbody tr th {\n",
       "        vertical-align: top;\n",
       "    }\n",
       "\n",
       "    .dataframe thead th {\n",
       "        text-align: right;\n",
       "    }\n",
       "</style>\n",
       "<table border=\"1\" class=\"dataframe\">\n",
       "  <thead>\n",
       "    <tr style=\"text-align: right;\">\n",
       "      <th></th>\n",
       "      <th>job</th>\n",
       "      <th>mean_income</th>\n",
       "    </tr>\n",
       "  </thead>\n",
       "  <tbody>\n",
       "    <tr>\n",
       "      <th>33</th>\n",
       "      <td>기타 돌봄∙보건 및 개인 생활 서비스 종사자</td>\n",
       "      <td>73.964286</td>\n",
       "    </tr>\n",
       "    <tr>\n",
       "      <th>34</th>\n",
       "      <td>기타 서비스 관련 단순 종사자</td>\n",
       "      <td>77.789474</td>\n",
       "    </tr>\n",
       "    <tr>\n",
       "      <th>128</th>\n",
       "      <td>청소원 및 환경미화원</td>\n",
       "      <td>88.461756</td>\n",
       "    </tr>\n",
       "    <tr>\n",
       "      <th>0</th>\n",
       "      <td>가사 및 육아 도우미</td>\n",
       "      <td>92.455882</td>\n",
       "    </tr>\n",
       "    <tr>\n",
       "      <th>43</th>\n",
       "      <td>돌봄 및 보건 서비스 종사자</td>\n",
       "      <td>117.162338</td>\n",
       "    </tr>\n",
       "    <tr>\n",
       "      <th>97</th>\n",
       "      <td>음식 관련 단순 종사자</td>\n",
       "      <td>118.187500</td>\n",
       "    </tr>\n",
       "    <tr>\n",
       "      <th>39</th>\n",
       "      <td>농림∙어업 관련 단순 종사자</td>\n",
       "      <td>122.625000</td>\n",
       "    </tr>\n",
       "    <tr>\n",
       "      <th>139</th>\n",
       "      <td>학예사∙사서 및 기록물 관리사</td>\n",
       "      <td>140.000000</td>\n",
       "    </tr>\n",
       "    <tr>\n",
       "      <th>126</th>\n",
       "      <td>채굴 및 토목 관련 기능 종사자</td>\n",
       "      <td>140.000000</td>\n",
       "    </tr>\n",
       "    <tr>\n",
       "      <th>135</th>\n",
       "      <td>판매 관련 단순 종사자</td>\n",
       "      <td>140.909091</td>\n",
       "    </tr>\n",
       "  </tbody>\n",
       "</table>\n",
       "</div>"
      ],
      "text/plain": [
       "                          job  mean_income\n",
       "33   기타 돌봄∙보건 및 개인 생활 서비스 종사자    73.964286\n",
       "34           기타 서비스 관련 단순 종사자    77.789474\n",
       "128               청소원 및 환경미화원    88.461756\n",
       "0                 가사 및 육아 도우미    92.455882\n",
       "43            돌봄 및 보건 서비스 종사자   117.162338\n",
       "97               음식 관련 단순 종사자   118.187500\n",
       "39            농림∙어업 관련 단순 종사자   122.625000\n",
       "139          학예사∙사서 및 기록물 관리사   140.000000\n",
       "126         채굴 및 토목 관련 기능 종사자   140.000000\n",
       "135              판매 관련 단순 종사자   140.909091"
      ]
     },
     "execution_count": 229,
     "metadata": {},
     "output_type": "execute_result"
    }
   ],
   "source": [
    "# 하위 10위 추출\n",
    "bottom10 = job_income.sort_values('mean_income').head(10)\n",
    "bottom10"
   ]
  },
  {
   "cell_type": "code",
   "execution_count": 230,
   "id": "357494ab",
   "metadata": {},
   "outputs": [
    {
     "data": {
      "image/png": "[encoded data removed]",
      "text/plain": [
       "<Figure size 640x480 with 1 Axes>"
      ]
     },
     "metadata": {},
     "output_type": "display_data"
    }
   ],
   "source": [
    "# 막대 그래프 만들기\n",
    "# 월급 상위 10위 그래프와 비교할 수 있도록 그래프 x축을 0~800으로 제한\n",
    "sns.barplot(data = bottom10, x = 'mean_income', y = 'job')\\\n",
    "   .set(xlim = [0, 800]);"
   ]
  },
  {
   "cell_type": "markdown",
   "id": "84654ab1",
   "metadata": {},
   "source": [
    "### 기타 돌봄, 보건 및 개인 생활 서비스 종사자의 월급이 평균 73만 원으로 가장 적다.\n",
    "### 그 뒤로 기타 서비스 관련 단순 종사자, 청소원 및 환경미화원, 가사 및 육아 도우미 순으로 적다."
   ]
  },
  {
   "cell_type": "markdown",
   "id": "aabf3287",
   "metadata": {},
   "source": [
    "## 7. 성별 직업 빈도 - 성별로 어떤 직업이 가장 많을까?\n",
    "### 성별 직업 빈도 분석하기"
   ]
  },
  {
   "cell_type": "code",
   "execution_count": 231,
   "id": "8dc78f6d",
   "metadata": {},
   "outputs": [
    {
     "data": {
      "text/html": [
       "<div>\n",
       "<style scoped>\n",
       "    .dataframe tbody tr th:only-of-type {\n",
       "        vertical-align: middle;\n",
       "    }\n",
       "\n",
       "    .dataframe tbody tr th {\n",
       "        vertical-align: top;\n",
       "    }\n",
       "\n",
       "    .dataframe thead th {\n",
       "        text-align: right;\n",
       "    }\n",
       "</style>\n",
       "<table border=\"1\" class=\"dataframe\">\n",
       "  <thead>\n",
       "    <tr style=\"text-align: right;\">\n",
       "      <th></th>\n",
       "      <th>job</th>\n",
       "      <th>n</th>\n",
       "    </tr>\n",
       "  </thead>\n",
       "  <tbody>\n",
       "    <tr>\n",
       "      <th>107</th>\n",
       "      <td>작물 재배 종사자</td>\n",
       "      <td>486</td>\n",
       "    </tr>\n",
       "    <tr>\n",
       "      <th>104</th>\n",
       "      <td>자동차 운전원</td>\n",
       "      <td>230</td>\n",
       "    </tr>\n",
       "    <tr>\n",
       "      <th>11</th>\n",
       "      <td>경영 관련 사무원</td>\n",
       "      <td>216</td>\n",
       "    </tr>\n",
       "    <tr>\n",
       "      <th>46</th>\n",
       "      <td>매장 판매 종사자</td>\n",
       "      <td>142</td>\n",
       "    </tr>\n",
       "    <tr>\n",
       "      <th>89</th>\n",
       "      <td>영업 종사자</td>\n",
       "      <td>113</td>\n",
       "    </tr>\n",
       "    <tr>\n",
       "      <th>127</th>\n",
       "      <td>청소원 및 환경미화원</td>\n",
       "      <td>109</td>\n",
       "    </tr>\n",
       "    <tr>\n",
       "      <th>4</th>\n",
       "      <td>건설 및 광업 단순 종사자</td>\n",
       "      <td>96</td>\n",
       "    </tr>\n",
       "    <tr>\n",
       "      <th>120</th>\n",
       "      <td>제조 관련 단순 종사자</td>\n",
       "      <td>80</td>\n",
       "    </tr>\n",
       "    <tr>\n",
       "      <th>3</th>\n",
       "      <td>건물 관리원 및 검표원</td>\n",
       "      <td>79</td>\n",
       "    </tr>\n",
       "    <tr>\n",
       "      <th>141</th>\n",
       "      <td>행정 사무원</td>\n",
       "      <td>74</td>\n",
       "    </tr>\n",
       "  </tbody>\n",
       "</table>\n",
       "</div>"
      ],
      "text/plain": [
       "                job    n\n",
       "107       작물 재배 종사자  486\n",
       "104         자동차 운전원  230\n",
       "11        경영 관련 사무원  216\n",
       "46        매장 판매 종사자  142\n",
       "89           영업 종사자  113\n",
       "127     청소원 및 환경미화원  109\n",
       "4    건설 및 광업 단순 종사자   96\n",
       "120    제조 관련 단순 종사자   80\n",
       "3      건물 관리원 및 검표원   79\n",
       "141          행정 사무원   74"
      ]
     },
     "execution_count": 231,
     "metadata": {},
     "output_type": "execute_result"
    }
   ],
   "source": [
    "# 남성 직업 빈도 상위 10개 추출\n",
    "job_male = welfare.dropna(subset = ['job'])\\\n",
    "                  .query('sex == \"male\"')\\\n",
    "                  .groupby('job', as_index = False)\\\n",
    "                  .agg(n = ('job', 'count'))\\\n",
    "                  .sort_values('n', ascending = False)\\\n",
    "                  .head(10)\n",
    "job_male"
   ]
  },
  {
   "cell_type": "code",
   "execution_count": 232,
   "id": "2af4bc10",
   "metadata": {},
   "outputs": [
    {
     "data": {
      "text/html": [
       "<div>\n",
       "<style scoped>\n",
       "    .dataframe tbody tr th:only-of-type {\n",
       "        vertical-align: middle;\n",
       "    }\n",
       "\n",
       "    .dataframe tbody tr th {\n",
       "        vertical-align: top;\n",
       "    }\n",
       "\n",
       "    .dataframe thead th {\n",
       "        text-align: right;\n",
       "    }\n",
       "</style>\n",
       "<table border=\"1\" class=\"dataframe\">\n",
       "  <thead>\n",
       "    <tr style=\"text-align: right;\">\n",
       "      <th></th>\n",
       "      <th>job</th>\n",
       "      <th>n</th>\n",
       "    </tr>\n",
       "  </thead>\n",
       "  <tbody>\n",
       "    <tr>\n",
       "      <th>83</th>\n",
       "      <td>작물 재배 종사자</td>\n",
       "      <td>476</td>\n",
       "    </tr>\n",
       "    <tr>\n",
       "      <th>91</th>\n",
       "      <td>청소원 및 환경미화원</td>\n",
       "      <td>282</td>\n",
       "    </tr>\n",
       "    <tr>\n",
       "      <th>33</th>\n",
       "      <td>매장 판매 종사자</td>\n",
       "      <td>212</td>\n",
       "    </tr>\n",
       "    <tr>\n",
       "      <th>106</th>\n",
       "      <td>회계 및 경리 사무원</td>\n",
       "      <td>163</td>\n",
       "    </tr>\n",
       "    <tr>\n",
       "      <th>31</th>\n",
       "      <td>돌봄 및 보건 서비스 종사자</td>\n",
       "      <td>155</td>\n",
       "    </tr>\n",
       "    <tr>\n",
       "      <th>87</th>\n",
       "      <td>제조 관련 단순 종사자</td>\n",
       "      <td>148</td>\n",
       "    </tr>\n",
       "    <tr>\n",
       "      <th>73</th>\n",
       "      <td>음식 관련 단순 종사자</td>\n",
       "      <td>126</td>\n",
       "    </tr>\n",
       "    <tr>\n",
       "      <th>58</th>\n",
       "      <td>식음료 서비스 종사자</td>\n",
       "      <td>117</td>\n",
       "    </tr>\n",
       "    <tr>\n",
       "      <th>88</th>\n",
       "      <td>조리사</td>\n",
       "      <td>114</td>\n",
       "    </tr>\n",
       "    <tr>\n",
       "      <th>24</th>\n",
       "      <td>기타 서비스 관련 단순 종사자</td>\n",
       "      <td>97</td>\n",
       "    </tr>\n",
       "  </tbody>\n",
       "</table>\n",
       "</div>"
      ],
      "text/plain": [
       "                  job    n\n",
       "83          작물 재배 종사자  476\n",
       "91        청소원 및 환경미화원  282\n",
       "33          매장 판매 종사자  212\n",
       "106       회계 및 경리 사무원  163\n",
       "31    돌봄 및 보건 서비스 종사자  155\n",
       "87       제조 관련 단순 종사자  148\n",
       "73       음식 관련 단순 종사자  126\n",
       "58        식음료 서비스 종사자  117\n",
       "88                조리사  114\n",
       "24   기타 서비스 관련 단순 종사자   97"
      ]
     },
     "execution_count": 232,
     "metadata": {},
     "output_type": "execute_result"
    }
   ],
   "source": [
    "# 여성 직업 빈도 상위 10개 추출\n",
    "job_female = welfare.dropna(subset = ['job'])\\\n",
    "                    .query('sex == \"female\"')\\\n",
    "                    .groupby('job', as_index = False)\\\n",
    "                    .agg(n = ('job', 'count'))\\\n",
    "                    .sort_values('n', ascending = False)\\\n",
    "                    .head(10)\n",
    "job_female"
   ]
  },
  {
   "cell_type": "code",
   "execution_count": 233,
   "id": "2b95f754",
   "metadata": {},
   "outputs": [
    {
     "data": {
      "image/png": "[encoded data removed]",
      "text/plain": [
       "<Figure size 640x480 with 1 Axes>"
      ]
     },
     "metadata": {},
     "output_type": "display_data"
    }
   ],
   "source": [
    "# 남성 직업 빈도 막대 그래프 만들기\n",
    "sns.barplot(data = job_male, x = 'n', y = 'job');"
   ]
  },
  {
   "cell_type": "code",
   "execution_count": 234,
   "id": "4c3128cb",
   "metadata": {},
   "outputs": [
    {
     "data": {
      "image/png": "[encoded data removed]",
      "text/plain": [
       "<Figure size 640x480 with 1 Axes>"
      ]
     },
     "metadata": {},
     "output_type": "display_data"
    }
   ],
   "source": [
    "# 여성 직업 빈도 막대 그래프 만들기\n",
    "sns.barplot(data = job_female, x = 'n', y = 'job');"
   ]
  },
  {
   "cell_type": "markdown",
   "id": "acfb2d41",
   "metadata": {},
   "source": [
    "### 남녀 모두 작물 재배 종사자가 가장 많다.\n",
    "### 그 뒤로 남성은 자동차 운전원, 경영 관련 사무원, 매장 판매 종사자 순으로 많고\n",
    "### 여성은 청소원 및 환경미화원, 매장 판매 종사자, 회계 및 경리 사무원 순으로 많다."
   ]
  },
  {
   "cell_type": "markdown",
   "id": "144ec5e5",
   "metadata": {},
   "source": [
    "## 8. 종교 유무에 따른 이혼율 - 종교가 있으면 이혼을 덜 할까?\n",
    "### 종교 변수 검토 및 전처리하기"
   ]
  },
  {
   "cell_type": "code",
   "execution_count": 235,
   "id": "e178d1b9",
   "metadata": {},
   "outputs": [
    {
     "data": {
      "text/plain": [
       "dtype('float64')"
      ]
     },
     "execution_count": 235,
     "metadata": {},
     "output_type": "execute_result"
    }
   ],
   "source": [
    "# 변수 타입 출력\n",
    "welfare['religion'].dtypes"
   ]
  },
  {
   "cell_type": "code",
   "execution_count": 236,
   "id": "6213ce66",
   "metadata": {},
   "outputs": [
    {
     "data": {
      "text/plain": [
       "2.0    7815\n",
       "1.0    6603\n",
       "Name: religion, dtype: int64"
      ]
     },
     "execution_count": 236,
     "metadata": {},
     "output_type": "execute_result"
    }
   ],
   "source": [
    "# 빈도 구하기\n",
    "# 1 : 종교 있음\n",
    "# 2 : 종교 없음\n",
    "welfare['religion'].value_counts()"
   ]
  },
  {
   "cell_type": "code",
   "execution_count": 237,
   "id": "859115b6",
   "metadata": {},
   "outputs": [
    {
     "data": {
      "text/plain": [
       "no     7815\n",
       "yes    6603\n",
       "Name: religion, dtype: int64"
      ]
     },
     "execution_count": 237,
     "metadata": {},
     "output_type": "execute_result"
    }
   ],
   "source": [
    "# 종교 유무 이름 부여\n",
    "welfare['religion'] = np.where(welfare['religion'] == 1, 'yes', 'no')\n",
    "\n",
    "# 빈도 구하기\n",
    "welfare['religion'].value_counts()"
   ]
  },
  {
   "cell_type": "code",
   "execution_count": 238,
   "id": "fbf53b07",
   "metadata": {},
   "outputs": [
    {
     "data": {
      "image/png": "[encoded data removed]",
      "text/plain": [
       "<Figure size 640x480 with 1 Axes>"
      ]
     },
     "metadata": {},
     "output_type": "display_data"
    }
   ],
   "source": [
    "# 막대 그래프 만들기\n",
    "sns.countplot(data = welfare, x = 'religion');"
   ]
  },
  {
   "cell_type": "markdown",
   "id": "69b29f9f",
   "metadata": {},
   "source": [
    "### 혼인 상태 변수 검토 및 전처리하기"
   ]
  },
  {
   "cell_type": "code",
   "execution_count": 239,
   "id": "f6e4b863",
   "metadata": {},
   "outputs": [
    {
     "data": {
      "text/plain": [
       "dtype('float64')"
      ]
     },
     "execution_count": 239,
     "metadata": {},
     "output_type": "execute_result"
    }
   ],
   "source": [
    "# 변수 타입 출력\n",
    "welfare['marriage_type'].dtypes"
   ]
  },
  {
   "cell_type": "code",
   "execution_count": 240,
   "id": "74f6e4ae",
   "metadata": {},
   "outputs": [
    {
     "data": {
      "text/plain": [
       "1.0    7190\n",
       "5.0    2357\n",
       "0.0    2121\n",
       "2.0    1954\n",
       "3.0     689\n",
       "4.0      78\n",
       "6.0      29\n",
       "Name: marriage_type, dtype: int64"
      ]
     },
     "execution_count": 240,
     "metadata": {},
     "output_type": "execute_result"
    }
   ],
   "source": [
    "# 빈도 구하기\n",
    "# 0 : 비해당(18세 미만)\n",
    "# 1 : 유배우\n",
    "# 2 : 사별\n",
    "# 3 : 이혼\n",
    "# 4 : 별거\n",
    "# 5 : 미혼(18세 이상, 미혼모 포함)\n",
    "# 6 : 기타(사망 등)\n",
    "welfare['marriage_type'].value_counts()"
   ]
  },
  {
   "cell_type": "code",
   "execution_count": 241,
   "id": "d8ffcb0e",
   "metadata": {},
   "outputs": [
    {
     "data": {
      "text/html": [
       "<div>\n",
       "<style scoped>\n",
       "    .dataframe tbody tr th:only-of-type {\n",
       "        vertical-align: middle;\n",
       "    }\n",
       "\n",
       "    .dataframe tbody tr th {\n",
       "        vertical-align: top;\n",
       "    }\n",
       "\n",
       "    .dataframe thead th {\n",
       "        text-align: right;\n",
       "    }\n",
       "</style>\n",
       "<table border=\"1\" class=\"dataframe\">\n",
       "  <thead>\n",
       "    <tr style=\"text-align: right;\">\n",
       "      <th></th>\n",
       "      <th>marriage</th>\n",
       "      <th>n</th>\n",
       "    </tr>\n",
       "  </thead>\n",
       "  <tbody>\n",
       "    <tr>\n",
       "      <th>0</th>\n",
       "      <td>divorce</td>\n",
       "      <td>689</td>\n",
       "    </tr>\n",
       "    <tr>\n",
       "      <th>1</th>\n",
       "      <td>etc</td>\n",
       "      <td>6539</td>\n",
       "    </tr>\n",
       "    <tr>\n",
       "      <th>2</th>\n",
       "      <td>marriage</td>\n",
       "      <td>7190</td>\n",
       "    </tr>\n",
       "  </tbody>\n",
       "</table>\n",
       "</div>"
      ],
      "text/plain": [
       "   marriage     n\n",
       "0   divorce   689\n",
       "1       etc  6539\n",
       "2  marriage  7190"
      ]
     },
     "execution_count": 241,
     "metadata": {},
     "output_type": "execute_result"
    }
   ],
   "source": [
    "# 파생변수 만들기 - 이혼 여부\n",
    "# 이혼 여부 변수 만들기\n",
    "welfare['marriage'] = np.where(welfare['marriage_type'] == 1, 'marriage',\n",
    "                      np.where(welfare['marriage_type'] == 3, 'divorce', 'etc'))\n",
    "\n",
    "# 이혼 여부별 빈도\n",
    "n_divorce = welfare.groupby('marriage', as_index = False)\\\n",
    "                   .agg(n = ('marriage', 'count'))\n",
    "n_divorce"
   ]
  },
  {
   "cell_type": "code",
   "execution_count": 242,
   "id": "36faaeed",
   "metadata": {},
   "outputs": [
    {
     "data": {
      "image/png": "[encoded data removed]",
      "text/plain": [
       "<Figure size 640x480 with 1 Axes>"
      ]
     },
     "metadata": {},
     "output_type": "display_data"
    }
   ],
   "source": [
    "# 막대 그래프 만들기\n",
    "sns.barplot(data = n_divorce, x = 'marriage', y = 'n');"
   ]
  },
  {
   "cell_type": "markdown",
   "id": "25a4f5bb",
   "metadata": {},
   "source": [
    "### 종교 유무에 따른 이혼율 분석하기"
   ]
  },
  {
   "cell_type": "code",
   "execution_count": 243,
   "id": "8815536f",
   "metadata": {},
   "outputs": [
    {
     "data": {
      "text/html": [
       "<div>\n",
       "<style scoped>\n",
       "    .dataframe tbody tr th:only-of-type {\n",
       "        vertical-align: middle;\n",
       "    }\n",
       "\n",
       "    .dataframe tbody tr th {\n",
       "        vertical-align: top;\n",
       "    }\n",
       "\n",
       "    .dataframe thead th {\n",
       "        text-align: right;\n",
       "    }\n",
       "</style>\n",
       "<table border=\"1\" class=\"dataframe\">\n",
       "  <thead>\n",
       "    <tr style=\"text-align: right;\">\n",
       "      <th></th>\n",
       "      <th>religion</th>\n",
       "      <th>marriage</th>\n",
       "      <th>proportion</th>\n",
       "    </tr>\n",
       "  </thead>\n",
       "  <tbody>\n",
       "    <tr>\n",
       "      <th>0</th>\n",
       "      <td>no</td>\n",
       "      <td>marriage</td>\n",
       "      <td>0.905045</td>\n",
       "    </tr>\n",
       "    <tr>\n",
       "      <th>1</th>\n",
       "      <td>no</td>\n",
       "      <td>divorce</td>\n",
       "      <td>0.094955</td>\n",
       "    </tr>\n",
       "    <tr>\n",
       "      <th>2</th>\n",
       "      <td>yes</td>\n",
       "      <td>marriage</td>\n",
       "      <td>0.920469</td>\n",
       "    </tr>\n",
       "    <tr>\n",
       "      <th>3</th>\n",
       "      <td>yes</td>\n",
       "      <td>divorce</td>\n",
       "      <td>0.079531</td>\n",
       "    </tr>\n",
       "  </tbody>\n",
       "</table>\n",
       "</div>"
      ],
      "text/plain": [
       "  religion  marriage  proportion\n",
       "0       no  marriage    0.905045\n",
       "1       no   divorce    0.094955\n",
       "2      yes  marriage    0.920469\n",
       "3      yes   divorce    0.079531"
      ]
     },
     "execution_count": 243,
     "metadata": {},
     "output_type": "execute_result"
    }
   ],
   "source": [
    "# 종교 유무에 따른 이혼율표 만들기\n",
    "# value_counts()에 normalize = True 옵션을 지정하면 비율을 구한다.\n",
    "rel_div = welfare.query('marriage != \"etc\"')\\\n",
    "                 .groupby('religion', as_index = False)\\\n",
    "                 ['marriage']\\\n",
    "                 .value_counts(normalize = True)\n",
    "rel_div"
   ]
  },
  {
   "cell_type": "code",
   "execution_count": 244,
   "id": "eaa28bdf",
   "metadata": {},
   "outputs": [
    {
     "data": {
      "text/html": [
       "<div>\n",
       "<style scoped>\n",
       "    .dataframe tbody tr th:only-of-type {\n",
       "        vertical-align: middle;\n",
       "    }\n",
       "\n",
       "    .dataframe tbody tr th {\n",
       "        vertical-align: top;\n",
       "    }\n",
       "\n",
       "    .dataframe thead th {\n",
       "        text-align: right;\n",
       "    }\n",
       "</style>\n",
       "<table border=\"1\" class=\"dataframe\">\n",
       "  <thead>\n",
       "    <tr style=\"text-align: right;\">\n",
       "      <th></th>\n",
       "      <th>religion</th>\n",
       "      <th>marriage</th>\n",
       "      <th>proportion</th>\n",
       "    </tr>\n",
       "  </thead>\n",
       "  <tbody>\n",
       "    <tr>\n",
       "      <th>1</th>\n",
       "      <td>no</td>\n",
       "      <td>divorce</td>\n",
       "      <td>9.5</td>\n",
       "    </tr>\n",
       "    <tr>\n",
       "      <th>3</th>\n",
       "      <td>yes</td>\n",
       "      <td>divorce</td>\n",
       "      <td>8.0</td>\n",
       "    </tr>\n",
       "  </tbody>\n",
       "</table>\n",
       "</div>"
      ],
      "text/plain": [
       "  religion marriage  proportion\n",
       "1       no  divorce         9.5\n",
       "3      yes  divorce         8.0"
      ]
     },
     "execution_count": 244,
     "metadata": {},
     "output_type": "execute_result"
    }
   ],
   "source": [
    "# divorce 추출\n",
    "# 백분율로 바꾸기\n",
    "# 반올림\n",
    "rel_div = rel_div.query('marriage == \"divorce\"')\\\n",
    "                 .assign(proportion = rel_div['proportion'] * 100)\\\n",
    "                 .round(1)\n",
    "rel_div"
   ]
  },
  {
   "cell_type": "code",
   "execution_count": 245,
   "id": "ddef4f25",
   "metadata": {},
   "outputs": [
    {
     "data": {
      "image/png": "[encoded data removed]",
      "text/plain": [
       "<Figure size 640x480 with 1 Axes>"
      ]
     },
     "metadata": {},
     "output_type": "display_data"
    }
   ],
   "source": [
    "# 막대 그래프 만들기\n",
    "sns.barplot(data = rel_div, x = 'religion', y = 'proportion');"
   ]
  },
  {
   "cell_type": "markdown",
   "id": "71af6a59",
   "metadata": {},
   "source": [
    "### 이혼율은 종교가 있으면 8.0%, 종교가 없으면 9.5% 이다.\n",
    "### 종교가 있는 사람이 이혼을 덜 한다고 볼 수 있다."
   ]
  },
  {
   "cell_type": "markdown",
   "id": "c30206b7",
   "metadata": {},
   "source": [
    "### 연령대 및 종교 유무에 따른 이혼율 분석하기"
   ]
  },
  {
   "cell_type": "code",
   "execution_count": 246,
   "id": "e669db99",
   "metadata": {},
   "outputs": [
    {
     "data": {
      "text/html": [
       "<div>\n",
       "<style scoped>\n",
       "    .dataframe tbody tr th:only-of-type {\n",
       "        vertical-align: middle;\n",
       "    }\n",
       "\n",
       "    .dataframe tbody tr th {\n",
       "        vertical-align: top;\n",
       "    }\n",
       "\n",
       "    .dataframe thead th {\n",
       "        text-align: right;\n",
       "    }\n",
       "</style>\n",
       "<table border=\"1\" class=\"dataframe\">\n",
       "  <thead>\n",
       "    <tr style=\"text-align: right;\">\n",
       "      <th></th>\n",
       "      <th>age_group</th>\n",
       "      <th>marriage</th>\n",
       "      <th>proportion</th>\n",
       "    </tr>\n",
       "  </thead>\n",
       "  <tbody>\n",
       "    <tr>\n",
       "      <th>0</th>\n",
       "      <td>middle</td>\n",
       "      <td>marriage</td>\n",
       "      <td>0.910302</td>\n",
       "    </tr>\n",
       "    <tr>\n",
       "      <th>1</th>\n",
       "      <td>middle</td>\n",
       "      <td>divorce</td>\n",
       "      <td>0.089698</td>\n",
       "    </tr>\n",
       "    <tr>\n",
       "      <th>2</th>\n",
       "      <td>old</td>\n",
       "      <td>marriage</td>\n",
       "      <td>0.914220</td>\n",
       "    </tr>\n",
       "    <tr>\n",
       "      <th>3</th>\n",
       "      <td>old</td>\n",
       "      <td>divorce</td>\n",
       "      <td>0.085780</td>\n",
       "    </tr>\n",
       "    <tr>\n",
       "      <th>4</th>\n",
       "      <td>young</td>\n",
       "      <td>marriage</td>\n",
       "      <td>0.950000</td>\n",
       "    </tr>\n",
       "    <tr>\n",
       "      <th>5</th>\n",
       "      <td>young</td>\n",
       "      <td>divorce</td>\n",
       "      <td>0.050000</td>\n",
       "    </tr>\n",
       "  </tbody>\n",
       "</table>\n",
       "</div>"
      ],
      "text/plain": [
       "  age_group  marriage  proportion\n",
       "0    middle  marriage    0.910302\n",
       "1    middle   divorce    0.089698\n",
       "2       old  marriage    0.914220\n",
       "3       old   divorce    0.085780\n",
       "4     young  marriage    0.950000\n",
       "5     young   divorce    0.050000"
      ]
     },
     "execution_count": 246,
     "metadata": {},
     "output_type": "execute_result"
    }
   ],
   "source": [
    "# 연령대 및 이혼 여부별 비율 구하기\n",
    "age_div = welfare.query('marriage != \"etc\"')\\\n",
    "                 .groupby('age_group', as_index = False)\\\n",
    "                 ['marriage']\\\n",
    "                 .value_counts(normalize = True)\n",
    "age_div"
   ]
  },
  {
   "cell_type": "code",
   "execution_count": 247,
   "id": "a876b20f",
   "metadata": {},
   "outputs": [
    {
     "data": {
      "text/html": [
       "<div>\n",
       "<style scoped>\n",
       "    .dataframe tbody tr th:only-of-type {\n",
       "        vertical-align: middle;\n",
       "    }\n",
       "\n",
       "    .dataframe tbody tr th {\n",
       "        vertical-align: top;\n",
       "    }\n",
       "\n",
       "    .dataframe thead th {\n",
       "        text-align: right;\n",
       "    }\n",
       "</style>\n",
       "<table border=\"1\" class=\"dataframe\">\n",
       "  <thead>\n",
       "    <tr style=\"text-align: right;\">\n",
       "      <th></th>\n",
       "      <th>age_group</th>\n",
       "      <th>marriage</th>\n",
       "      <th>count</th>\n",
       "    </tr>\n",
       "  </thead>\n",
       "  <tbody>\n",
       "    <tr>\n",
       "      <th>0</th>\n",
       "      <td>middle</td>\n",
       "      <td>marriage</td>\n",
       "      <td>3552</td>\n",
       "    </tr>\n",
       "    <tr>\n",
       "      <th>1</th>\n",
       "      <td>middle</td>\n",
       "      <td>divorce</td>\n",
       "      <td>350</td>\n",
       "    </tr>\n",
       "    <tr>\n",
       "      <th>2</th>\n",
       "      <td>old</td>\n",
       "      <td>marriage</td>\n",
       "      <td>3581</td>\n",
       "    </tr>\n",
       "    <tr>\n",
       "      <th>3</th>\n",
       "      <td>old</td>\n",
       "      <td>divorce</td>\n",
       "      <td>336</td>\n",
       "    </tr>\n",
       "    <tr>\n",
       "      <th>4</th>\n",
       "      <td>young</td>\n",
       "      <td>marriage</td>\n",
       "      <td>57</td>\n",
       "    </tr>\n",
       "    <tr>\n",
       "      <th>5</th>\n",
       "      <td>young</td>\n",
       "      <td>divorce</td>\n",
       "      <td>3</td>\n",
       "    </tr>\n",
       "  </tbody>\n",
       "</table>\n",
       "</div>"
      ],
      "text/plain": [
       "  age_group  marriage  count\n",
       "0    middle  marriage   3552\n",
       "1    middle   divorce    350\n",
       "2       old  marriage   3581\n",
       "3       old   divorce    336\n",
       "4     young  marriage     57\n",
       "5     young   divorce      3"
      ]
     },
     "execution_count": 247,
     "metadata": {},
     "output_type": "execute_result"
    }
   ],
   "source": [
    "# 연령대 및 이혼 여부별 빈도\n",
    "welfare.query('marriage != \"etc\"')\\\n",
    "       .groupby('age_group', as_index = False)\\\n",
    "       ['marriage']\\\n",
    "       .value_counts()"
   ]
  },
  {
   "cell_type": "code",
   "execution_count": 248,
   "id": "76f93dbc",
   "metadata": {},
   "outputs": [
    {
     "data": {
      "text/html": [
       "<div>\n",
       "<style scoped>\n",
       "    .dataframe tbody tr th:only-of-type {\n",
       "        vertical-align: middle;\n",
       "    }\n",
       "\n",
       "    .dataframe tbody tr th {\n",
       "        vertical-align: top;\n",
       "    }\n",
       "\n",
       "    .dataframe thead th {\n",
       "        text-align: right;\n",
       "    }\n",
       "</style>\n",
       "<table border=\"1\" class=\"dataframe\">\n",
       "  <thead>\n",
       "    <tr style=\"text-align: right;\">\n",
       "      <th></th>\n",
       "      <th>age_group</th>\n",
       "      <th>marriage</th>\n",
       "      <th>proportion</th>\n",
       "    </tr>\n",
       "  </thead>\n",
       "  <tbody>\n",
       "    <tr>\n",
       "      <th>1</th>\n",
       "      <td>middle</td>\n",
       "      <td>divorce</td>\n",
       "      <td>9.0</td>\n",
       "    </tr>\n",
       "    <tr>\n",
       "      <th>3</th>\n",
       "      <td>old</td>\n",
       "      <td>divorce</td>\n",
       "      <td>8.6</td>\n",
       "    </tr>\n",
       "  </tbody>\n",
       "</table>\n",
       "</div>"
      ],
      "text/plain": [
       "  age_group marriage  proportion\n",
       "1    middle  divorce         9.0\n",
       "3       old  divorce         8.6"
      ]
     },
     "execution_count": 248,
     "metadata": {},
     "output_type": "execute_result"
    }
   ],
   "source": [
    "# 초년 제외(이혼 거의 없음), 이혼 추출\n",
    "# 백분율로 바꾸기\n",
    "# 반올림\n",
    "age_div = age_div.query('age_group != \"young\" & marriage == \"divorce\"')\\\n",
    "                 .assign(proportion = age_div['proportion'] * 100)\\\n",
    "                 .round(1)\n",
    "age_div"
   ]
  },
  {
   "cell_type": "code",
   "execution_count": 249,
   "id": "20599aba",
   "metadata": {},
   "outputs": [
    {
     "data": {
      "image/png": "[encoded data removed]",
      "text/plain": [
       "<Figure size 640x480 with 1 Axes>"
      ]
     },
     "metadata": {},
     "output_type": "display_data"
    }
   ],
   "source": [
    "# 막대 그래프 만들기\n",
    "sns.barplot(data = age_div, x = 'age_group', y = 'proportion');"
   ]
  },
  {
   "cell_type": "code",
   "execution_count": 250,
   "id": "e4386c77",
   "metadata": {},
   "outputs": [
    {
     "data": {
      "text/html": [
       "<div>\n",
       "<style scoped>\n",
       "    .dataframe tbody tr th:only-of-type {\n",
       "        vertical-align: middle;\n",
       "    }\n",
       "\n",
       "    .dataframe tbody tr th {\n",
       "        vertical-align: top;\n",
       "    }\n",
       "\n",
       "    .dataframe thead th {\n",
       "        text-align: right;\n",
       "    }\n",
       "</style>\n",
       "<table border=\"1\" class=\"dataframe\">\n",
       "  <thead>\n",
       "    <tr style=\"text-align: right;\">\n",
       "      <th></th>\n",
       "      <th>age_group</th>\n",
       "      <th>religion</th>\n",
       "      <th>marriage</th>\n",
       "      <th>proportion</th>\n",
       "    </tr>\n",
       "  </thead>\n",
       "  <tbody>\n",
       "    <tr>\n",
       "      <th>0</th>\n",
       "      <td>middle</td>\n",
       "      <td>no</td>\n",
       "      <td>marriage</td>\n",
       "      <td>0.904953</td>\n",
       "    </tr>\n",
       "    <tr>\n",
       "      <th>1</th>\n",
       "      <td>middle</td>\n",
       "      <td>no</td>\n",
       "      <td>divorce</td>\n",
       "      <td>0.095047</td>\n",
       "    </tr>\n",
       "    <tr>\n",
       "      <th>2</th>\n",
       "      <td>middle</td>\n",
       "      <td>yes</td>\n",
       "      <td>marriage</td>\n",
       "      <td>0.917520</td>\n",
       "    </tr>\n",
       "    <tr>\n",
       "      <th>3</th>\n",
       "      <td>middle</td>\n",
       "      <td>yes</td>\n",
       "      <td>divorce</td>\n",
       "      <td>0.082480</td>\n",
       "    </tr>\n",
       "    <tr>\n",
       "      <th>4</th>\n",
       "      <td>old</td>\n",
       "      <td>no</td>\n",
       "      <td>marriage</td>\n",
       "      <td>0.904382</td>\n",
       "    </tr>\n",
       "    <tr>\n",
       "      <th>5</th>\n",
       "      <td>old</td>\n",
       "      <td>no</td>\n",
       "      <td>divorce</td>\n",
       "      <td>0.095618</td>\n",
       "    </tr>\n",
       "    <tr>\n",
       "      <th>6</th>\n",
       "      <td>old</td>\n",
       "      <td>yes</td>\n",
       "      <td>marriage</td>\n",
       "      <td>0.922222</td>\n",
       "    </tr>\n",
       "    <tr>\n",
       "      <th>7</th>\n",
       "      <td>old</td>\n",
       "      <td>yes</td>\n",
       "      <td>divorce</td>\n",
       "      <td>0.077778</td>\n",
       "    </tr>\n",
       "  </tbody>\n",
       "</table>\n",
       "</div>"
      ],
      "text/plain": [
       "  age_group religion  marriage  proportion\n",
       "0    middle       no  marriage    0.904953\n",
       "1    middle       no   divorce    0.095047\n",
       "2    middle      yes  marriage    0.917520\n",
       "3    middle      yes   divorce    0.082480\n",
       "4       old       no  marriage    0.904382\n",
       "5       old       no   divorce    0.095618\n",
       "6       old      yes  marriage    0.922222\n",
       "7       old      yes   divorce    0.077778"
      ]
     },
     "execution_count": 250,
     "metadata": {},
     "output_type": "execute_result"
    }
   ],
   "source": [
    "# 종교 유무에 따른 이혼율 차이가 연령대별로 다른지 확인\n",
    "# etc 제외, 초년 제외\n",
    "# age_group, religion별 분리\n",
    "# marriage 추출\n",
    "# 비율 구하기\n",
    "age_rel_div = welfare.query('marriage != \"etc\" & age_group != \"young\"')\\\n",
    "                     .groupby(['age_group', 'religion'], as_index = False)\\\n",
    "                     ['marriage']\\\n",
    "                     .value_counts(normalize = True)\n",
    "age_rel_div"
   ]
  },
  {
   "cell_type": "code",
   "execution_count": 251,
   "id": "724c0ab1",
   "metadata": {},
   "outputs": [
    {
     "data": {
      "text/html": [
       "<div>\n",
       "<style scoped>\n",
       "    .dataframe tbody tr th:only-of-type {\n",
       "        vertical-align: middle;\n",
       "    }\n",
       "\n",
       "    .dataframe tbody tr th {\n",
       "        vertical-align: top;\n",
       "    }\n",
       "\n",
       "    .dataframe thead th {\n",
       "        text-align: right;\n",
       "    }\n",
       "</style>\n",
       "<table border=\"1\" class=\"dataframe\">\n",
       "  <thead>\n",
       "    <tr style=\"text-align: right;\">\n",
       "      <th></th>\n",
       "      <th>age_group</th>\n",
       "      <th>religion</th>\n",
       "      <th>marriage</th>\n",
       "      <th>proportion</th>\n",
       "    </tr>\n",
       "  </thead>\n",
       "  <tbody>\n",
       "    <tr>\n",
       "      <th>1</th>\n",
       "      <td>middle</td>\n",
       "      <td>no</td>\n",
       "      <td>divorce</td>\n",
       "      <td>9.5</td>\n",
       "    </tr>\n",
       "    <tr>\n",
       "      <th>3</th>\n",
       "      <td>middle</td>\n",
       "      <td>yes</td>\n",
       "      <td>divorce</td>\n",
       "      <td>8.2</td>\n",
       "    </tr>\n",
       "    <tr>\n",
       "      <th>5</th>\n",
       "      <td>old</td>\n",
       "      <td>no</td>\n",
       "      <td>divorce</td>\n",
       "      <td>9.6</td>\n",
       "    </tr>\n",
       "    <tr>\n",
       "      <th>7</th>\n",
       "      <td>old</td>\n",
       "      <td>yes</td>\n",
       "      <td>divorce</td>\n",
       "      <td>7.8</td>\n",
       "    </tr>\n",
       "  </tbody>\n",
       "</table>\n",
       "</div>"
      ],
      "text/plain": [
       "  age_group religion marriage  proportion\n",
       "1    middle       no  divorce         9.5\n",
       "3    middle      yes  divorce         8.2\n",
       "5       old       no  divorce         9.6\n",
       "7       old      yes  divorce         7.8"
      ]
     },
     "execution_count": 251,
     "metadata": {},
     "output_type": "execute_result"
    }
   ],
   "source": [
    "# divorce 추출\n",
    "# 백분율로 바꾸기\n",
    "# 반올림\n",
    "age_rel_div = age_rel_div.query('marriage == \"divorce\"')\\\n",
    "                         .assign(proportion = age_rel_div['proportion'] * 100)\\\n",
    "                         .round(1)\n",
    "age_rel_div"
   ]
  },
  {
   "cell_type": "code",
   "execution_count": 252,
   "id": "d9eb8ab3",
   "metadata": {},
   "outputs": [
    {
     "data": {
      "text/plain": [
       "<AxesSubplot:xlabel='age_group', ylabel='proportion'>"
      ]
     },
     "execution_count": 252,
     "metadata": {},
     "output_type": "execute_result"
    },
    {
     "data": {
      "image/png": "[encoded data removed]",
      "text/plain": [
       "<Figure size 640x480 with 1 Axes>"
      ]
     },
     "metadata": {},
     "output_type": "display_data"
    }
   ],
   "source": [
    "# 막대 그래프 만들기\n",
    "sns.barplot(data = age_rel_div, x = 'age_group', y = 'proportion', hue = 'religion')"
   ]
  },
  {
   "cell_type": "markdown",
   "id": "66d563bf",
   "metadata": {},
   "source": [
    "### 중년과 노년 모두 종교가 없는 사람의 이혼율이 더 높다.\n",
    "### 중년은 1.3%, 노년은 1.8% 정도 종교가 없는 사람의 이혼율이 더 높다."
   ]
  },
  {
   "cell_type": "markdown",
   "id": "0e39b204",
   "metadata": {},
   "source": [
    "## 9. 지역별 연령대 비율 - 어느 지역에 노년층이 많을까?\n",
    "### 지역 변수 검토 및 전처리하기"
   ]
  },
  {
   "cell_type": "code",
   "execution_count": 253,
   "id": "27925bb4",
   "metadata": {},
   "outputs": [
    {
     "data": {
      "text/plain": [
       "dtype('float64')"
      ]
     },
     "execution_count": 253,
     "metadata": {},
     "output_type": "execute_result"
    }
   ],
   "source": [
    "# 변수 타입 출력\n",
    "welfare['code_region'].dtypes"
   ]
  },
  {
   "cell_type": "code",
   "execution_count": 254,
   "id": "804119ba",
   "metadata": {},
   "outputs": [
    {
     "data": {
      "text/plain": [
       "2.0    3246\n",
       "7.0    2466\n",
       "3.0    2448\n",
       "1.0    2002\n",
       "4.0    1728\n",
       "5.0    1391\n",
       "6.0    1137\n",
       "Name: code_region, dtype: int64"
      ]
     },
     "execution_count": 254,
     "metadata": {},
     "output_type": "execute_result"
    }
   ],
   "source": [
    "# 빈도 구하기\n",
    "# 1 : 서울\n",
    "# 2 : 수도권(인천/경기)\n",
    "# 3 : 부산/경남/울산\n",
    "# 4 : 대구/경북\n",
    "# 5 : 대전/충남\n",
    "# 6 : 강원/충북\n",
    "# 7 : 광주/전남/전북/제주도\n",
    "welfare['code_region'].value_counts()"
   ]
  },
  {
   "cell_type": "code",
   "execution_count": 255,
   "id": "0f3d2190",
   "metadata": {},
   "outputs": [
    {
     "data": {
      "text/html": [
       "<div>\n",
       "<style scoped>\n",
       "    .dataframe tbody tr th:only-of-type {\n",
       "        vertical-align: middle;\n",
       "    }\n",
       "\n",
       "    .dataframe tbody tr th {\n",
       "        vertical-align: top;\n",
       "    }\n",
       "\n",
       "    .dataframe thead th {\n",
       "        text-align: right;\n",
       "    }\n",
       "</style>\n",
       "<table border=\"1\" class=\"dataframe\">\n",
       "  <thead>\n",
       "    <tr style=\"text-align: right;\">\n",
       "      <th></th>\n",
       "      <th>code_region</th>\n",
       "      <th>region</th>\n",
       "    </tr>\n",
       "  </thead>\n",
       "  <tbody>\n",
       "    <tr>\n",
       "      <th>0</th>\n",
       "      <td>1</td>\n",
       "      <td>서울</td>\n",
       "    </tr>\n",
       "    <tr>\n",
       "      <th>1</th>\n",
       "      <td>2</td>\n",
       "      <td>수도권(인천/경기)</td>\n",
       "    </tr>\n",
       "    <tr>\n",
       "      <th>2</th>\n",
       "      <td>3</td>\n",
       "      <td>부산/경남/울산</td>\n",
       "    </tr>\n",
       "    <tr>\n",
       "      <th>3</th>\n",
       "      <td>4</td>\n",
       "      <td>대구/경북</td>\n",
       "    </tr>\n",
       "    <tr>\n",
       "      <th>4</th>\n",
       "      <td>5</td>\n",
       "      <td>대전/충남</td>\n",
       "    </tr>\n",
       "    <tr>\n",
       "      <th>5</th>\n",
       "      <td>6</td>\n",
       "      <td>강원/충북</td>\n",
       "    </tr>\n",
       "    <tr>\n",
       "      <th>6</th>\n",
       "      <td>7</td>\n",
       "      <td>광주/전남/전북/제주도</td>\n",
       "    </tr>\n",
       "  </tbody>\n",
       "</table>\n",
       "</div>"
      ],
      "text/plain": [
       "   code_region        region\n",
       "0            1            서울\n",
       "1            2    수도권(인천/경기)\n",
       "2            3      부산/경남/울산\n",
       "3            4         대구/경북\n",
       "4            5         대전/충남\n",
       "5            6         강원/충북\n",
       "6            7  광주/전남/전북/제주도"
      ]
     },
     "execution_count": 255,
     "metadata": {},
     "output_type": "execute_result"
    }
   ],
   "source": [
    "# 지역 코드 목록 만들기\n",
    "list_region = pd.DataFrame({'code_region' : [1, 2, 3, 4, 5, 6, 7],\n",
    "                            'region' : ['서울',\n",
    "                                        '수도권(인천/경기)',\n",
    "                                        '부산/경남/울산',\n",
    "                                        '대구/경북',\n",
    "                                        '대전/충남',\n",
    "                                        '강원/충북',\n",
    "                                        '광주/전남/전북/제주도']})\n",
    "list_region"
   ]
  },
  {
   "cell_type": "code",
   "execution_count": 256,
   "id": "52509d2c",
   "metadata": {},
   "outputs": [
    {
     "data": {
      "text/html": [
       "<div>\n",
       "<style scoped>\n",
       "    .dataframe tbody tr th:only-of-type {\n",
       "        vertical-align: middle;\n",
       "    }\n",
       "\n",
       "    .dataframe tbody tr th {\n",
       "        vertical-align: top;\n",
       "    }\n",
       "\n",
       "    .dataframe thead th {\n",
       "        text-align: right;\n",
       "    }\n",
       "</style>\n",
       "<table border=\"1\" class=\"dataframe\">\n",
       "  <thead>\n",
       "    <tr style=\"text-align: right;\">\n",
       "      <th></th>\n",
       "      <th>code_region</th>\n",
       "      <th>region</th>\n",
       "    </tr>\n",
       "  </thead>\n",
       "  <tbody>\n",
       "    <tr>\n",
       "      <th>0</th>\n",
       "      <td>1.0</td>\n",
       "      <td>서울</td>\n",
       "    </tr>\n",
       "    <tr>\n",
       "      <th>1</th>\n",
       "      <td>1.0</td>\n",
       "      <td>서울</td>\n",
       "    </tr>\n",
       "    <tr>\n",
       "      <th>2</th>\n",
       "      <td>1.0</td>\n",
       "      <td>서울</td>\n",
       "    </tr>\n",
       "    <tr>\n",
       "      <th>3</th>\n",
       "      <td>1.0</td>\n",
       "      <td>서울</td>\n",
       "    </tr>\n",
       "    <tr>\n",
       "      <th>4</th>\n",
       "      <td>1.0</td>\n",
       "      <td>서울</td>\n",
       "    </tr>\n",
       "  </tbody>\n",
       "</table>\n",
       "</div>"
      ],
      "text/plain": [
       "   code_region region\n",
       "0          1.0     서울\n",
       "1          1.0     서울\n",
       "2          1.0     서울\n",
       "3          1.0     서울\n",
       "4          1.0     서울"
      ]
     },
     "execution_count": 256,
     "metadata": {},
     "output_type": "execute_result"
    }
   ],
   "source": [
    "# 지역명 변수 추가\n",
    "welfare = welfare.merge(list_region, how = 'left', on = 'code_region')\n",
    "welfare[['code_region', 'region']].head()"
   ]
  },
  {
   "cell_type": "markdown",
   "id": "999c3497",
   "metadata": {},
   "source": [
    "### 지역별 연령대 비율 분석하기"
   ]
  },
  {
   "cell_type": "code",
   "execution_count": 257,
   "id": "66a75651",
   "metadata": {},
   "outputs": [
    {
     "data": {
      "text/html": [
       "<div>\n",
       "<style scoped>\n",
       "    .dataframe tbody tr th:only-of-type {\n",
       "        vertical-align: middle;\n",
       "    }\n",
       "\n",
       "    .dataframe tbody tr th {\n",
       "        vertical-align: top;\n",
       "    }\n",
       "\n",
       "    .dataframe thead th {\n",
       "        text-align: right;\n",
       "    }\n",
       "</style>\n",
       "<table border=\"1\" class=\"dataframe\">\n",
       "  <thead>\n",
       "    <tr style=\"text-align: right;\">\n",
       "      <th></th>\n",
       "      <th>region</th>\n",
       "      <th>age_group</th>\n",
       "      <th>proportion</th>\n",
       "    </tr>\n",
       "  </thead>\n",
       "  <tbody>\n",
       "    <tr>\n",
       "      <th>0</th>\n",
       "      <td>강원/충북</td>\n",
       "      <td>old</td>\n",
       "      <td>0.459103</td>\n",
       "    </tr>\n",
       "    <tr>\n",
       "      <th>1</th>\n",
       "      <td>강원/충북</td>\n",
       "      <td>middle</td>\n",
       "      <td>0.308707</td>\n",
       "    </tr>\n",
       "    <tr>\n",
       "      <th>2</th>\n",
       "      <td>강원/충북</td>\n",
       "      <td>young</td>\n",
       "      <td>0.232190</td>\n",
       "    </tr>\n",
       "    <tr>\n",
       "      <th>3</th>\n",
       "      <td>광주/전남/전북/제주도</td>\n",
       "      <td>old</td>\n",
       "      <td>0.449311</td>\n",
       "    </tr>\n",
       "    <tr>\n",
       "      <th>4</th>\n",
       "      <td>광주/전남/전북/제주도</td>\n",
       "      <td>middle</td>\n",
       "      <td>0.317924</td>\n",
       "    </tr>\n",
       "    <tr>\n",
       "      <th>5</th>\n",
       "      <td>광주/전남/전북/제주도</td>\n",
       "      <td>young</td>\n",
       "      <td>0.232766</td>\n",
       "    </tr>\n",
       "    <tr>\n",
       "      <th>6</th>\n",
       "      <td>대구/경북</td>\n",
       "      <td>old</td>\n",
       "      <td>0.504051</td>\n",
       "    </tr>\n",
       "    <tr>\n",
       "      <th>7</th>\n",
       "      <td>대구/경북</td>\n",
       "      <td>middle</td>\n",
       "      <td>0.296296</td>\n",
       "    </tr>\n",
       "    <tr>\n",
       "      <th>8</th>\n",
       "      <td>대구/경북</td>\n",
       "      <td>young</td>\n",
       "      <td>0.199653</td>\n",
       "    </tr>\n",
       "    <tr>\n",
       "      <th>9</th>\n",
       "      <td>대전/충남</td>\n",
       "      <td>old</td>\n",
       "      <td>0.413372</td>\n",
       "    </tr>\n",
       "    <tr>\n",
       "      <th>10</th>\n",
       "      <td>대전/충남</td>\n",
       "      <td>middle</td>\n",
       "      <td>0.336449</td>\n",
       "    </tr>\n",
       "    <tr>\n",
       "      <th>11</th>\n",
       "      <td>대전/충남</td>\n",
       "      <td>young</td>\n",
       "      <td>0.250180</td>\n",
       "    </tr>\n",
       "    <tr>\n",
       "      <th>12</th>\n",
       "      <td>부산/경남/울산</td>\n",
       "      <td>old</td>\n",
       "      <td>0.437500</td>\n",
       "    </tr>\n",
       "    <tr>\n",
       "      <th>13</th>\n",
       "      <td>부산/경남/울산</td>\n",
       "      <td>middle</td>\n",
       "      <td>0.333742</td>\n",
       "    </tr>\n",
       "    <tr>\n",
       "      <th>14</th>\n",
       "      <td>부산/경남/울산</td>\n",
       "      <td>young</td>\n",
       "      <td>0.228758</td>\n",
       "    </tr>\n",
       "    <tr>\n",
       "      <th>15</th>\n",
       "      <td>서울</td>\n",
       "      <td>middle</td>\n",
       "      <td>0.385115</td>\n",
       "    </tr>\n",
       "    <tr>\n",
       "      <th>16</th>\n",
       "      <td>서울</td>\n",
       "      <td>old</td>\n",
       "      <td>0.376124</td>\n",
       "    </tr>\n",
       "    <tr>\n",
       "      <th>17</th>\n",
       "      <td>서울</td>\n",
       "      <td>young</td>\n",
       "      <td>0.238761</td>\n",
       "    </tr>\n",
       "    <tr>\n",
       "      <th>18</th>\n",
       "      <td>수도권(인천/경기)</td>\n",
       "      <td>middle</td>\n",
       "      <td>0.388170</td>\n",
       "    </tr>\n",
       "    <tr>\n",
       "      <th>19</th>\n",
       "      <td>수도권(인천/경기)</td>\n",
       "      <td>old</td>\n",
       "      <td>0.325015</td>\n",
       "    </tr>\n",
       "    <tr>\n",
       "      <th>20</th>\n",
       "      <td>수도권(인천/경기)</td>\n",
       "      <td>young</td>\n",
       "      <td>0.286815</td>\n",
       "    </tr>\n",
       "  </tbody>\n",
       "</table>\n",
       "</div>"
      ],
      "text/plain": [
       "          region age_group  proportion\n",
       "0          강원/충북       old    0.459103\n",
       "1          강원/충북    middle    0.308707\n",
       "2          강원/충북     young    0.232190\n",
       "3   광주/전남/전북/제주도       old    0.449311\n",
       "4   광주/전남/전북/제주도    middle    0.317924\n",
       "5   광주/전남/전북/제주도     young    0.232766\n",
       "6          대구/경북       old    0.504051\n",
       "7          대구/경북    middle    0.296296\n",
       "8          대구/경북     young    0.199653\n",
       "9          대전/충남       old    0.413372\n",
       "10         대전/충남    middle    0.336449\n",
       "11         대전/충남     young    0.250180\n",
       "12      부산/경남/울산       old    0.437500\n",
       "13      부산/경남/울산    middle    0.333742\n",
       "14      부산/경남/울산     young    0.228758\n",
       "15            서울    middle    0.385115\n",
       "16            서울       old    0.376124\n",
       "17            서울     young    0.238761\n",
       "18    수도권(인천/경기)    middle    0.388170\n",
       "19    수도권(인천/경기)       old    0.325015\n",
       "20    수도권(인천/경기)     young    0.286815"
      ]
     },
     "execution_count": 257,
     "metadata": {},
     "output_type": "execute_result"
    }
   ],
   "source": [
    "# 지역 및 연령대별 비율표 만들기\n",
    "region_age_group = welfare.groupby('region', as_index = False)\\\n",
    "                          ['age_group']\\\n",
    "                          .value_counts(normalize = True)\n",
    "region_age_group"
   ]
  },
  {
   "cell_type": "code",
   "execution_count": 258,
   "id": "70c4e87c",
   "metadata": {},
   "outputs": [
    {
     "data": {
      "text/html": [
       "<div>\n",
       "<style scoped>\n",
       "    .dataframe tbody tr th:only-of-type {\n",
       "        vertical-align: middle;\n",
       "    }\n",
       "\n",
       "    .dataframe tbody tr th {\n",
       "        vertical-align: top;\n",
       "    }\n",
       "\n",
       "    .dataframe thead th {\n",
       "        text-align: right;\n",
       "    }\n",
       "</style>\n",
       "<table border=\"1\" class=\"dataframe\">\n",
       "  <thead>\n",
       "    <tr style=\"text-align: right;\">\n",
       "      <th></th>\n",
       "      <th>region</th>\n",
       "      <th>age_group</th>\n",
       "      <th>proportion</th>\n",
       "    </tr>\n",
       "  </thead>\n",
       "  <tbody>\n",
       "    <tr>\n",
       "      <th>0</th>\n",
       "      <td>강원/충북</td>\n",
       "      <td>old</td>\n",
       "      <td>45.9</td>\n",
       "    </tr>\n",
       "    <tr>\n",
       "      <th>1</th>\n",
       "      <td>강원/충북</td>\n",
       "      <td>middle</td>\n",
       "      <td>30.9</td>\n",
       "    </tr>\n",
       "    <tr>\n",
       "      <th>2</th>\n",
       "      <td>강원/충북</td>\n",
       "      <td>young</td>\n",
       "      <td>23.2</td>\n",
       "    </tr>\n",
       "    <tr>\n",
       "      <th>3</th>\n",
       "      <td>광주/전남/전북/제주도</td>\n",
       "      <td>old</td>\n",
       "      <td>44.9</td>\n",
       "    </tr>\n",
       "    <tr>\n",
       "      <th>4</th>\n",
       "      <td>광주/전남/전북/제주도</td>\n",
       "      <td>middle</td>\n",
       "      <td>31.8</td>\n",
       "    </tr>\n",
       "    <tr>\n",
       "      <th>5</th>\n",
       "      <td>광주/전남/전북/제주도</td>\n",
       "      <td>young</td>\n",
       "      <td>23.3</td>\n",
       "    </tr>\n",
       "    <tr>\n",
       "      <th>6</th>\n",
       "      <td>대구/경북</td>\n",
       "      <td>old</td>\n",
       "      <td>50.4</td>\n",
       "    </tr>\n",
       "    <tr>\n",
       "      <th>7</th>\n",
       "      <td>대구/경북</td>\n",
       "      <td>middle</td>\n",
       "      <td>29.6</td>\n",
       "    </tr>\n",
       "    <tr>\n",
       "      <th>8</th>\n",
       "      <td>대구/경북</td>\n",
       "      <td>young</td>\n",
       "      <td>20.0</td>\n",
       "    </tr>\n",
       "    <tr>\n",
       "      <th>9</th>\n",
       "      <td>대전/충남</td>\n",
       "      <td>old</td>\n",
       "      <td>41.3</td>\n",
       "    </tr>\n",
       "    <tr>\n",
       "      <th>10</th>\n",
       "      <td>대전/충남</td>\n",
       "      <td>middle</td>\n",
       "      <td>33.6</td>\n",
       "    </tr>\n",
       "    <tr>\n",
       "      <th>11</th>\n",
       "      <td>대전/충남</td>\n",
       "      <td>young</td>\n",
       "      <td>25.0</td>\n",
       "    </tr>\n",
       "    <tr>\n",
       "      <th>12</th>\n",
       "      <td>부산/경남/울산</td>\n",
       "      <td>old</td>\n",
       "      <td>43.8</td>\n",
       "    </tr>\n",
       "    <tr>\n",
       "      <th>13</th>\n",
       "      <td>부산/경남/울산</td>\n",
       "      <td>middle</td>\n",
       "      <td>33.4</td>\n",
       "    </tr>\n",
       "    <tr>\n",
       "      <th>14</th>\n",
       "      <td>부산/경남/울산</td>\n",
       "      <td>young</td>\n",
       "      <td>22.9</td>\n",
       "    </tr>\n",
       "    <tr>\n",
       "      <th>15</th>\n",
       "      <td>서울</td>\n",
       "      <td>middle</td>\n",
       "      <td>38.5</td>\n",
       "    </tr>\n",
       "    <tr>\n",
       "      <th>16</th>\n",
       "      <td>서울</td>\n",
       "      <td>old</td>\n",
       "      <td>37.6</td>\n",
       "    </tr>\n",
       "    <tr>\n",
       "      <th>17</th>\n",
       "      <td>서울</td>\n",
       "      <td>young</td>\n",
       "      <td>23.9</td>\n",
       "    </tr>\n",
       "    <tr>\n",
       "      <th>18</th>\n",
       "      <td>수도권(인천/경기)</td>\n",
       "      <td>middle</td>\n",
       "      <td>38.8</td>\n",
       "    </tr>\n",
       "    <tr>\n",
       "      <th>19</th>\n",
       "      <td>수도권(인천/경기)</td>\n",
       "      <td>old</td>\n",
       "      <td>32.5</td>\n",
       "    </tr>\n",
       "    <tr>\n",
       "      <th>20</th>\n",
       "      <td>수도권(인천/경기)</td>\n",
       "      <td>young</td>\n",
       "      <td>28.7</td>\n",
       "    </tr>\n",
       "  </tbody>\n",
       "</table>\n",
       "</div>"
      ],
      "text/plain": [
       "          region age_group  proportion\n",
       "0          강원/충북       old        45.9\n",
       "1          강원/충북    middle        30.9\n",
       "2          강원/충북     young        23.2\n",
       "3   광주/전남/전북/제주도       old        44.9\n",
       "4   광주/전남/전북/제주도    middle        31.8\n",
       "5   광주/전남/전북/제주도     young        23.3\n",
       "6          대구/경북       old        50.4\n",
       "7          대구/경북    middle        29.6\n",
       "8          대구/경북     young        20.0\n",
       "9          대전/충남       old        41.3\n",
       "10         대전/충남    middle        33.6\n",
       "11         대전/충남     young        25.0\n",
       "12      부산/경남/울산       old        43.8\n",
       "13      부산/경남/울산    middle        33.4\n",
       "14      부산/경남/울산     young        22.9\n",
       "15            서울    middle        38.5\n",
       "16            서울       old        37.6\n",
       "17            서울     young        23.9\n",
       "18    수도권(인천/경기)    middle        38.8\n",
       "19    수도권(인천/경기)       old        32.5\n",
       "20    수도권(인천/경기)     young        28.7"
      ]
     },
     "execution_count": 258,
     "metadata": {},
     "output_type": "execute_result"
    }
   ],
   "source": [
    "# 백분율로 바꾸기\n",
    "# 반올림\n",
    "region_age_group = region_age_group.assign(proportion = region_age_group['proportion'] * 100)\\\n",
    "                                   .round(1)\n",
    "region_age_group"
   ]
  },
  {
   "cell_type": "code",
   "execution_count": 259,
   "id": "30f9743f",
   "metadata": {},
   "outputs": [
    {
     "data": {
      "image/png": "[encoded data removed]",
      "text/plain": [
       "<Figure size 640x480 with 1 Axes>"
      ]
     },
     "metadata": {},
     "output_type": "display_data"
    }
   ],
   "source": [
    "# 막대 그래프 만들기\n",
    "sns.barplot(data = region_age_group, x = 'proportion', y = 'region', hue = 'age_group');"
   ]
  },
  {
   "cell_type": "markdown",
   "id": "a431da13",
   "metadata": {},
   "source": [
    "### 피벗(pivot) : 행과 열을 회전해 표의 구성을 바꾸는 작업\n",
    "### pivot() 이용\n",
    "#### pivot(index = '회전의 기준 변수', columns = '구성할 열 변수', values = '각 항목 값 변수')"
   ]
  },
  {
   "cell_type": "code",
   "execution_count": 260,
   "id": "7247b8d4",
   "metadata": {},
   "outputs": [
    {
     "data": {
      "text/html": [
       "<div>\n",
       "<style scoped>\n",
       "    .dataframe tbody tr th:only-of-type {\n",
       "        vertical-align: middle;\n",
       "    }\n",
       "\n",
       "    .dataframe tbody tr th {\n",
       "        vertical-align: top;\n",
       "    }\n",
       "\n",
       "    .dataframe thead th {\n",
       "        text-align: right;\n",
       "    }\n",
       "</style>\n",
       "<table border=\"1\" class=\"dataframe\">\n",
       "  <thead>\n",
       "    <tr style=\"text-align: right;\">\n",
       "      <th>age_group</th>\n",
       "      <th>middle</th>\n",
       "      <th>old</th>\n",
       "      <th>young</th>\n",
       "    </tr>\n",
       "    <tr>\n",
       "      <th>region</th>\n",
       "      <th></th>\n",
       "      <th></th>\n",
       "      <th></th>\n",
       "    </tr>\n",
       "  </thead>\n",
       "  <tbody>\n",
       "    <tr>\n",
       "      <th>강원/충북</th>\n",
       "      <td>30.9</td>\n",
       "      <td>45.9</td>\n",
       "      <td>23.2</td>\n",
       "    </tr>\n",
       "    <tr>\n",
       "      <th>광주/전남/전북/제주도</th>\n",
       "      <td>31.8</td>\n",
       "      <td>44.9</td>\n",
       "      <td>23.3</td>\n",
       "    </tr>\n",
       "    <tr>\n",
       "      <th>대구/경북</th>\n",
       "      <td>29.6</td>\n",
       "      <td>50.4</td>\n",
       "      <td>20.0</td>\n",
       "    </tr>\n",
       "    <tr>\n",
       "      <th>대전/충남</th>\n",
       "      <td>33.6</td>\n",
       "      <td>41.3</td>\n",
       "      <td>25.0</td>\n",
       "    </tr>\n",
       "    <tr>\n",
       "      <th>부산/경남/울산</th>\n",
       "      <td>33.4</td>\n",
       "      <td>43.8</td>\n",
       "      <td>22.9</td>\n",
       "    </tr>\n",
       "    <tr>\n",
       "      <th>서울</th>\n",
       "      <td>38.5</td>\n",
       "      <td>37.6</td>\n",
       "      <td>23.9</td>\n",
       "    </tr>\n",
       "    <tr>\n",
       "      <th>수도권(인천/경기)</th>\n",
       "      <td>38.8</td>\n",
       "      <td>32.5</td>\n",
       "      <td>28.7</td>\n",
       "    </tr>\n",
       "  </tbody>\n",
       "</table>\n",
       "</div>"
      ],
      "text/plain": [
       "age_group     middle   old  young\n",
       "region                           \n",
       "강원/충북           30.9  45.9   23.2\n",
       "광주/전남/전북/제주도    31.8  44.9   23.3\n",
       "대구/경북           29.6  50.4   20.0\n",
       "대전/충남           33.6  41.3   25.0\n",
       "부산/경남/울산        33.4  43.8   22.9\n",
       "서울              38.5  37.6   23.9\n",
       "수도권(인천/경기)      38.8  32.5   28.7"
      ]
     },
     "execution_count": 260,
     "metadata": {},
     "output_type": "execute_result"
    }
   ],
   "source": [
    "# 피벗\n",
    "pivot_df = region_age_group[['region', 'age_group', 'proportion']].pivot(index = 'region', columns = 'age_group', values = 'proportion')\n",
    "pivot_df"
   ]
  },
  {
   "cell_type": "code",
   "execution_count": 262,
   "id": "8c234581",
   "metadata": {},
   "outputs": [
    {
     "data": {
      "image/png": "[encoded data removed]",
      "text/plain": [
       "<Figure size 640x480 with 1 Axes>"
      ]
     },
     "metadata": {},
     "output_type": "display_data"
    }
   ],
   "source": [
    "# 가로 막대 그래프 만들기\n",
    "# 데이터 프레임.plot.barh() 이용\n",
    "# stacked = True 옵션 지정 : 막대 누적\n",
    "pivot_df.plot.barh(stacked = True);"
   ]
  },
  {
   "cell_type": "code",
   "execution_count": 263,
   "id": "b2ff7aa4",
   "metadata": {},
   "outputs": [
    {
     "data": {
      "text/html": [
       "<div>\n",
       "<style scoped>\n",
       "    .dataframe tbody tr th:only-of-type {\n",
       "        vertical-align: middle;\n",
       "    }\n",
       "\n",
       "    .dataframe tbody tr th {\n",
       "        vertical-align: top;\n",
       "    }\n",
       "\n",
       "    .dataframe thead th {\n",
       "        text-align: right;\n",
       "    }\n",
       "</style>\n",
       "<table border=\"1\" class=\"dataframe\">\n",
       "  <thead>\n",
       "    <tr style=\"text-align: right;\">\n",
       "      <th>age_group</th>\n",
       "      <th>young</th>\n",
       "      <th>middle</th>\n",
       "      <th>old</th>\n",
       "    </tr>\n",
       "    <tr>\n",
       "      <th>region</th>\n",
       "      <th></th>\n",
       "      <th></th>\n",
       "      <th></th>\n",
       "    </tr>\n",
       "  </thead>\n",
       "  <tbody>\n",
       "    <tr>\n",
       "      <th>수도권(인천/경기)</th>\n",
       "      <td>28.7</td>\n",
       "      <td>38.8</td>\n",
       "      <td>32.5</td>\n",
       "    </tr>\n",
       "    <tr>\n",
       "      <th>서울</th>\n",
       "      <td>23.9</td>\n",
       "      <td>38.5</td>\n",
       "      <td>37.6</td>\n",
       "    </tr>\n",
       "    <tr>\n",
       "      <th>대전/충남</th>\n",
       "      <td>25.0</td>\n",
       "      <td>33.6</td>\n",
       "      <td>41.3</td>\n",
       "    </tr>\n",
       "    <tr>\n",
       "      <th>부산/경남/울산</th>\n",
       "      <td>22.9</td>\n",
       "      <td>33.4</td>\n",
       "      <td>43.8</td>\n",
       "    </tr>\n",
       "    <tr>\n",
       "      <th>광주/전남/전북/제주도</th>\n",
       "      <td>23.3</td>\n",
       "      <td>31.8</td>\n",
       "      <td>44.9</td>\n",
       "    </tr>\n",
       "    <tr>\n",
       "      <th>강원/충북</th>\n",
       "      <td>23.2</td>\n",
       "      <td>30.9</td>\n",
       "      <td>45.9</td>\n",
       "    </tr>\n",
       "    <tr>\n",
       "      <th>대구/경북</th>\n",
       "      <td>20.0</td>\n",
       "      <td>29.6</td>\n",
       "      <td>50.4</td>\n",
       "    </tr>\n",
       "  </tbody>\n",
       "</table>\n",
       "</div>"
      ],
      "text/plain": [
       "age_group     young  middle   old\n",
       "region                           \n",
       "수도권(인천/경기)     28.7    38.8  32.5\n",
       "서울             23.9    38.5  37.6\n",
       "대전/충남          25.0    33.6  41.3\n",
       "부산/경남/울산       22.9    33.4  43.8\n",
       "광주/전남/전북/제주도   23.3    31.8  44.9\n",
       "강원/충북          23.2    30.9  45.9\n",
       "대구/경북          20.0    29.6  50.4"
      ]
     },
     "execution_count": 263,
     "metadata": {},
     "output_type": "execute_result"
    }
   ],
   "source": [
    "# 막대 정렬\n",
    "# 노년층 비율 기준 정렬, 변수 순서 바꾸기\n",
    "reorder_df = pivot_df.sort_values('old')[['young', 'middle', 'old']]\n",
    "reorder_df"
   ]
  },
  {
   "cell_type": "code",
   "execution_count": 265,
   "id": "0b7a185a",
   "metadata": {},
   "outputs": [
    {
     "data": {
      "image/png": "[encoded data removed]",
      "text/plain": [
       "<Figure size 640x480 with 1 Axes>"
      ]
     },
     "metadata": {},
     "output_type": "display_data"
    }
   ],
   "source": [
    "# 누적 가로 막대 그래프 만들기\n",
    "reorder_df.plot.barh(stacked = True);"
   ]
  },
  {
   "cell_type": "markdown",
   "id": "91ac3889",
   "metadata": {},
   "source": [
    "### 대구/경북의 노년층 비율이 가장 높다.\n",
    "### 그 뒤로 강원/충북, 광주/전남/제주도, 부산/경남/울산 순으로 높다."
   ]
  }
 ],
 "metadata": {
  "kernelspec": {
   "display_name": "Python 3 (ipykernel)",
   "language": "python",
   "name": "python3"
  },
  "language_info": {
   "codemirror_mode": {
    "name": "ipython",
    "version": 3
   },
   "file_extension": ".py",
   "mimetype": "text/x-python",
   "name": "python",
   "nbconvert_exporter": "python",
   "pygments_lexer": "ipython3",
   "version": "3.9.13"
  }
 },
 "nbformat": 4,
 "nbformat_minor": 5
}
