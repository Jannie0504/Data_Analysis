{
 "cells": [
  {
   "cell_type": "markdown",
   "id": "91982950",
   "metadata": {},
   "source": [
    "# Chapter 17 : 자료 구조 다루기\n",
    "## 1. 자료 구조란?\n",
    "### 자료 구조 : 데이터를 담고 있는 변수의 모양을 의미\n",
    "테이터도 특성과 분석 목적에 따라 담아 두기에 적당한 모양이 있음\\\n",
    "데이터를 잘 다루려면 데이터를 어떤 자료 구조에 담아 두는 게 편리한지 알아야 함\\\n",
    "데이터를 분석할 때 자료 주고에 맞는 함수를 선택하는 것이 중요\\\n",
    "자료 구조에 따라 사용하기에 적당한 함수가 다름\\\n",
    "어떤 자료 구조에 어떤 함수를 사용하는 게 적당한지 잘 알아야 데이터를 효율적으로 다룰 수 있음"
   ]
  },
  {
   "cell_type": "code",
   "execution_count": 1,
   "id": "094cdeac",
   "metadata": {},
   "outputs": [
    {
     "data": {
      "text/plain": [
       "0    2.0\n",
       "dtype: float64"
      ]
     },
     "execution_count": 1,
     "metadata": {},
     "output_type": "execute_result"
    }
   ],
   "source": [
    "import pandas as pd\n",
    "df = pd.DataFrame([1, 2, 3])   # 데이터 프레임 만들기\n",
    "df.mean()                      # mean() 사용"
   ]
  },
  {
   "cell_type": "code",
   "execution_count": 2,
   "id": "4fa6cb60",
   "metadata": {},
   "outputs": [
    {
     "ename": "AttributeError",
     "evalue": "'list' object has no attribute 'mean'",
     "output_type": "error",
     "traceback": [
      "\u001b[1;31m---------------------------------------------------------------------------\u001b[0m",
      "\u001b[1;31mAttributeError\u001b[0m                            Traceback (most recent call last)",
      "\u001b[1;32m~\\AppData\\Local\\Temp\\ipykernel_13488\\2000082380.py\u001b[0m in \u001b[0;36m<module>\u001b[1;34m\u001b[0m\n\u001b[0;32m      1\u001b[0m \u001b[0mx\u001b[0m \u001b[1;33m=\u001b[0m \u001b[1;33m[\u001b[0m\u001b[1;36m1\u001b[0m\u001b[1;33m,\u001b[0m \u001b[1;36m2\u001b[0m\u001b[1;33m,\u001b[0m \u001b[1;36m3\u001b[0m\u001b[1;33m]\u001b[0m   \u001b[1;31m# list 만들기\u001b[0m\u001b[1;33m\u001b[0m\u001b[1;33m\u001b[0m\u001b[0m\n\u001b[1;32m----> 2\u001b[1;33m \u001b[0mx\u001b[0m\u001b[1;33m.\u001b[0m\u001b[0mmean\u001b[0m\u001b[1;33m(\u001b[0m\u001b[1;33m)\u001b[0m        \u001b[1;31m# mean() 사용 불가\u001b[0m\u001b[1;33m\u001b[0m\u001b[1;33m\u001b[0m\u001b[0m\n\u001b[0m",
      "\u001b[1;31mAttributeError\u001b[0m: 'list' object has no attribute 'mean'"
     ]
    }
   ],
   "source": [
    "x = [1, 2, 3]   # list 만들기\n",
    "x.mean()        # mean() 사용 불가"
   ]
  },
  {
   "cell_type": "code",
   "execution_count": 3,
   "id": "440f2704",
   "metadata": {},
   "outputs": [
    {
     "data": {
      "text/plain": [
       "2.0"
      ]
     },
     "execution_count": 3,
     "metadata": {},
     "output_type": "execute_result"
    }
   ],
   "source": [
    "sum(x) / len(x)   # sum()과 len()을 이용해 평균 구하기"
   ]
  },
  {
   "cell_type": "code",
   "execution_count": 4,
   "id": "16e12ac0",
   "metadata": {},
   "outputs": [
    {
     "data": {
      "text/html": [
       "<div>\n",
       "<style scoped>\n",
       "    .dataframe tbody tr th:only-of-type {\n",
       "        vertical-align: middle;\n",
       "    }\n",
       "\n",
       "    .dataframe tbody tr th {\n",
       "        vertical-align: top;\n",
       "    }\n",
       "\n",
       "    .dataframe thead th {\n",
       "        text-align: right;\n",
       "    }\n",
       "</style>\n",
       "<table border=\"1\" class=\"dataframe\">\n",
       "  <thead>\n",
       "    <tr style=\"text-align: right;\">\n",
       "      <th></th>\n",
       "      <th>0</th>\n",
       "    </tr>\n",
       "  </thead>\n",
       "  <tbody>\n",
       "    <tr>\n",
       "      <th>0</th>\n",
       "      <td>1</td>\n",
       "    </tr>\n",
       "    <tr>\n",
       "      <th>1</th>\n",
       "      <td>2</td>\n",
       "    </tr>\n",
       "    <tr>\n",
       "      <th>2</th>\n",
       "      <td>3</td>\n",
       "    </tr>\n",
       "  </tbody>\n",
       "</table>\n",
       "</div>"
      ],
      "text/plain": [
       "   0\n",
       "0  1\n",
       "1  2\n",
       "2  3"
      ]
     },
     "execution_count": 4,
     "metadata": {},
     "output_type": "execute_result"
    }
   ],
   "source": [
    "df_x = pd.DataFrame(x)   # 데이터 프레임으로 바꾸기\n",
    "df_x"
   ]
  },
  {
   "cell_type": "code",
   "execution_count": 5,
   "id": "004f88f8",
   "metadata": {},
   "outputs": [
    {
     "data": {
      "text/plain": [
       "0    2.0\n",
       "dtype: float64"
      ]
     },
     "execution_count": 5,
     "metadata": {},
     "output_type": "execute_result"
    }
   ],
   "source": [
    "df_x.mean()   # mean() 사용"
   ]
  },
  {
   "cell_type": "markdown",
   "id": "0889a3a6",
   "metadata": {},
   "source": [
    "## 2. 스칼라\n",
    "### 스칼라(scalar) : 하나의 값으로 구성된 자료 구조\n",
    "#### 자료 구조를 만드는 가장 작은 기본 단위\n",
    "### 만들기"
   ]
  },
  {
   "cell_type": "code",
   "execution_count": 6,
   "id": "55b796e0",
   "metadata": {},
   "outputs": [
    {
     "data": {
      "text/plain": [
       "1"
      ]
     },
     "execution_count": 6,
     "metadata": {},
     "output_type": "execute_result"
    }
   ],
   "source": [
    "x = 1\n",
    "x"
   ]
  },
  {
   "cell_type": "code",
   "execution_count": 7,
   "id": "02897841",
   "metadata": {},
   "outputs": [
    {
     "data": {
      "text/plain": [
       "int"
      ]
     },
     "execution_count": 7,
     "metadata": {},
     "output_type": "execute_result"
    }
   ],
   "source": [
    "type(x)"
   ]
  },
  {
   "cell_type": "code",
   "execution_count": 8,
   "id": "42ab5e64",
   "metadata": {},
   "outputs": [
    {
     "data": {
      "text/plain": [
       "1.5"
      ]
     },
     "execution_count": 8,
     "metadata": {},
     "output_type": "execute_result"
    }
   ],
   "source": [
    "x = 1.5\n",
    "x"
   ]
  },
  {
   "cell_type": "code",
   "execution_count": 9,
   "id": "270e8aac",
   "metadata": {},
   "outputs": [
    {
     "data": {
      "text/plain": [
       "float"
      ]
     },
     "execution_count": 9,
     "metadata": {},
     "output_type": "execute_result"
    }
   ],
   "source": [
    "type(x)"
   ]
  },
  {
   "cell_type": "code",
   "execution_count": 10,
   "id": "5e3f0572",
   "metadata": {},
   "outputs": [
    {
     "data": {
      "text/plain": [
       "'apple'"
      ]
     },
     "execution_count": 10,
     "metadata": {},
     "output_type": "execute_result"
    }
   ],
   "source": [
    "x = 'apple'\n",
    "x"
   ]
  },
  {
   "cell_type": "code",
   "execution_count": 11,
   "id": "2a8e5082",
   "metadata": {},
   "outputs": [
    {
     "data": {
      "text/plain": [
       "str"
      ]
     },
     "execution_count": 11,
     "metadata": {},
     "output_type": "execute_result"
    }
   ],
   "source": [
    "type(x)"
   ]
  },
  {
   "cell_type": "markdown",
   "id": "83174439",
   "metadata": {},
   "source": [
    "1. int : 정수(integer)\n",
    "2. float : 실수(real number), 부동소수점(floating point)\n",
    "3. complex : 복소수(complex number)\n",
    "4. str : 문자열(string)\n",
    "5. bool : 논리(boolean)\n",
    "6. None : 값이 없음(none)\n",
    "7. datetime64 : 날짜 시간(date time)"
   ]
  },
  {
   "cell_type": "markdown",
   "id": "2584534f",
   "metadata": {},
   "source": [
    "### 타입 바꾸기\n",
    "- int() : int로 바꾸기\n",
    "- float() : float로 바꾸기\n",
    "- complex() : complex로 바꾸기\n",
    "- str() : str로 바꾸기\n",
    "- bool() : bool로 바꾸기\n",
    "- pd.to_datetime() : datetime64로 바꾸기"
   ]
  },
  {
   "cell_type": "code",
   "execution_count": 12,
   "id": "18e384c0",
   "metadata": {},
   "outputs": [
    {
     "data": {
      "text/plain": [
       "1"
      ]
     },
     "execution_count": 12,
     "metadata": {},
     "output_type": "execute_result"
    }
   ],
   "source": [
    "# int 만들기\n",
    "var1 = 1\n",
    "var1"
   ]
  },
  {
   "cell_type": "code",
   "execution_count": 14,
   "id": "0a4a1746",
   "metadata": {},
   "outputs": [
    {
     "data": {
      "text/plain": [
       "int"
      ]
     },
     "execution_count": 14,
     "metadata": {},
     "output_type": "execute_result"
    }
   ],
   "source": [
    "type(var1)"
   ]
  },
  {
   "cell_type": "code",
   "execution_count": 15,
   "id": "edfb0214",
   "metadata": {},
   "outputs": [
    {
     "data": {
      "text/plain": [
       "1.0"
      ]
     },
     "execution_count": 15,
     "metadata": {},
     "output_type": "execute_result"
    }
   ],
   "source": [
    "# int를 float로 바꾸기\n",
    "var2 = float(var1)\n",
    "var2"
   ]
  },
  {
   "cell_type": "code",
   "execution_count": 16,
   "id": "3d4ef9ed",
   "metadata": {},
   "outputs": [
    {
     "data": {
      "text/plain": [
       "float"
      ]
     },
     "execution_count": 16,
     "metadata": {},
     "output_type": "execute_result"
    }
   ],
   "source": [
    "type(var2)"
   ]
  },
  {
   "cell_type": "code",
   "execution_count": 17,
   "id": "bb69d98a",
   "metadata": {},
   "outputs": [
    {
     "data": {
      "text/plain": [
       "'1.0'"
      ]
     },
     "execution_count": 17,
     "metadata": {},
     "output_type": "execute_result"
    }
   ],
   "source": [
    "# float를 str로 바꾸기\n",
    "var3 = str(var2)\n",
    "var3"
   ]
  },
  {
   "cell_type": "code",
   "execution_count": 18,
   "id": "46c42d92",
   "metadata": {},
   "outputs": [
    {
     "data": {
      "text/plain": [
       "str"
      ]
     },
     "execution_count": 18,
     "metadata": {},
     "output_type": "execute_result"
    }
   ],
   "source": [
    "type(var3)"
   ]
  },
  {
   "cell_type": "markdown",
   "id": "e6c563fc",
   "metadata": {},
   "source": [
    "## 3. 리스트\n",
    "### 리스트(list) : 여러 값을 나열한 자료 구조\n",
    "#### 스칼라 여러 개를 나열 = 리스트\n",
    "### 만들기"
   ]
  },
  {
   "cell_type": "code",
   "execution_count": 19,
   "id": "b7b6b8b9",
   "metadata": {},
   "outputs": [
    {
     "data": {
      "text/plain": [
       "[1, 2, 'a', 'b']"
      ]
     },
     "execution_count": 19,
     "metadata": {},
     "output_type": "execute_result"
    }
   ],
   "source": [
    "# 리스트 만들기\n",
    "x = [1, 2, 'a', 'b']\n",
    "x"
   ]
  },
  {
   "cell_type": "code",
   "execution_count": 20,
   "id": "b968759b",
   "metadata": {},
   "outputs": [
    {
     "data": {
      "text/plain": [
       "list"
      ]
     },
     "execution_count": 20,
     "metadata": {},
     "output_type": "execute_result"
    }
   ],
   "source": [
    "type(x)"
   ]
  },
  {
   "cell_type": "markdown",
   "id": "4873d5ba",
   "metadata": {},
   "source": [
    "### 추출하기"
   ]
  },
  {
   "cell_type": "code",
   "execution_count": 21,
   "id": "40a8c5c2",
   "metadata": {},
   "outputs": [
    {
     "data": {
      "text/plain": [
       "1"
      ]
     },
     "execution_count": 21,
     "metadata": {},
     "output_type": "execute_result"
    }
   ],
   "source": [
    "x[0]   # 0번째 값 추출"
   ]
  },
  {
   "cell_type": "code",
   "execution_count": 23,
   "id": "c42d09ff",
   "metadata": {},
   "outputs": [
    {
     "data": {
      "text/plain": [
       "[2, 'a']"
      ]
     },
     "execution_count": 23,
     "metadata": {},
     "output_type": "execute_result"
    }
   ],
   "source": [
    "x[1:3]   # 1이상 3미만"
   ]
  },
  {
   "cell_type": "markdown",
   "id": "29323e43",
   "metadata": {},
   "source": [
    "### 수정하기\n",
    "#### 추가하기 : append() 이용"
   ]
  },
  {
   "cell_type": "code",
   "execution_count": 24,
   "id": "45191819",
   "metadata": {},
   "outputs": [
    {
     "data": {
      "text/plain": [
       "[1, 2, 'a', 'b', 8]"
      ]
     },
     "execution_count": 24,
     "metadata": {},
     "output_type": "execute_result"
    }
   ],
   "source": [
    "x.append(8)   # x에 8 추가\n",
    "x"
   ]
  },
  {
   "cell_type": "markdown",
   "id": "69dc69c9",
   "metadata": {},
   "source": [
    "#### 삭제하기 : remove() 이용"
   ]
  },
  {
   "cell_type": "code",
   "execution_count": 25,
   "id": "bd201f09",
   "metadata": {},
   "outputs": [
    {
     "data": {
      "text/plain": [
       "[1, 'a', 'b', 8]"
      ]
     },
     "execution_count": 25,
     "metadata": {},
     "output_type": "execute_result"
    }
   ],
   "source": [
    "x.remove(2)   # x에서 2 삭제\n",
    "x"
   ]
  },
  {
   "cell_type": "markdown",
   "id": "5c6a1a64",
   "metadata": {},
   "source": [
    "#### 변경하기 : 인덱스를 이용해 값의 위치를 지정한 다음 새 값을 할당"
   ]
  },
  {
   "cell_type": "code",
   "execution_count": 26,
   "id": "fc681dcc",
   "metadata": {},
   "outputs": [
    {
     "data": {
      "text/plain": [
       "[9, 'a', 'b', 8]"
      ]
     },
     "execution_count": 26,
     "metadata": {},
     "output_type": "execute_result"
    }
   ],
   "source": [
    "x[0] = 9   # 0번째 값을 9로 변경\n",
    "x"
   ]
  },
  {
   "cell_type": "markdown",
   "id": "09783e35",
   "metadata": {},
   "source": [
    "### 활용하기"
   ]
  },
  {
   "cell_type": "code",
   "execution_count": 27,
   "id": "0739f396",
   "metadata": {},
   "outputs": [],
   "source": [
    "exam = pd.read_csv('exam.csv')\n",
    "mpg = pd.read_csv('mpg.csv')"
   ]
  },
  {
   "cell_type": "code",
   "execution_count": 31,
   "id": "ad84ce97",
   "metadata": {},
   "outputs": [
    {
     "data": {
      "text/html": [
       "<div>\n",
       "<style scoped>\n",
       "    .dataframe tbody tr th:only-of-type {\n",
       "        vertical-align: middle;\n",
       "    }\n",
       "\n",
       "    .dataframe tbody tr th {\n",
       "        vertical-align: top;\n",
       "    }\n",
       "\n",
       "    .dataframe thead th {\n",
       "        text-align: right;\n",
       "    }\n",
       "</style>\n",
       "<table border=\"1\" class=\"dataframe\">\n",
       "  <thead>\n",
       "    <tr style=\"text-align: right;\">\n",
       "      <th></th>\n",
       "      <th>id</th>\n",
       "      <th>nclass</th>\n",
       "      <th>math</th>\n",
       "      <th>english</th>\n",
       "      <th>science</th>\n",
       "    </tr>\n",
       "  </thead>\n",
       "  <tbody>\n",
       "    <tr>\n",
       "      <th>0</th>\n",
       "      <td>1</td>\n",
       "      <td>1</td>\n",
       "      <td>50</td>\n",
       "      <td>98</td>\n",
       "      <td>50</td>\n",
       "    </tr>\n",
       "    <tr>\n",
       "      <th>1</th>\n",
       "      <td>2</td>\n",
       "      <td>1</td>\n",
       "      <td>60</td>\n",
       "      <td>97</td>\n",
       "      <td>60</td>\n",
       "    </tr>\n",
       "    <tr>\n",
       "      <th>2</th>\n",
       "      <td>3</td>\n",
       "      <td>1</td>\n",
       "      <td>45</td>\n",
       "      <td>86</td>\n",
       "      <td>78</td>\n",
       "    </tr>\n",
       "    <tr>\n",
       "      <th>3</th>\n",
       "      <td>4</td>\n",
       "      <td>1</td>\n",
       "      <td>30</td>\n",
       "      <td>98</td>\n",
       "      <td>58</td>\n",
       "    </tr>\n",
       "    <tr>\n",
       "      <th>8</th>\n",
       "      <td>9</td>\n",
       "      <td>3</td>\n",
       "      <td>20</td>\n",
       "      <td>98</td>\n",
       "      <td>15</td>\n",
       "    </tr>\n",
       "    <tr>\n",
       "      <th>9</th>\n",
       "      <td>10</td>\n",
       "      <td>3</td>\n",
       "      <td>50</td>\n",
       "      <td>98</td>\n",
       "      <td>45</td>\n",
       "    </tr>\n",
       "    <tr>\n",
       "      <th>10</th>\n",
       "      <td>11</td>\n",
       "      <td>3</td>\n",
       "      <td>65</td>\n",
       "      <td>65</td>\n",
       "      <td>65</td>\n",
       "    </tr>\n",
       "    <tr>\n",
       "      <th>11</th>\n",
       "      <td>12</td>\n",
       "      <td>3</td>\n",
       "      <td>45</td>\n",
       "      <td>85</td>\n",
       "      <td>32</td>\n",
       "    </tr>\n",
       "    <tr>\n",
       "      <th>16</th>\n",
       "      <td>17</td>\n",
       "      <td>5</td>\n",
       "      <td>65</td>\n",
       "      <td>68</td>\n",
       "      <td>98</td>\n",
       "    </tr>\n",
       "    <tr>\n",
       "      <th>17</th>\n",
       "      <td>18</td>\n",
       "      <td>5</td>\n",
       "      <td>80</td>\n",
       "      <td>78</td>\n",
       "      <td>90</td>\n",
       "    </tr>\n",
       "    <tr>\n",
       "      <th>18</th>\n",
       "      <td>19</td>\n",
       "      <td>5</td>\n",
       "      <td>89</td>\n",
       "      <td>68</td>\n",
       "      <td>87</td>\n",
       "    </tr>\n",
       "    <tr>\n",
       "      <th>19</th>\n",
       "      <td>20</td>\n",
       "      <td>5</td>\n",
       "      <td>78</td>\n",
       "      <td>83</td>\n",
       "      <td>58</td>\n",
       "    </tr>\n",
       "  </tbody>\n",
       "</table>\n",
       "</div>"
      ],
      "text/plain": [
       "    id  nclass  math  english  science\n",
       "0    1       1    50       98       50\n",
       "1    2       1    60       97       60\n",
       "2    3       1    45       86       78\n",
       "3    4       1    30       98       58\n",
       "8    9       3    20       98       15\n",
       "9   10       3    50       98       45\n",
       "10  11       3    65       65       65\n",
       "11  12       3    45       85       32\n",
       "16  17       5    65       68       98\n",
       "17  18       5    80       78       90\n",
       "18  19       5    89       68       87\n",
       "19  20       5    78       83       58"
      ]
     },
     "execution_count": 31,
     "metadata": {},
     "output_type": "execute_result"
    }
   ],
   "source": [
    "# df.query()로 목록에 해당하는 행 추출하기\n",
    "exam.query('nclass in [1, 3, 5]')"
   ]
  },
  {
   "cell_type": "code",
   "execution_count": 30,
   "id": "cd232405",
   "metadata": {},
   "outputs": [
    {
     "data": {
      "text/html": [
       "<div>\n",
       "<style scoped>\n",
       "    .dataframe tbody tr th:only-of-type {\n",
       "        vertical-align: middle;\n",
       "    }\n",
       "\n",
       "    .dataframe tbody tr th {\n",
       "        vertical-align: top;\n",
       "    }\n",
       "\n",
       "    .dataframe thead th {\n",
       "        text-align: right;\n",
       "    }\n",
       "</style>\n",
       "<table border=\"1\" class=\"dataframe\">\n",
       "  <thead>\n",
       "    <tr style=\"text-align: right;\">\n",
       "      <th></th>\n",
       "      <th></th>\n",
       "      <th>mean_cty</th>\n",
       "    </tr>\n",
       "    <tr>\n",
       "      <th>manufacturer</th>\n",
       "      <th>drv</th>\n",
       "      <th></th>\n",
       "    </tr>\n",
       "  </thead>\n",
       "  <tbody>\n",
       "    <tr>\n",
       "      <th rowspan=\"2\" valign=\"top\">audi</th>\n",
       "      <th>4</th>\n",
       "      <td>16.818182</td>\n",
       "    </tr>\n",
       "    <tr>\n",
       "      <th>f</th>\n",
       "      <td>18.857143</td>\n",
       "    </tr>\n",
       "    <tr>\n",
       "      <th rowspan=\"3\" valign=\"top\">chevrolet</th>\n",
       "      <th>4</th>\n",
       "      <td>12.500000</td>\n",
       "    </tr>\n",
       "    <tr>\n",
       "      <th>f</th>\n",
       "      <td>18.800000</td>\n",
       "    </tr>\n",
       "    <tr>\n",
       "      <th>r</th>\n",
       "      <td>14.100000</td>\n",
       "    </tr>\n",
       "    <tr>\n",
       "      <th rowspan=\"2\" valign=\"top\">dodge</th>\n",
       "      <th>4</th>\n",
       "      <td>12.000000</td>\n",
       "    </tr>\n",
       "    <tr>\n",
       "      <th>f</th>\n",
       "      <td>15.818182</td>\n",
       "    </tr>\n",
       "    <tr>\n",
       "      <th rowspan=\"2\" valign=\"top\">ford</th>\n",
       "      <th>4</th>\n",
       "      <td>13.307692</td>\n",
       "    </tr>\n",
       "    <tr>\n",
       "      <th>r</th>\n",
       "      <td>14.750000</td>\n",
       "    </tr>\n",
       "    <tr>\n",
       "      <th>honda</th>\n",
       "      <th>f</th>\n",
       "      <td>24.444444</td>\n",
       "    </tr>\n",
       "    <tr>\n",
       "      <th>hyundai</th>\n",
       "      <th>f</th>\n",
       "      <td>18.642857</td>\n",
       "    </tr>\n",
       "    <tr>\n",
       "      <th>jeep</th>\n",
       "      <th>4</th>\n",
       "      <td>13.500000</td>\n",
       "    </tr>\n",
       "    <tr>\n",
       "      <th>land rover</th>\n",
       "      <th>4</th>\n",
       "      <td>11.500000</td>\n",
       "    </tr>\n",
       "    <tr>\n",
       "      <th>lincoln</th>\n",
       "      <th>r</th>\n",
       "      <td>11.333333</td>\n",
       "    </tr>\n",
       "    <tr>\n",
       "      <th>mercury</th>\n",
       "      <th>4</th>\n",
       "      <td>13.250000</td>\n",
       "    </tr>\n",
       "    <tr>\n",
       "      <th rowspan=\"2\" valign=\"top\">nissan</th>\n",
       "      <th>4</th>\n",
       "      <td>13.750000</td>\n",
       "    </tr>\n",
       "    <tr>\n",
       "      <th>f</th>\n",
       "      <td>20.000000</td>\n",
       "    </tr>\n",
       "    <tr>\n",
       "      <th>pontiac</th>\n",
       "      <th>f</th>\n",
       "      <td>17.000000</td>\n",
       "    </tr>\n",
       "    <tr>\n",
       "      <th>subaru</th>\n",
       "      <th>4</th>\n",
       "      <td>19.285714</td>\n",
       "    </tr>\n",
       "    <tr>\n",
       "      <th rowspan=\"2\" valign=\"top\">toyota</th>\n",
       "      <th>4</th>\n",
       "      <td>14.933333</td>\n",
       "    </tr>\n",
       "    <tr>\n",
       "      <th>f</th>\n",
       "      <td>21.368421</td>\n",
       "    </tr>\n",
       "    <tr>\n",
       "      <th>volkswagen</th>\n",
       "      <th>f</th>\n",
       "      <td>20.925926</td>\n",
       "    </tr>\n",
       "  </tbody>\n",
       "</table>\n",
       "</div>"
      ],
      "text/plain": [
       "                   mean_cty\n",
       "manufacturer drv           \n",
       "audi         4    16.818182\n",
       "             f    18.857143\n",
       "chevrolet    4    12.500000\n",
       "             f    18.800000\n",
       "             r    14.100000\n",
       "dodge        4    12.000000\n",
       "             f    15.818182\n",
       "ford         4    13.307692\n",
       "             r    14.750000\n",
       "honda        f    24.444444\n",
       "hyundai      f    18.642857\n",
       "jeep         4    13.500000\n",
       "land rover   4    11.500000\n",
       "lincoln      r    11.333333\n",
       "mercury      4    13.250000\n",
       "nissan       4    13.750000\n",
       "             f    20.000000\n",
       "pontiac      f    17.000000\n",
       "subaru       4    19.285714\n",
       "toyota       4    14.933333\n",
       "             f    21.368421\n",
       "volkswagen   f    20.925926"
      ]
     },
     "execution_count": 30,
     "metadata": {},
     "output_type": "execute_result"
    }
   ],
   "source": [
    "# df.groupby()에 여러 변수 지정하기\n",
    "mpg.groupby(['manufacturer', 'drv'])\\\n",
    "   .agg(mean_cty = ('cty', 'mean'))"
   ]
  },
  {
   "cell_type": "markdown",
   "id": "10e66789",
   "metadata": {},
   "source": [
    "## 4. 튜플\n",
    "### 튜플(tuple) : 여러 값을 나열한 자료 구조\n",
    "#### 한 번 만들면 값을 수정할 수 없음\n",
    "### 만들기"
   ]
  },
  {
   "cell_type": "code",
   "execution_count": 32,
   "id": "df3ceaec",
   "metadata": {},
   "outputs": [
    {
     "data": {
      "text/plain": [
       "(1, 2, 'a', 'b')"
      ]
     },
     "execution_count": 32,
     "metadata": {},
     "output_type": "execute_result"
    }
   ],
   "source": [
    "# 튜플 만들기\n",
    "x = (1, 2, 'a', 'b')\n",
    "x"
   ]
  },
  {
   "cell_type": "code",
   "execution_count": 33,
   "id": "90e270f7",
   "metadata": {},
   "outputs": [
    {
     "data": {
      "text/plain": [
       "tuple"
      ]
     },
     "execution_count": 33,
     "metadata": {},
     "output_type": "execute_result"
    }
   ],
   "source": [
    "type(x)"
   ]
  },
  {
   "cell_type": "code",
   "execution_count": 34,
   "id": "3cff8b68",
   "metadata": {},
   "outputs": [
    {
     "data": {
      "text/plain": [
       "(1, 2, 'a', 'b')"
      ]
     },
     "execution_count": 34,
     "metadata": {},
     "output_type": "execute_result"
    }
   ],
   "source": [
    "# () 생략하고 튜플 만들기\n",
    "x2 = 1, 2, 'a', 'b'\n",
    "x2"
   ]
  },
  {
   "cell_type": "code",
   "execution_count": 35,
   "id": "bd19531f",
   "metadata": {},
   "outputs": [
    {
     "data": {
      "text/plain": [
       "tuple"
      ]
     },
     "execution_count": 35,
     "metadata": {},
     "output_type": "execute_result"
    }
   ],
   "source": [
    "type(x2)"
   ]
  },
  {
   "cell_type": "markdown",
   "id": "3a28ab0d",
   "metadata": {},
   "source": [
    "### 추출하기"
   ]
  },
  {
   "cell_type": "code",
   "execution_count": 36,
   "id": "344d61c5",
   "metadata": {},
   "outputs": [
    {
     "data": {
      "text/plain": [
       "1"
      ]
     },
     "execution_count": 36,
     "metadata": {},
     "output_type": "execute_result"
    }
   ],
   "source": [
    "# 0번째 값 추출\n",
    "x[0]"
   ]
  },
  {
   "cell_type": "code",
   "execution_count": 37,
   "id": "4bc1d68e",
   "metadata": {},
   "outputs": [
    {
     "data": {
      "text/plain": [
       "(2, 'a')"
      ]
     },
     "execution_count": 37,
     "metadata": {},
     "output_type": "execute_result"
    }
   ],
   "source": [
    "# 1~2번째 값 추출\n",
    "x[1:3]"
   ]
  },
  {
   "cell_type": "markdown",
   "id": "fb6c037c",
   "metadata": {},
   "source": [
    "### 튜플은 수정할 수 없다"
   ]
  },
  {
   "cell_type": "code",
   "execution_count": 38,
   "id": "4af7eb81",
   "metadata": {},
   "outputs": [
    {
     "ename": "AttributeError",
     "evalue": "'tuple' object has no attribute 'append'",
     "output_type": "error",
     "traceback": [
      "\u001b[1;31m---------------------------------------------------------------------------\u001b[0m",
      "\u001b[1;31mAttributeError\u001b[0m                            Traceback (most recent call last)",
      "\u001b[1;32m~\\AppData\\Local\\Temp\\ipykernel_13488\\632886951.py\u001b[0m in \u001b[0;36m<module>\u001b[1;34m\u001b[0m\n\u001b[1;32m----> 1\u001b[1;33m \u001b[0mx\u001b[0m\u001b[1;33m.\u001b[0m\u001b[0mappend\u001b[0m\u001b[1;33m(\u001b[0m\u001b[1;36m8\u001b[0m\u001b[1;33m)\u001b[0m   \u001b[1;31m# 추가\u001b[0m\u001b[1;33m\u001b[0m\u001b[1;33m\u001b[0m\u001b[0m\n\u001b[0m",
      "\u001b[1;31mAttributeError\u001b[0m: 'tuple' object has no attribute 'append'"
     ]
    }
   ],
   "source": [
    "x.append(8)   # 추가"
   ]
  },
  {
   "cell_type": "code",
   "execution_count": 39,
   "id": "21ceeb6f",
   "metadata": {},
   "outputs": [
    {
     "ename": "AttributeError",
     "evalue": "'tuple' object has no attribute 'remove'",
     "output_type": "error",
     "traceback": [
      "\u001b[1;31m---------------------------------------------------------------------------\u001b[0m",
      "\u001b[1;31mAttributeError\u001b[0m                            Traceback (most recent call last)",
      "\u001b[1;32m~\\AppData\\Local\\Temp\\ipykernel_13488\\1404390239.py\u001b[0m in \u001b[0;36m<module>\u001b[1;34m\u001b[0m\n\u001b[1;32m----> 1\u001b[1;33m \u001b[0mx\u001b[0m\u001b[1;33m.\u001b[0m\u001b[0mremove\u001b[0m\u001b[1;33m(\u001b[0m\u001b[1;36m3\u001b[0m\u001b[1;33m)\u001b[0m   \u001b[1;31m# 삭제\u001b[0m\u001b[1;33m\u001b[0m\u001b[1;33m\u001b[0m\u001b[0m\n\u001b[0m",
      "\u001b[1;31mAttributeError\u001b[0m: 'tuple' object has no attribute 'remove'"
     ]
    }
   ],
   "source": [
    "x.remove(3)   # 삭제"
   ]
  },
  {
   "cell_type": "code",
   "execution_count": 40,
   "id": "a562844b",
   "metadata": {},
   "outputs": [
    {
     "ename": "TypeError",
     "evalue": "'tuple' object does not support item assignment",
     "output_type": "error",
     "traceback": [
      "\u001b[1;31m---------------------------------------------------------------------------\u001b[0m",
      "\u001b[1;31mTypeError\u001b[0m                                 Traceback (most recent call last)",
      "\u001b[1;32m~\\AppData\\Local\\Temp\\ipykernel_13488\\349240829.py\u001b[0m in \u001b[0;36m<module>\u001b[1;34m\u001b[0m\n\u001b[1;32m----> 1\u001b[1;33m \u001b[0mx\u001b[0m\u001b[1;33m[\u001b[0m\u001b[1;36m0\u001b[0m\u001b[1;33m]\u001b[0m \u001b[1;33m=\u001b[0m \u001b[1;36m9\u001b[0m   \u001b[1;31m# 변경\u001b[0m\u001b[1;33m\u001b[0m\u001b[1;33m\u001b[0m\u001b[0m\n\u001b[0m",
      "\u001b[1;31mTypeError\u001b[0m: 'tuple' object does not support item assignment"
     ]
    }
   ],
   "source": [
    "x[0] = 9   # 변경"
   ]
  },
  {
   "cell_type": "markdown",
   "id": "4d0257ab",
   "metadata": {},
   "source": [
    "### 활용하기"
   ]
  },
  {
   "cell_type": "code",
   "execution_count": 41,
   "id": "766dbf89",
   "metadata": {},
   "outputs": [
    {
     "data": {
      "text/html": [
       "<div>\n",
       "<style scoped>\n",
       "    .dataframe tbody tr th:only-of-type {\n",
       "        vertical-align: middle;\n",
       "    }\n",
       "\n",
       "    .dataframe tbody tr th {\n",
       "        vertical-align: top;\n",
       "    }\n",
       "\n",
       "    .dataframe thead th {\n",
       "        text-align: right;\n",
       "    }\n",
       "</style>\n",
       "<table border=\"1\" class=\"dataframe\">\n",
       "  <thead>\n",
       "    <tr style=\"text-align: right;\">\n",
       "      <th></th>\n",
       "      <th>math</th>\n",
       "    </tr>\n",
       "  </thead>\n",
       "  <tbody>\n",
       "    <tr>\n",
       "      <th>mean_math</th>\n",
       "      <td>57.45</td>\n",
       "    </tr>\n",
       "  </tbody>\n",
       "</table>\n",
       "</div>"
      ],
      "text/plain": [
       "            math\n",
       "mean_math  57.45"
      ]
     },
     "execution_count": 41,
     "metadata": {},
     "output_type": "execute_result"
    }
   ],
   "source": [
    "# df.agg()로 요약 통계량 구하기\n",
    "exam.agg(mean_math = ('math', 'mean'))"
   ]
  },
  {
   "cell_type": "code",
   "execution_count": 44,
   "id": "a772cc43",
   "metadata": {},
   "outputs": [
    {
     "data": {
      "image/png": "[encoded data removed]",
      "text/plain": [
       "<Figure size 640x480 with 1 Axes>"
      ]
     },
     "metadata": {},
     "output_type": "display_data"
    }
   ],
   "source": [
    "# sns.scatterplot.set()으로 축 범위 제한하기\n",
    "import seaborn as sns\n",
    "sns.scatterplot(data = mpg, x = 'displ', y = 'hwy').set(xlim = (3, 6));"
   ]
  },
  {
   "cell_type": "markdown",
   "id": "6ff8e2b4",
   "metadata": {},
   "source": [
    "## 5. 딕셔너리\n",
    "### 딕셔너리(dictionary) : 키(key)와 값(value)이 짝을 이루어 나열된 자료 구조\n",
    "### 만들기"
   ]
  },
  {
   "cell_type": "code",
   "execution_count": 45,
   "id": "02ade880",
   "metadata": {},
   "outputs": [
    {
     "data": {
      "text/plain": [
       "{'name': 'kim'}"
      ]
     },
     "execution_count": 45,
     "metadata": {},
     "output_type": "execute_result"
    }
   ],
   "source": [
    "# 딕셔너리 만들기\n",
    "x = {'name' : 'kim'}\n",
    "x"
   ]
  },
  {
   "cell_type": "code",
   "execution_count": 46,
   "id": "b38ee94b",
   "metadata": {},
   "outputs": [
    {
     "data": {
      "text/plain": [
       "dict"
      ]
     },
     "execution_count": 46,
     "metadata": {},
     "output_type": "execute_result"
    }
   ],
   "source": [
    "type(x)"
   ]
  },
  {
   "cell_type": "code",
   "execution_count": 47,
   "id": "892b4afb",
   "metadata": {},
   "outputs": [
    {
     "data": {
      "text/plain": [
       "{'id': 1, 'name': ['kim', 'park'], 'nclass': (1, 2, 3)}"
      ]
     },
     "execution_count": 47,
     "metadata": {},
     "output_type": "execute_result"
    }
   ],
   "source": [
    "x = {'id' : 1, 'name' : ['kim', 'park'], 'nclass' : (1, 2, 3)}\n",
    "x"
   ]
  },
  {
   "cell_type": "markdown",
   "id": "a1ff8b8c",
   "metadata": {},
   "source": [
    "### 추출하기"
   ]
  },
  {
   "cell_type": "code",
   "execution_count": 48,
   "id": "90dcfdd9",
   "metadata": {},
   "outputs": [
    {
     "data": {
      "text/plain": [
       "1"
      ]
     },
     "execution_count": 48,
     "metadata": {},
     "output_type": "execute_result"
    }
   ],
   "source": [
    "# id 키의 값 추출\n",
    "x['id']"
   ]
  },
  {
   "cell_type": "code",
   "execution_count": 49,
   "id": "06126199",
   "metadata": {},
   "outputs": [
    {
     "data": {
      "text/plain": [
       "['kim', 'park']"
      ]
     },
     "execution_count": 49,
     "metadata": {},
     "output_type": "execute_result"
    }
   ],
   "source": [
    "# name 키의 값 추출\n",
    "x['name']"
   ]
  },
  {
   "cell_type": "code",
   "execution_count": 50,
   "id": "a5018e3e",
   "metadata": {},
   "outputs": [
    {
     "ename": "KeyError",
     "evalue": "1",
     "output_type": "error",
     "traceback": [
      "\u001b[1;31m---------------------------------------------------------------------------\u001b[0m",
      "\u001b[1;31mKeyError\u001b[0m                                  Traceback (most recent call last)",
      "\u001b[1;32m~\\AppData\\Local\\Temp\\ipykernel_13488\\4118936608.py\u001b[0m in \u001b[0;36m<module>\u001b[1;34m\u001b[0m\n\u001b[1;32m----> 1\u001b[1;33m \u001b[0mx\u001b[0m\u001b[1;33m[\u001b[0m\u001b[1;36m1\u001b[0m\u001b[1;33m]\u001b[0m\u001b[1;33m\u001b[0m\u001b[1;33m\u001b[0m\u001b[0m\n\u001b[0m",
      "\u001b[1;31mKeyError\u001b[0m: 1"
     ]
    }
   ],
   "source": [
    "x[1]"
   ]
  },
  {
   "cell_type": "code",
   "execution_count": 51,
   "id": "a6a85b1b",
   "metadata": {},
   "outputs": [
    {
     "data": {
      "text/plain": [
       "'kim'"
      ]
     },
     "execution_count": 51,
     "metadata": {},
     "output_type": "execute_result"
    }
   ],
   "source": [
    "# name 키의 0번째 값 추출\n",
    "x['name'][0]"
   ]
  },
  {
   "cell_type": "code",
   "execution_count": 52,
   "id": "379f91ea",
   "metadata": {},
   "outputs": [
    {
     "data": {
      "text/plain": [
       "2"
      ]
     },
     "execution_count": 52,
     "metadata": {},
     "output_type": "execute_result"
    }
   ],
   "source": [
    "# nclass 키와 1번째 값 추출\n",
    "x['nclass'][1]"
   ]
  },
  {
   "cell_type": "markdown",
   "id": "7401fc3e",
   "metadata": {},
   "source": [
    "### 수정하기\n",
    "#### 추가하기"
   ]
  },
  {
   "cell_type": "code",
   "execution_count": 53,
   "id": "0aaa5c5b",
   "metadata": {},
   "outputs": [
    {
     "data": {
      "text/plain": [
       "{'id': 1, 'name': ['kim', 'park'], 'nclass': (1, 2, 3), 'score': [5, 6, 7]}"
      ]
     },
     "execution_count": 53,
     "metadata": {},
     "output_type": "execute_result"
    }
   ],
   "source": [
    "# 'score' : [5, 6, 7] 쌍 추가\n",
    "x['score'] = [5, 6, 7]\n",
    "x"
   ]
  },
  {
   "cell_type": "markdown",
   "id": "d25fdc8e",
   "metadata": {},
   "source": [
    "#### 삭제하기"
   ]
  },
  {
   "cell_type": "code",
   "execution_count": 54,
   "id": "3dac5da7",
   "metadata": {},
   "outputs": [
    {
     "data": {
      "text/plain": [
       "{'name': ['kim', 'park'], 'nclass': (1, 2, 3), 'score': [5, 6, 7]}"
      ]
     },
     "execution_count": 54,
     "metadata": {},
     "output_type": "execute_result"
    }
   ],
   "source": [
    "# id 키 : 값 쌍 삭제\n",
    "del(x['id'])\n",
    "x"
   ]
  },
  {
   "cell_type": "code",
   "execution_count": 55,
   "id": "c84baacf",
   "metadata": {},
   "outputs": [
    {
     "data": {
      "text/plain": [
       "{'name': ['kim'], 'nclass': (1, 2, 3), 'score': [5, 6, 7]}"
      ]
     },
     "execution_count": 55,
     "metadata": {},
     "output_type": "execute_result"
    }
   ],
   "source": [
    "# name 키의 1번째 요소 삭제\n",
    "del(x['name'][1])\n",
    "x"
   ]
  },
  {
   "cell_type": "markdown",
   "id": "62f0ae14",
   "metadata": {},
   "source": [
    "#### 값 변경하기"
   ]
  },
  {
   "cell_type": "code",
   "execution_count": 56,
   "id": "fed5a59b",
   "metadata": {},
   "outputs": [
    {
     "data": {
      "text/plain": [
       "{'name': ['kim'], 'nclass': (1, 2, 3), 'score': [7, 8, 9]}"
      ]
     },
     "execution_count": 56,
     "metadata": {},
     "output_type": "execute_result"
    }
   ],
   "source": [
    "# score 키의 값 변경\n",
    "x['score'] = [7, 8, 9]\n",
    "x"
   ]
  },
  {
   "cell_type": "code",
   "execution_count": 57,
   "id": "a2c6d0a8",
   "metadata": {},
   "outputs": [
    {
     "data": {
      "text/plain": [
       "{'name': ['kim'], 'nclass': (1, 2, 3), 'score': [7, 8, 99]}"
      ]
     },
     "execution_count": 57,
     "metadata": {},
     "output_type": "execute_result"
    }
   ],
   "source": [
    "# score 키의 2번째 값 변경\n",
    "x['score'][2] = 99\n",
    "x"
   ]
  },
  {
   "cell_type": "markdown",
   "id": "d2303505",
   "metadata": {},
   "source": [
    "#### 키 변경하기"
   ]
  },
  {
   "cell_type": "code",
   "execution_count": 58,
   "id": "d9680af9",
   "metadata": {},
   "outputs": [
    {
     "data": {
      "text/plain": [
       "{'name': ['kim'], 'nclass': (1, 2, 3), 'score': [7, 8, 99], 'math': [7, 8, 99]}"
      ]
     },
     "execution_count": 58,
     "metadata": {},
     "output_type": "execute_result"
    }
   ],
   "source": [
    "# (1) 기존 키를 새 키에 할당\n",
    "x['math'] = x['score']\n",
    "x"
   ]
  },
  {
   "cell_type": "code",
   "execution_count": 59,
   "id": "4c62b537",
   "metadata": {},
   "outputs": [
    {
     "data": {
      "text/plain": [
       "{'name': ['kim'], 'nclass': (1, 2, 3), 'math': [7, 8, 99]}"
      ]
     },
     "execution_count": 59,
     "metadata": {},
     "output_type": "execute_result"
    }
   ],
   "source": [
    "# (2) 기존 키 삭제\n",
    "del(x['score'])\n",
    "x"
   ]
  },
  {
   "cell_type": "markdown",
   "id": "90289f26",
   "metadata": {},
   "source": [
    "### 활용하기"
   ]
  },
  {
   "cell_type": "code",
   "execution_count": 60,
   "id": "7b770679",
   "metadata": {},
   "outputs": [],
   "source": [
    "# pd.DataFrame()으로 데이터 프레임 만들기\n",
    "df = pd.DataFrame({'id' : [1, 2, 3]})"
   ]
  },
  {
   "cell_type": "code",
   "execution_count": 61,
   "id": "6a3777a7",
   "metadata": {},
   "outputs": [
    {
     "data": {
      "text/html": [
       "<div>\n",
       "<style scoped>\n",
       "    .dataframe tbody tr th:only-of-type {\n",
       "        vertical-align: middle;\n",
       "    }\n",
       "\n",
       "    .dataframe tbody tr th {\n",
       "        vertical-align: top;\n",
       "    }\n",
       "\n",
       "    .dataframe thead th {\n",
       "        text-align: right;\n",
       "    }\n",
       "</style>\n",
       "<table border=\"1\" class=\"dataframe\">\n",
       "  <thead>\n",
       "    <tr style=\"text-align: right;\">\n",
       "      <th></th>\n",
       "      <th>manufacturer</th>\n",
       "      <th>model</th>\n",
       "      <th>displ</th>\n",
       "      <th>year</th>\n",
       "      <th>cyl</th>\n",
       "      <th>trans</th>\n",
       "      <th>drv</th>\n",
       "      <th>city</th>\n",
       "      <th>hwy</th>\n",
       "      <th>fl</th>\n",
       "      <th>category</th>\n",
       "    </tr>\n",
       "  </thead>\n",
       "  <tbody>\n",
       "    <tr>\n",
       "      <th>0</th>\n",
       "      <td>audi</td>\n",
       "      <td>a4</td>\n",
       "      <td>1.8</td>\n",
       "      <td>1999</td>\n",
       "      <td>4</td>\n",
       "      <td>auto(l5)</td>\n",
       "      <td>f</td>\n",
       "      <td>18</td>\n",
       "      <td>29</td>\n",
       "      <td>p</td>\n",
       "      <td>compact</td>\n",
       "    </tr>\n",
       "    <tr>\n",
       "      <th>1</th>\n",
       "      <td>audi</td>\n",
       "      <td>a4</td>\n",
       "      <td>1.8</td>\n",
       "      <td>1999</td>\n",
       "      <td>4</td>\n",
       "      <td>manual(m5)</td>\n",
       "      <td>f</td>\n",
       "      <td>21</td>\n",
       "      <td>29</td>\n",
       "      <td>p</td>\n",
       "      <td>compact</td>\n",
       "    </tr>\n",
       "    <tr>\n",
       "      <th>2</th>\n",
       "      <td>audi</td>\n",
       "      <td>a4</td>\n",
       "      <td>2.0</td>\n",
       "      <td>2008</td>\n",
       "      <td>4</td>\n",
       "      <td>manual(m6)</td>\n",
       "      <td>f</td>\n",
       "      <td>20</td>\n",
       "      <td>31</td>\n",
       "      <td>p</td>\n",
       "      <td>compact</td>\n",
       "    </tr>\n",
       "    <tr>\n",
       "      <th>3</th>\n",
       "      <td>audi</td>\n",
       "      <td>a4</td>\n",
       "      <td>2.0</td>\n",
       "      <td>2008</td>\n",
       "      <td>4</td>\n",
       "      <td>auto(av)</td>\n",
       "      <td>f</td>\n",
       "      <td>21</td>\n",
       "      <td>30</td>\n",
       "      <td>p</td>\n",
       "      <td>compact</td>\n",
       "    </tr>\n",
       "    <tr>\n",
       "      <th>4</th>\n",
       "      <td>audi</td>\n",
       "      <td>a4</td>\n",
       "      <td>2.8</td>\n",
       "      <td>1999</td>\n",
       "      <td>6</td>\n",
       "      <td>auto(l5)</td>\n",
       "      <td>f</td>\n",
       "      <td>16</td>\n",
       "      <td>26</td>\n",
       "      <td>p</td>\n",
       "      <td>compact</td>\n",
       "    </tr>\n",
       "    <tr>\n",
       "      <th>...</th>\n",
       "      <td>...</td>\n",
       "      <td>...</td>\n",
       "      <td>...</td>\n",
       "      <td>...</td>\n",
       "      <td>...</td>\n",
       "      <td>...</td>\n",
       "      <td>...</td>\n",
       "      <td>...</td>\n",
       "      <td>...</td>\n",
       "      <td>...</td>\n",
       "      <td>...</td>\n",
       "    </tr>\n",
       "    <tr>\n",
       "      <th>229</th>\n",
       "      <td>volkswagen</td>\n",
       "      <td>passat</td>\n",
       "      <td>2.0</td>\n",
       "      <td>2008</td>\n",
       "      <td>4</td>\n",
       "      <td>auto(s6)</td>\n",
       "      <td>f</td>\n",
       "      <td>19</td>\n",
       "      <td>28</td>\n",
       "      <td>p</td>\n",
       "      <td>midsize</td>\n",
       "    </tr>\n",
       "    <tr>\n",
       "      <th>230</th>\n",
       "      <td>volkswagen</td>\n",
       "      <td>passat</td>\n",
       "      <td>2.0</td>\n",
       "      <td>2008</td>\n",
       "      <td>4</td>\n",
       "      <td>manual(m6)</td>\n",
       "      <td>f</td>\n",
       "      <td>21</td>\n",
       "      <td>29</td>\n",
       "      <td>p</td>\n",
       "      <td>midsize</td>\n",
       "    </tr>\n",
       "    <tr>\n",
       "      <th>231</th>\n",
       "      <td>volkswagen</td>\n",
       "      <td>passat</td>\n",
       "      <td>2.8</td>\n",
       "      <td>1999</td>\n",
       "      <td>6</td>\n",
       "      <td>auto(l5)</td>\n",
       "      <td>f</td>\n",
       "      <td>16</td>\n",
       "      <td>26</td>\n",
       "      <td>p</td>\n",
       "      <td>midsize</td>\n",
       "    </tr>\n",
       "    <tr>\n",
       "      <th>232</th>\n",
       "      <td>volkswagen</td>\n",
       "      <td>passat</td>\n",
       "      <td>2.8</td>\n",
       "      <td>1999</td>\n",
       "      <td>6</td>\n",
       "      <td>manual(m5)</td>\n",
       "      <td>f</td>\n",
       "      <td>18</td>\n",
       "      <td>26</td>\n",
       "      <td>p</td>\n",
       "      <td>midsize</td>\n",
       "    </tr>\n",
       "    <tr>\n",
       "      <th>233</th>\n",
       "      <td>volkswagen</td>\n",
       "      <td>passat</td>\n",
       "      <td>3.6</td>\n",
       "      <td>2008</td>\n",
       "      <td>6</td>\n",
       "      <td>auto(s6)</td>\n",
       "      <td>f</td>\n",
       "      <td>17</td>\n",
       "      <td>26</td>\n",
       "      <td>p</td>\n",
       "      <td>midsize</td>\n",
       "    </tr>\n",
       "  </tbody>\n",
       "</table>\n",
       "<p>234 rows × 11 columns</p>\n",
       "</div>"
      ],
      "text/plain": [
       "    manufacturer   model  displ  year  cyl       trans drv  city  hwy fl  \\\n",
       "0           audi      a4    1.8  1999    4    auto(l5)   f    18   29  p   \n",
       "1           audi      a4    1.8  1999    4  manual(m5)   f    21   29  p   \n",
       "2           audi      a4    2.0  2008    4  manual(m6)   f    20   31  p   \n",
       "3           audi      a4    2.0  2008    4    auto(av)   f    21   30  p   \n",
       "4           audi      a4    2.8  1999    6    auto(l5)   f    16   26  p   \n",
       "..           ...     ...    ...   ...  ...         ...  ..   ...  ... ..   \n",
       "229   volkswagen  passat    2.0  2008    4    auto(s6)   f    19   28  p   \n",
       "230   volkswagen  passat    2.0  2008    4  manual(m6)   f    21   29  p   \n",
       "231   volkswagen  passat    2.8  1999    6    auto(l5)   f    16   26  p   \n",
       "232   volkswagen  passat    2.8  1999    6  manual(m5)   f    18   26  p   \n",
       "233   volkswagen  passat    3.6  2008    6    auto(s6)   f    17   26  p   \n",
       "\n",
       "    category  \n",
       "0    compact  \n",
       "1    compact  \n",
       "2    compact  \n",
       "3    compact  \n",
       "4    compact  \n",
       "..       ...  \n",
       "229  midsize  \n",
       "230  midsize  \n",
       "231  midsize  \n",
       "232  midsize  \n",
       "233  midsize  \n",
       "\n",
       "[234 rows x 11 columns]"
      ]
     },
     "execution_count": 61,
     "metadata": {},
     "output_type": "execute_result"
    }
   ],
   "source": [
    "# df.rename()으로 변수명 바꾸기\n",
    "mpg.rename(columns = {'cty' : 'city'})"
   ]
  },
  {
   "cell_type": "markdown",
   "id": "654586db",
   "metadata": {},
   "source": [
    "## 6. 시리즈\n",
    "### 시리즈(series) : 여러 값을 나열한 자료 구조\n",
    "#### 데이터 프레임을 구성하는 하위 요소\n",
    "#### 파이썬에 내장되어 있지 않고 pandas 패키지를 이용해야 활용할 수 있음\n",
    "### 만들기"
   ]
  },
  {
   "cell_type": "code",
   "execution_count": 62,
   "id": "fbac39b9",
   "metadata": {},
   "outputs": [
    {
     "data": {
      "text/plain": [
       "0    3\n",
       "1    4\n",
       "2    5\n",
       "dtype: int64"
      ]
     },
     "execution_count": 62,
     "metadata": {},
     "output_type": "execute_result"
    }
   ],
   "source": [
    "# 시리즈 만들기\n",
    "import pandas as pd\n",
    "x_num = pd.Series([3, 4, 5])\n",
    "x_num"
   ]
  },
  {
   "cell_type": "code",
   "execution_count": 63,
   "id": "0f1819ff",
   "metadata": {},
   "outputs": [
    {
     "data": {
      "text/plain": [
       "pandas.core.series.Series"
      ]
     },
     "execution_count": 63,
     "metadata": {},
     "output_type": "execute_result"
    }
   ],
   "source": [
    "type(x_num)"
   ]
  },
  {
   "cell_type": "code",
   "execution_count": 65,
   "id": "c97eaac8",
   "metadata": {},
   "outputs": [
    {
     "data": {
      "text/plain": [
       "kim     3\n",
       "lee     4\n",
       "park    5\n",
       "dtype: int64"
      ]
     },
     "execution_count": 65,
     "metadata": {},
     "output_type": "execute_result"
    }
   ],
   "source": [
    "# 인덱스 정하기\n",
    "x_label = pd.Series([3, 4, 5], index = ['kim', 'lee', 'park'])\n",
    "x_label"
   ]
  },
  {
   "cell_type": "markdown",
   "id": "748e9ed7",
   "metadata": {},
   "source": [
    "### 추출하기"
   ]
  },
  {
   "cell_type": "code",
   "execution_count": 66,
   "id": "c6912ed5",
   "metadata": {},
   "outputs": [
    {
     "data": {
      "text/plain": [
       "3"
      ]
     },
     "execution_count": 66,
     "metadata": {},
     "output_type": "execute_result"
    }
   ],
   "source": [
    "# 0번째 값 추출\n",
    "x_num[0]"
   ]
  },
  {
   "cell_type": "code",
   "execution_count": 67,
   "id": "d08d7953",
   "metadata": {},
   "outputs": [
    {
     "data": {
      "text/plain": [
       "4"
      ]
     },
     "execution_count": 67,
     "metadata": {},
     "output_type": "execute_result"
    }
   ],
   "source": [
    "# 1번째 값 추출\n",
    "x_num[1]"
   ]
  },
  {
   "cell_type": "code",
   "execution_count": 68,
   "id": "899d587f",
   "metadata": {},
   "outputs": [
    {
     "data": {
      "text/plain": [
       "5"
      ]
     },
     "execution_count": 68,
     "metadata": {},
     "output_type": "execute_result"
    }
   ],
   "source": [
    "# 2번째 값 추출\n",
    "x_label[2]"
   ]
  },
  {
   "cell_type": "code",
   "execution_count": 69,
   "id": "6e3a4464",
   "metadata": {},
   "outputs": [
    {
     "data": {
      "text/plain": [
       "3"
      ]
     },
     "execution_count": 69,
     "metadata": {},
     "output_type": "execute_result"
    }
   ],
   "source": [
    "# 인덱스 kim의 값 추출\n",
    "x_label['kim']"
   ]
  },
  {
   "cell_type": "code",
   "execution_count": 70,
   "id": "d95f9695",
   "metadata": {},
   "outputs": [
    {
     "data": {
      "text/plain": [
       "3"
      ]
     },
     "execution_count": 70,
     "metadata": {},
     "output_type": "execute_result"
    }
   ],
   "source": [
    "x_label.loc['kim']"
   ]
  },
  {
   "cell_type": "code",
   "execution_count": 71,
   "id": "803fe5b9",
   "metadata": {},
   "outputs": [
    {
     "data": {
      "text/plain": [
       "3"
      ]
     },
     "execution_count": 71,
     "metadata": {},
     "output_type": "execute_result"
    }
   ],
   "source": [
    "x_num.iloc[0]"
   ]
  },
  {
   "cell_type": "markdown",
   "id": "5aacee8d",
   "metadata": {},
   "source": [
    "### 수정하기\n",
    "#### 추가하기"
   ]
  },
  {
   "cell_type": "code",
   "execution_count": 72,
   "id": "57241852",
   "metadata": {},
   "outputs": [
    {
     "data": {
      "text/plain": [
       "0    3\n",
       "1    4\n",
       "2    5\n",
       "3    9\n",
       "dtype: int64"
      ]
     },
     "execution_count": 72,
     "metadata": {},
     "output_type": "execute_result"
    }
   ],
   "source": [
    "# 3번째 인덱스에 9 할당\n",
    "x_num[3] = 9\n",
    "x_num"
   ]
  },
  {
   "cell_type": "code",
   "execution_count": 74,
   "id": "f1242de6",
   "metadata": {},
   "outputs": [
    {
     "data": {
      "text/plain": [
       "kim     3\n",
       "lee     4\n",
       "park    5\n",
       "choi    6\n",
       "dtype: int64"
      ]
     },
     "execution_count": 74,
     "metadata": {},
     "output_type": "execute_result"
    }
   ],
   "source": [
    "# 인덱스 choi에 6 할당\n",
    "x_label['choi'] = 6\n",
    "x_label"
   ]
  },
  {
   "cell_type": "markdown",
   "id": "3912f1fe",
   "metadata": {},
   "source": [
    "#### 삭제하기"
   ]
  },
  {
   "cell_type": "code",
   "execution_count": 76,
   "id": "07d5a435",
   "metadata": {},
   "outputs": [
    {
     "data": {
      "text/plain": [
       "0    3\n",
       "1    4\n",
       "3    9\n",
       "dtype: int64"
      ]
     },
     "execution_count": 76,
     "metadata": {},
     "output_type": "execute_result"
    }
   ],
   "source": [
    "# 2번째 인덱스 삭제\n",
    "del(x_num[2])\n",
    "x_num"
   ]
  },
  {
   "cell_type": "code",
   "execution_count": 77,
   "id": "54fd5a7e",
   "metadata": {},
   "outputs": [
    {
     "data": {
      "text/plain": [
       "kim     3\n",
       "lee     4\n",
       "choi    6\n",
       "dtype: int64"
      ]
     },
     "execution_count": 77,
     "metadata": {},
     "output_type": "execute_result"
    }
   ],
   "source": [
    "# 인덱스 park 삭제\n",
    "del(x_label['park'])\n",
    "x_label"
   ]
  },
  {
   "cell_type": "markdown",
   "id": "ff83f3bd",
   "metadata": {},
   "source": [
    "#### 변경하기"
   ]
  },
  {
   "cell_type": "code",
   "execution_count": 79,
   "id": "e51894e3",
   "metadata": {},
   "outputs": [
    {
     "data": {
      "text/plain": [
       "0    3\n",
       "1    4\n",
       "3    4\n",
       "dtype: int64"
      ]
     },
     "execution_count": 79,
     "metadata": {},
     "output_type": "execute_result"
    }
   ],
   "source": [
    "# 3번째 인덱스의 값을 4로 변경\n",
    "x_num[3] = 4\n",
    "x_num"
   ]
  },
  {
   "cell_type": "code",
   "execution_count": 80,
   "id": "f86ab98a",
   "metadata": {},
   "outputs": [
    {
     "data": {
      "text/plain": [
       "kim     5\n",
       "lee     4\n",
       "choi    6\n",
       "dtype: int64"
      ]
     },
     "execution_count": 80,
     "metadata": {},
     "output_type": "execute_result"
    }
   ],
   "source": [
    "# 인덱스 kim의 값을 5로 변경\n",
    "x_label['kim'] = 5\n",
    "x_label"
   ]
  },
  {
   "cell_type": "markdown",
   "id": "223e7338",
   "metadata": {},
   "source": [
    "### 활용하기"
   ]
  },
  {
   "cell_type": "code",
   "execution_count": 81,
   "id": "21ce1b19",
   "metadata": {},
   "outputs": [
    {
     "data": {
      "text/plain": [
       "0      29\n",
       "1      29\n",
       "2      31\n",
       "3      30\n",
       "4      26\n",
       "       ..\n",
       "229    28\n",
       "230    29\n",
       "231    26\n",
       "232    26\n",
       "233    26\n",
       "Name: hwy, Length: 234, dtype: int64"
      ]
     },
     "execution_count": 81,
     "metadata": {},
     "output_type": "execute_result"
    }
   ],
   "source": [
    "mpg['hwy']"
   ]
  },
  {
   "cell_type": "code",
   "execution_count": 82,
   "id": "f620dcf3",
   "metadata": {},
   "outputs": [
    {
     "data": {
      "text/plain": [
       "23.44017094017094"
      ]
     },
     "execution_count": 82,
     "metadata": {},
     "output_type": "execute_result"
    }
   ],
   "source": [
    "mpg['hwy'].mean()"
   ]
  },
  {
   "cell_type": "code",
   "execution_count": 84,
   "id": "c4cbbcdc",
   "metadata": {},
   "outputs": [
    {
     "data": {
      "text/plain": [
       "suv           62\n",
       "compact       47\n",
       "midsize       41\n",
       "subcompact    35\n",
       "pickup        33\n",
       "minivan       11\n",
       "2seater        5\n",
       "Name: category, dtype: int64"
      ]
     },
     "execution_count": 84,
     "metadata": {},
     "output_type": "execute_result"
    }
   ],
   "source": [
    "n_category = mpg['category'].value_counts()\n",
    "n_category"
   ]
  },
  {
   "cell_type": "code",
   "execution_count": 85,
   "id": "6abf5cb2",
   "metadata": {},
   "outputs": [
    {
     "data": {
      "text/plain": [
       "pandas.core.series.Series"
      ]
     },
     "execution_count": 85,
     "metadata": {},
     "output_type": "execute_result"
    }
   ],
   "source": [
    "type(n_category)"
   ]
  },
  {
   "cell_type": "code",
   "execution_count": 86,
   "id": "694163bf",
   "metadata": {},
   "outputs": [
    {
     "data": {
      "text/plain": [
       "suv        62\n",
       "compact    47\n",
       "Name: category, dtype: int64"
      ]
     },
     "execution_count": 86,
     "metadata": {},
     "output_type": "execute_result"
    }
   ],
   "source": [
    "# 인덱스 번호로 추출하기\n",
    "n_category[0:2]"
   ]
  },
  {
   "cell_type": "code",
   "execution_count": 87,
   "id": "c4062e4b",
   "metadata": {},
   "outputs": [
    {
     "data": {
      "text/plain": [
       "suv        62\n",
       "compact    47\n",
       "Name: category, dtype: int64"
      ]
     },
     "execution_count": 87,
     "metadata": {},
     "output_type": "execute_result"
    }
   ],
   "source": [
    "# 인덱스 문자열로 추출하기\n",
    "n_category[['suv', 'compact']]"
   ]
  },
  {
   "cell_type": "markdown",
   "id": "aeeb0cae",
   "metadata": {},
   "source": [
    "## 7. 데이터 프레임\n",
    "### 데이터 프레임(data frame) : 행과 열로 구성된 사각형 모양의 표처럼 생긴 자료 구조\n",
    "#### 데이터를 다룰 때 가장 많이 사용되는 자료 구조\n",
    "### 만들기"
   ]
  },
  {
   "cell_type": "code",
   "execution_count": 89,
   "id": "10beabf1",
   "metadata": {},
   "outputs": [
    {
     "data": {
      "text/html": [
       "<div>\n",
       "<style scoped>\n",
       "    .dataframe tbody tr th:only-of-type {\n",
       "        vertical-align: middle;\n",
       "    }\n",
       "\n",
       "    .dataframe tbody tr th {\n",
       "        vertical-align: top;\n",
       "    }\n",
       "\n",
       "    .dataframe thead th {\n",
       "        text-align: right;\n",
       "    }\n",
       "</style>\n",
       "<table border=\"1\" class=\"dataframe\">\n",
       "  <thead>\n",
       "    <tr style=\"text-align: right;\">\n",
       "      <th></th>\n",
       "      <th>var1</th>\n",
       "      <th>var2</th>\n",
       "    </tr>\n",
       "  </thead>\n",
       "  <tbody>\n",
       "    <tr>\n",
       "      <th>0</th>\n",
       "      <td>1</td>\n",
       "      <td>4</td>\n",
       "    </tr>\n",
       "    <tr>\n",
       "      <th>1</th>\n",
       "      <td>2</td>\n",
       "      <td>5</td>\n",
       "    </tr>\n",
       "    <tr>\n",
       "      <th>2</th>\n",
       "      <td>3</td>\n",
       "      <td>6</td>\n",
       "    </tr>\n",
       "  </tbody>\n",
       "</table>\n",
       "</div>"
      ],
      "text/plain": [
       "   var1  var2\n",
       "0     1     4\n",
       "1     2     5\n",
       "2     3     6"
      ]
     },
     "execution_count": 89,
     "metadata": {},
     "output_type": "execute_result"
    }
   ],
   "source": [
    "# 데이터 프레임 만들기\n",
    "import pandas as pd\n",
    "df = pd.DataFrame({'var1' : [1, 2, 3],\n",
    "                   'var2' : [4, 5, 6]})\n",
    "df"
   ]
  },
  {
   "cell_type": "code",
   "execution_count": 90,
   "id": "0acf7c0a",
   "metadata": {},
   "outputs": [
    {
     "data": {
      "text/plain": [
       "pandas.core.frame.DataFrame"
      ]
     },
     "execution_count": 90,
     "metadata": {},
     "output_type": "execute_result"
    }
   ],
   "source": [
    "type(df)"
   ]
  },
  {
   "cell_type": "code",
   "execution_count": 91,
   "id": "374c3085",
   "metadata": {},
   "outputs": [
    {
     "data": {
      "text/html": [
       "<div>\n",
       "<style scoped>\n",
       "    .dataframe tbody tr th:only-of-type {\n",
       "        vertical-align: middle;\n",
       "    }\n",
       "\n",
       "    .dataframe tbody tr th {\n",
       "        vertical-align: top;\n",
       "    }\n",
       "\n",
       "    .dataframe thead th {\n",
       "        text-align: right;\n",
       "    }\n",
       "</style>\n",
       "<table border=\"1\" class=\"dataframe\">\n",
       "  <thead>\n",
       "    <tr style=\"text-align: right;\">\n",
       "      <th></th>\n",
       "      <th>var1</th>\n",
       "      <th>var2</th>\n",
       "    </tr>\n",
       "  </thead>\n",
       "  <tbody>\n",
       "    <tr>\n",
       "      <th>kim</th>\n",
       "      <td>1</td>\n",
       "      <td>4</td>\n",
       "    </tr>\n",
       "    <tr>\n",
       "      <th>lee</th>\n",
       "      <td>2</td>\n",
       "      <td>5</td>\n",
       "    </tr>\n",
       "    <tr>\n",
       "      <th>park</th>\n",
       "      <td>3</td>\n",
       "      <td>6</td>\n",
       "    </tr>\n",
       "  </tbody>\n",
       "</table>\n",
       "</div>"
      ],
      "text/plain": [
       "      var1  var2\n",
       "kim      1     4\n",
       "lee      2     5\n",
       "park     3     6"
      ]
     },
     "execution_count": 91,
     "metadata": {},
     "output_type": "execute_result"
    }
   ],
   "source": [
    "# 인덱스 정하기\n",
    "df = pd.DataFrame({'var1' : [1, 2, 3],\n",
    "                   'var2' : [4, 5, 6]},\n",
    "                  index = ['kim', 'lee', 'park'])\n",
    "df"
   ]
  },
  {
   "cell_type": "code",
   "execution_count": 92,
   "id": "83c1ed06",
   "metadata": {},
   "outputs": [
    {
     "data": {
      "text/plain": [
       "kim     1\n",
       "lee     2\n",
       "park    3\n",
       "Name: var1, dtype: int64"
      ]
     },
     "execution_count": 92,
     "metadata": {},
     "output_type": "execute_result"
    }
   ],
   "source": [
    "x = df['var1']\n",
    "x"
   ]
  },
  {
   "cell_type": "code",
   "execution_count": 93,
   "id": "d6e93a52",
   "metadata": {},
   "outputs": [
    {
     "data": {
      "text/plain": [
       "pandas.core.series.Series"
      ]
     },
     "execution_count": 93,
     "metadata": {},
     "output_type": "execute_result"
    }
   ],
   "source": [
    "type(x)\n",
    "# 데이터 프레임을 구성하는 각각의 변수는 시리즈로 되어 있음"
   ]
  },
  {
   "cell_type": "markdown",
   "id": "66b4f829",
   "metadata": {},
   "source": [
    "### 자료 구조 바꾸기"
   ]
  },
  {
   "cell_type": "code",
   "execution_count": 94,
   "id": "2eed1beb",
   "metadata": {},
   "outputs": [
    {
     "ename": "AttributeError",
     "evalue": "'list' object has no attribute 'mean'",
     "output_type": "error",
     "traceback": [
      "\u001b[1;31m---------------------------------------------------------------------------\u001b[0m",
      "\u001b[1;31mAttributeError\u001b[0m                            Traceback (most recent call last)",
      "\u001b[1;32m~\\AppData\\Local\\Temp\\ipykernel_13488\\3887391513.py\u001b[0m in \u001b[0;36m<module>\u001b[1;34m\u001b[0m\n\u001b[0;32m      1\u001b[0m \u001b[0mx\u001b[0m \u001b[1;33m=\u001b[0m \u001b[1;33m[\u001b[0m\u001b[1;36m1\u001b[0m\u001b[1;33m,\u001b[0m \u001b[1;36m1\u001b[0m\u001b[1;33m,\u001b[0m \u001b[1;36m2\u001b[0m\u001b[1;33m,\u001b[0m \u001b[1;36m3\u001b[0m\u001b[1;33m]\u001b[0m\u001b[1;33m\u001b[0m\u001b[1;33m\u001b[0m\u001b[0m\n\u001b[1;32m----> 2\u001b[1;33m \u001b[0mx\u001b[0m\u001b[1;33m.\u001b[0m\u001b[0mmean\u001b[0m\u001b[1;33m(\u001b[0m\u001b[1;33m)\u001b[0m\u001b[1;33m\u001b[0m\u001b[1;33m\u001b[0m\u001b[0m\n\u001b[0m",
      "\u001b[1;31mAttributeError\u001b[0m: 'list' object has no attribute 'mean'"
     ]
    }
   ],
   "source": [
    "x = [1, 1, 2, 3]\n",
    "x.mean()"
   ]
  },
  {
   "cell_type": "code",
   "execution_count": 95,
   "id": "1fcadaab",
   "metadata": {},
   "outputs": [
    {
     "ename": "AttributeError",
     "evalue": "'list' object has no attribute 'value_counts'",
     "output_type": "error",
     "traceback": [
      "\u001b[1;31m---------------------------------------------------------------------------\u001b[0m",
      "\u001b[1;31mAttributeError\u001b[0m                            Traceback (most recent call last)",
      "\u001b[1;32m~\\AppData\\Local\\Temp\\ipykernel_13488\\2262089407.py\u001b[0m in \u001b[0;36m<module>\u001b[1;34m\u001b[0m\n\u001b[1;32m----> 1\u001b[1;33m \u001b[0mx\u001b[0m\u001b[1;33m.\u001b[0m\u001b[0mvalue_counts\u001b[0m\u001b[1;33m(\u001b[0m\u001b[1;33m)\u001b[0m\u001b[1;33m\u001b[0m\u001b[1;33m\u001b[0m\u001b[0m\n\u001b[0m",
      "\u001b[1;31mAttributeError\u001b[0m: 'list' object has no attribute 'value_counts'"
     ]
    }
   ],
   "source": [
    "x.value_counts()"
   ]
  },
  {
   "cell_type": "code",
   "execution_count": 96,
   "id": "886cf633",
   "metadata": {},
   "outputs": [
    {
     "data": {
      "text/plain": [
       "pandas.core.frame.DataFrame"
      ]
     },
     "execution_count": 96,
     "metadata": {},
     "output_type": "execute_result"
    }
   ],
   "source": [
    "# 데이터 프레임으로 바꾸기\n",
    "df_x = pd.DataFrame(x)\n",
    "type(df_x)"
   ]
  },
  {
   "cell_type": "code",
   "execution_count": 97,
   "id": "5b462095",
   "metadata": {},
   "outputs": [
    {
     "data": {
      "text/plain": [
       "0    1.75\n",
       "dtype: float64"
      ]
     },
     "execution_count": 97,
     "metadata": {},
     "output_type": "execute_result"
    }
   ],
   "source": [
    "df_x.mean()"
   ]
  },
  {
   "cell_type": "code",
   "execution_count": 98,
   "id": "99a3c51b",
   "metadata": {},
   "outputs": [
    {
     "data": {
      "text/plain": [
       "1    2\n",
       "2    1\n",
       "3    1\n",
       "dtype: int64"
      ]
     },
     "execution_count": 98,
     "metadata": {},
     "output_type": "execute_result"
    }
   ],
   "source": [
    "df_x.value_counts()"
   ]
  },
  {
   "cell_type": "markdown",
   "id": "d0eb80e1",
   "metadata": {},
   "source": [
    "- list() : 리스트\n",
    "- tuple() : 튜플\n",
    "- dict() : 딕셔너리\n",
    "- pd.Series() : 시리즈\n",
    "- pd.DataFrame() : 데이터 프레임"
   ]
  },
  {
   "cell_type": "markdown",
   "id": "ebce70dc",
   "metadata": {},
   "source": [
    "### 중첩 자료 구조\n",
    "#### 자료 구조 내부에 또 다른 자료 구조를 넣어 여러 단계로 중첩"
   ]
  },
  {
   "cell_type": "code",
   "execution_count": 99,
   "id": "8b1419ff",
   "metadata": {},
   "outputs": [
    {
     "data": {
      "text/plain": [
       "[1, 2, [4, 5, 6], 3]"
      ]
     },
     "execution_count": 99,
     "metadata": {},
     "output_type": "execute_result"
    }
   ],
   "source": [
    "x1 = [1, 2, [4, 5, 6], 3]\n",
    "x1"
   ]
  },
  {
   "cell_type": "code",
   "execution_count": 100,
   "id": "438cbb73",
   "metadata": {},
   "outputs": [
    {
     "data": {
      "text/plain": [
       "[4, 5, 6]"
      ]
     },
     "execution_count": 100,
     "metadata": {},
     "output_type": "execute_result"
    }
   ],
   "source": [
    "x1[2]"
   ]
  },
  {
   "cell_type": "code",
   "execution_count": 101,
   "id": "5426a9b5",
   "metadata": {},
   "outputs": [
    {
     "data": {
      "text/plain": [
       "4"
      ]
     },
     "execution_count": 101,
     "metadata": {},
     "output_type": "execute_result"
    }
   ],
   "source": [
    "x1[2][0]"
   ]
  },
  {
   "cell_type": "code",
   "execution_count": 102,
   "id": "7d571be8",
   "metadata": {},
   "outputs": [],
   "source": [
    "nested_list = [1, 2, (4, 5, 6), 3]\n",
    "nested_tuple = (1, 2, [4, 5, 6], 3)\n",
    "nested_dic = {'score' : {'math' : 1, 'english' : 2}}\n",
    "nested_series = pd.Series([1, 2, [4, 5, 6], 3])\n",
    "nested_df = pd.DataFrame({'x' : [1, 2, [4, 5, 6], 3]})"
   ]
  }
 ],
 "metadata": {
  "kernelspec": {
   "display_name": "Python 3 (ipykernel)",
   "language": "python",
   "name": "python3"
  },
  "language_info": {
   "codemirror_mode": {
    "name": "ipython",
    "version": 3
   },
   "file_extension": ".py",
   "mimetype": "text/x-python",
   "name": "python",
   "nbconvert_exporter": "python",
   "pygments_lexer": "ipython3",
   "version": "3.9.13"
  }
 },
 "nbformat": 4,
 "nbformat_minor": 5
}
